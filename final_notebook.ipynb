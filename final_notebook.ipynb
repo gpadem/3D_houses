{
 "cells": [
  {
   "cell_type": "code",
   "execution_count": 57,
   "id": "secondary-contractor",
   "metadata": {},
   "outputs": [],
   "source": [
    "import os\n",
    "import numpy as np\n",
    "import pandas as pd\n",
    "import matplotlib.pyplot as plt\n",
    "import rasterio\n",
    "from rasterio.mask import mask\n",
    "from rasterio import plot\n",
    "from rasterio.plot import show\n",
    "import requests\n",
    "import json\n",
    "import plotly.graph_objects as go\n",
    "\n",
    "%matplotlib inline"
   ]
  },
  {
   "cell_type": "markdown",
   "id": "still-clock",
   "metadata": {},
   "source": [
    "# Get the address"
   ]
  },
  {
   "cell_type": "code",
   "execution_count": 58,
   "id": "funny-danish",
   "metadata": {},
   "outputs": [
    {
     "name": "stdout",
     "output_type": "stream",
     "text": [
      "Due to connection problems please choose an address from the zones 1,3,7,22,43. Thank you for your understanding.\n",
      "Enter the postcode of the address and hit enter: 9260\n",
      "Enter the streetname of the address and hit enter: Bohemen\n",
      "Enter the house number of the address and hit enter: 101\n"
     ]
    }
   ],
   "source": [
    "introduction_message = print(\"Due to connection problems please choose an address from the zones 1,3,7,22,43. Thank you for your understanding.\")\n",
    "postcode = input(\"Enter the postcode of the address and hit enter: \")\n",
    "streetname = input(\"Enter the streetname of the address and hit enter: \")\n",
    "house_number = input(\"Enter the house number of the address and hit enter: \")"
   ]
  },
  {
   "cell_type": "code",
   "execution_count": 59,
   "id": "trained-steering",
   "metadata": {},
   "outputs": [
    {
     "name": "stdout",
     "output_type": "stream",
     "text": [
      "Postcode:  9260\n",
      "Streetname:  Bohemen\n",
      "House number:  101\n"
     ]
    }
   ],
   "source": [
    "#Double-check the address\n",
    "print(\"Postcode: \", postcode)\n",
    "print(\"Streetname: \", streetname)\n",
    "print(\"House number: \", house_number)"
   ]
  },
  {
   "cell_type": "code",
   "execution_count": 60,
   "id": "general-overall",
   "metadata": {},
   "outputs": [
    {
     "name": "stdout",
     "output_type": "stream",
     "text": [
      "{'adresMatches': [{'identificator': {'id': 'https://data.vlaanderen.be/id/adres/1555773', 'naamruimte': 'https://data.vlaanderen.be/id/adres', 'objectId': '1555773', 'versieId': '2016-01-28T10:15:07+01:00'}, 'detail': 'https://api.basisregisters.vlaanderen.be/v1/adressen/1555773', 'gemeente': {'objectId': '42026', 'detail': 'https://api.basisregisters.vlaanderen.be/v1/gemeenten/42026', 'gemeentenaam': {'geografischeNaam': {'spelling': 'Wichelen', 'taal': 'nl'}}}, 'postinfo': {'objectId': '9260', 'detail': 'https://api.basisregisters.vlaanderen.be/v1/postinfo/9260'}, 'straatnaam': {'objectId': '66426', 'detail': 'https://api.basisregisters.vlaanderen.be/v1/straatnamen/66426', 'straatnaam': {'geografischeNaam': {'spelling': 'Bohemen', 'taal': 'nl'}}}, 'huisnummer': '101', 'volledigAdres': {'geografischeNaam': {'spelling': 'Bohemen 101, 9260 Wichelen', 'taal': 'nl'}}, 'adresPositie': {'point': {'coordinates': [123321.93, 188067.28], 'type': 'Point'}}, 'positieSpecificatie': 'gebouweenheid', 'positieGeometrieMethode': 'aangeduidDoorBeheerder', 'adresStatus': 'inGebruik', 'officieelToegekend': True, 'adresseerbareObjecten': [{'objectType': 'gebouweenheid', 'objectId': '19495522', 'detail': 'https://api.basisregisters.vlaanderen.be/v1/gebouweenheden/19495522'}, {'objectType': 'perceel', 'objectId': '42026B0573-00T000', 'detail': 'https://api.basisregisters.vlaanderen.be/v1/percelen/42026B0573-00T000'}], 'score': 100.0}, {'identificator': {'id': 'https://data.vlaanderen.be/id/adres/1183397', 'naamruimte': 'https://data.vlaanderen.be/id/adres', 'objectId': '1183397', 'versieId': '2016-03-03T10:57:24+01:00'}, 'detail': 'https://api.basisregisters.vlaanderen.be/v1/adressen/1183397', 'gemeente': {'objectId': '42026', 'detail': 'https://api.basisregisters.vlaanderen.be/v1/gemeenten/42026', 'gemeentenaam': {'geografischeNaam': {'spelling': 'Wichelen', 'taal': 'nl'}}}, 'postinfo': {'objectId': '9260', 'detail': 'https://api.basisregisters.vlaanderen.be/v1/postinfo/9260'}, 'straatnaam': {'objectId': '66426', 'detail': 'https://api.basisregisters.vlaanderen.be/v1/straatnamen/66426', 'straatnaam': {'geografischeNaam': {'spelling': 'Bohemen', 'taal': 'nl'}}}, 'huisnummer': '101A', 'volledigAdres': {'geografischeNaam': {'spelling': 'Bohemen 101A, 9260 Wichelen', 'taal': 'nl'}}, 'adresPositie': {'point': {'coordinates': [123569.73, 188051.89], 'type': 'Point'}}, 'positieSpecificatie': 'gebouweenheid', 'positieGeometrieMethode': 'aangeduidDoorBeheerder', 'adresStatus': 'inGebruik', 'officieelToegekend': True, 'adresseerbareObjecten': [{'objectType': 'gebouweenheid', 'objectId': '7730238', 'detail': 'https://api.basisregisters.vlaanderen.be/v1/gebouweenheden/7730238'}, {'objectType': 'perceel', 'objectId': '42026C0001-00H000', 'detail': 'https://api.basisregisters.vlaanderen.be/v1/percelen/42026C0001-00H000'}], 'score': 97.93388429752065}, {'identificator': {'id': 'https://data.vlaanderen.be/id/adres/3825568', 'naamruimte': 'https://data.vlaanderen.be/id/adres', 'objectId': '3825568', 'versieId': '2016-02-04T10:16:44+01:00'}, 'detail': 'https://api.basisregisters.vlaanderen.be/v1/adressen/3825568', 'gemeente': {'objectId': '42026', 'detail': 'https://api.basisregisters.vlaanderen.be/v1/gemeenten/42026', 'gemeentenaam': {'geografischeNaam': {'spelling': 'Wichelen', 'taal': 'nl'}}}, 'postinfo': {'objectId': '9260', 'detail': 'https://api.basisregisters.vlaanderen.be/v1/postinfo/9260'}, 'straatnaam': {'objectId': '66426', 'detail': 'https://api.basisregisters.vlaanderen.be/v1/straatnamen/66426', 'straatnaam': {'geografischeNaam': {'spelling': 'Bohemen', 'taal': 'nl'}}}, 'huisnummer': '101B', 'volledigAdres': {'geografischeNaam': {'spelling': 'Bohemen 101B, 9260 Wichelen', 'taal': 'nl'}}, 'adresPositie': {'point': {'coordinates': [123630.72, 188081.72], 'type': 'Point'}}, 'positieSpecificatie': 'gebouweenheid', 'positieGeometrieMethode': 'aangeduidDoorBeheerder', 'adresStatus': 'inGebruik', 'officieelToegekend': True, 'adresseerbareObjecten': [{'objectType': 'gebouweenheid', 'objectId': '19497009', 'detail': 'https://api.basisregisters.vlaanderen.be/v1/gebouweenheden/19497009'}, {'objectType': 'perceel', 'objectId': '42026C0003-00R000', 'detail': 'https://api.basisregisters.vlaanderen.be/v1/percelen/42026C0003-00R000'}], 'score': 97.93388429752065}, {'identificator': {'id': 'https://data.vlaanderen.be/id/adres/1177891', 'naamruimte': 'https://data.vlaanderen.be/id/adres', 'objectId': '1177891', 'versieId': '2016-02-01T10:24:37+01:00'}, 'detail': 'https://api.basisregisters.vlaanderen.be/v1/adressen/1177891', 'gemeente': {'objectId': '42026', 'detail': 'https://api.basisregisters.vlaanderen.be/v1/gemeenten/42026', 'gemeentenaam': {'geografischeNaam': {'spelling': 'Wichelen', 'taal': 'nl'}}}, 'postinfo': {'objectId': '9260', 'detail': 'https://api.basisregisters.vlaanderen.be/v1/postinfo/9260'}, 'straatnaam': {'objectId': '66426', 'detail': 'https://api.basisregisters.vlaanderen.be/v1/straatnamen/66426', 'straatnaam': {'geografischeNaam': {'spelling': 'Bohemen', 'taal': 'nl'}}}, 'huisnummer': '101C', 'volledigAdres': {'geografischeNaam': {'spelling': 'Bohemen 101C, 9260 Wichelen', 'taal': 'nl'}}, 'adresPositie': {'point': {'coordinates': [123601.46, 188057.15], 'type': 'Point'}}, 'positieSpecificatie': 'gebouweenheid', 'positieGeometrieMethode': 'aangeduidDoorBeheerder', 'adresStatus': 'inGebruik', 'officieelToegekend': True, 'adresseerbareObjecten': [{'objectType': 'gebouweenheid', 'objectId': '7865978', 'detail': 'https://api.basisregisters.vlaanderen.be/v1/gebouweenheden/7865978'}, {'objectType': 'perceel', 'objectId': '42026C0003-00H000', 'detail': 'https://api.basisregisters.vlaanderen.be/v1/percelen/42026C0003-00H000'}], 'score': 97.93388429752065}, {'identificator': {'id': 'https://data.vlaanderen.be/id/adres/3825572', 'naamruimte': 'https://data.vlaanderen.be/id/adres', 'objectId': '3825572', 'versieId': '2016-02-01T10:24:37+01:00'}, 'detail': 'https://api.basisregisters.vlaanderen.be/v1/adressen/3825572', 'gemeente': {'objectId': '42026', 'detail': 'https://api.basisregisters.vlaanderen.be/v1/gemeenten/42026', 'gemeentenaam': {'geografischeNaam': {'spelling': 'Wichelen', 'taal': 'nl'}}}, 'postinfo': {'objectId': '9260', 'detail': 'https://api.basisregisters.vlaanderen.be/v1/postinfo/9260'}, 'straatnaam': {'objectId': '66426', 'detail': 'https://api.basisregisters.vlaanderen.be/v1/straatnamen/66426', 'straatnaam': {'geografischeNaam': {'spelling': 'Bohemen', 'taal': 'nl'}}}, 'huisnummer': '101D', 'volledigAdres': {'geografischeNaam': {'spelling': 'Bohemen 101D, 9260 Wichelen', 'taal': 'nl'}}, 'adresPositie': {'point': {'coordinates': [123604.98, 188113.33], 'type': 'Point'}}, 'positieSpecificatie': 'gebouweenheid', 'positieGeometrieMethode': 'aangeduidDoorBeheerder', 'adresStatus': 'inGebruik', 'officieelToegekend': True, 'adresseerbareObjecten': [{'objectType': 'gebouweenheid', 'objectId': '19497010', 'detail': 'https://api.basisregisters.vlaanderen.be/v1/gebouweenheden/19497010'}, {'objectType': 'perceel', 'objectId': '42026C0003-00N000', 'detail': 'https://api.basisregisters.vlaanderen.be/v1/percelen/42026C0003-00N000'}], 'score': 97.93388429752065}], 'warnings': []}\n"
     ]
    }
   ],
   "source": [
    "#Get a request from the API to get information about the object id of the single house entity\n",
    "r = requests.get(\n",
    "    \"https://api.basisregisters.vlaanderen.be/v1/adresmatch\", params={\"postcode\":int(postcode), \"straatnaam\":streetname, \"huisnummer\":int(house_number) }\n",
    ")\n",
    "house_info_nested = json.loads(r.content)\n",
    "house_info_nested"
   ]
  },
  {
   "cell_type": "code",
   "execution_count": 61,
   "id": "grand-forty",
   "metadata": {},
   "outputs": [
    {
     "data": {
      "text/plain": [
       "dict"
      ]
     },
     "execution_count": 61,
     "metadata": {},
     "output_type": "execute_result"
    }
   ],
   "source": [
    "type(house_info_nested)"
   ]
  },
  {
   "cell_type": "code",
   "execution_count": 62,
   "id": "rental-exhibit",
   "metadata": {},
   "outputs": [],
   "source": [
    "house_info = pd.json_normalize(house_info_nested)"
   ]
  },
  {
   "cell_type": "code",
   "execution_count": 63,
   "id": "vocational-agriculture",
   "metadata": {},
   "outputs": [
    {
     "name": "stdout",
     "output_type": "stream",
     "text": [
      "                                              detail huisnummer  \\\n",
      "0  https://api.basisregisters.vlaanderen.be/v1/ad...        101   \n",
      "\n",
      "  positieSpecificatie positieGeometrieMethode adresStatus  officieelToegekend  \\\n",
      "0       gebouweenheid  aangeduidDoorBeheerder   inGebruik                True   \n",
      "\n",
      "                               adresseerbareObjecten  score  \\\n",
      "0  [{'objectType': 'gebouweenheid', 'objectId': '...  100.0   \n",
      "\n",
      "                              identificator.id  \\\n",
      "0  https://data.vlaanderen.be/id/adres/1555773   \n",
      "\n",
      "              identificator.naamruimte  ... postinfo.objectId  \\\n",
      "0  https://data.vlaanderen.be/id/adres  ...              9260   \n",
      "\n",
      "                                     postinfo.detail straatnaam.objectId  \\\n",
      "0  https://api.basisregisters.vlaanderen.be/v1/po...               66426   \n",
      "\n",
      "                                   straatnaam.detail  \\\n",
      "0  https://api.basisregisters.vlaanderen.be/v1/st...   \n",
      "\n",
      "  straatnaam.straatnaam.geografischeNaam.spelling  \\\n",
      "0                                         Bohemen   \n",
      "\n",
      "  straatnaam.straatnaam.geografischeNaam.taal  \\\n",
      "0                                          nl   \n",
      "\n",
      "  volledigAdres.geografischeNaam.spelling volledigAdres.geografischeNaam.taal  \\\n",
      "0              Bohemen 101, 9260 Wichelen                                  nl   \n",
      "\n",
      "  adresPositie.point.coordinates adresPositie.point.type  \n",
      "0         [123321.93, 188067.28]                   Point  \n",
      "\n",
      "[1 rows x 26 columns]\n"
     ]
    }
   ],
   "source": [
    "df = pd.json_normalize(house_info.adresMatches[0][0])\n",
    "df"
   ]
  },
  {
   "cell_type": "code",
   "execution_count": 64,
   "id": "federal-roulette",
   "metadata": {},
   "outputs": [
    {
     "data": {
      "text/html": [
       "<div>\n",
       "<style scoped>\n",
       "    .dataframe tbody tr th:only-of-type {\n",
       "        vertical-align: middle;\n",
       "    }\n",
       "\n",
       "    .dataframe tbody tr th {\n",
       "        vertical-align: top;\n",
       "    }\n",
       "\n",
       "    .dataframe thead th {\n",
       "        text-align: right;\n",
       "    }\n",
       "</style>\n",
       "<table border=\"1\" class=\"dataframe\">\n",
       "  <thead>\n",
       "    <tr style=\"text-align: right;\">\n",
       "      <th></th>\n",
       "      <th>objectType</th>\n",
       "      <th>objectId</th>\n",
       "      <th>detail</th>\n",
       "    </tr>\n",
       "  </thead>\n",
       "  <tbody>\n",
       "    <tr>\n",
       "      <th>0</th>\n",
       "      <td>gebouweenheid</td>\n",
       "      <td>19495522</td>\n",
       "      <td>https://api.basisregisters.vlaanderen.be/v1/ge...</td>\n",
       "    </tr>\n",
       "  </tbody>\n",
       "</table>\n",
       "</div>"
      ],
      "text/plain": [
       "      objectType  objectId                                             detail\n",
       "0  gebouweenheid  19495522  https://api.basisregisters.vlaanderen.be/v1/ge..."
      ]
     },
     "execution_count": 64,
     "metadata": {},
     "output_type": "execute_result"
    }
   ],
   "source": [
    "dff = pd.json_normalize(df.adresseerbareObjecten[0][0])\n",
    "dff"
   ]
  },
  {
   "cell_type": "code",
   "execution_count": 65,
   "id": "magnetic-dimension",
   "metadata": {},
   "outputs": [
    {
     "data": {
      "text/plain": [
       "'https://api.basisregisters.vlaanderen.be/v1/gebouweenheden/19495522'"
      ]
     },
     "execution_count": 65,
     "metadata": {},
     "output_type": "execute_result"
    }
   ],
   "source": [
    "dff.detail[0]"
   ]
  },
  {
   "cell_type": "code",
   "execution_count": 66,
   "id": "engaging-farmer",
   "metadata": {},
   "outputs": [],
   "source": [
    "house_info = pd.json_normalize(house_info_nested)\n",
    "df = pd.json_normalize(house_info.adresMatches[0][0])\n",
    "dff = pd.json_normalize(df.adresseerbareObjecten[0][0])"
   ]
  },
  {
   "cell_type": "code",
   "execution_count": 67,
   "id": "expected-scheduling",
   "metadata": {},
   "outputs": [
    {
     "name": "stdout",
     "output_type": "stream",
     "text": [
      "{'identificator': {'id': 'https://data.vlaanderen.be/id/gebouweenheid/19495522', 'naamruimte': 'https://data.vlaanderen.be/id/gebouweenheid', 'objectId': '19495522', 'versieId': '2018-03-03T08:58:46+01:00'}, 'geometriePunt': {'point': {'coordinates': [123321.93, 188067.28], 'type': 'Point'}}, 'positieGeometrieMethode': 'aangeduidDoorBeheerder', 'gebouweenheidStatus': 'gerealiseerd', 'functie': 'nietGekend', 'gebouw': {'objectId': '19495503', 'detail': 'https://api.basisregisters.vlaanderen.be/v1/gebouwen/19495503'}, 'adressen': [{'objectId': '1555773', 'detail': 'https://api.basisregisters.vlaanderen.be/v1/adressen/1555773'}]}\n"
     ]
    }
   ],
   "source": [
    "#Get a request from the API to get information about the object id of the building\n",
    "r = requests.get(dff.detail[0])\n",
    "house_gebouweenheden_nested = json.loads(r.content)\n",
    "house_gebouweenheden_nested"
   ]
  },
  {
   "cell_type": "code",
   "execution_count": 68,
   "id": "downtown-testament",
   "metadata": {},
   "outputs": [],
   "source": [
    "house_gebouweenheden = pd.json_normalize(house_gebouweenheden_nested)\n",
    "url_gebouwen = house_gebouweenheden['gebouw.detail'][0]"
   ]
  },
  {
   "cell_type": "code",
   "execution_count": 69,
   "id": "spoken-living",
   "metadata": {},
   "outputs": [],
   "source": [
    "#Get a request from the API to get information about the polygon\n",
    "r = requests.get(url_gebouwen)\n",
    "house_gebouw_nested = json.loads(r.content)\n",
    "house_polygon_nested = house_gebouw_nested[\"geometriePolygoon\"]\n",
    "house_polygon = house_polygon_nested.get('polygon')"
   ]
  },
  {
   "cell_type": "code",
   "execution_count": 70,
   "id": "another-nicaragua",
   "metadata": {},
   "outputs": [
    {
     "data": {
      "text/plain": [
       "{'coordinates': [[[123334.21554481983, 188081.20966860652],\n",
       "   [123332.29189682007, 188082.01811660826],\n",
       "   [123334.25260081887, 188086.7725486122],\n",
       "   [123326.04229681194, 188090.1687726155],\n",
       "   [123315.99212080985, 188066.10208459944],\n",
       "   [123318.35896880925, 188065.11123659834],\n",
       "   [123318.15698481351, 188064.60858059675],\n",
       "   [123306.56479280442, 188069.49203659967],\n",
       "   [123303.2328248024, 188061.17728459463],\n",
       "   [123313.01330480725, 188057.09619659185],\n",
       "   [123319.71455281228, 188054.27635658905],\n",
       "   [123321.4337208122, 188053.55347659066],\n",
       "   [123322.00293681026, 188053.31411658973],\n",
       "   [123325.92018481344, 188062.6379565969],\n",
       "   [123326.3372728154, 188062.46272459626],\n",
       "   [123334.21554481983, 188081.20966860652]]],\n",
       " 'type': 'Polygon'}"
      ]
     },
     "execution_count": 70,
     "metadata": {},
     "output_type": "execute_result"
    }
   ],
   "source": [
    "house_polygon"
   ]
  },
  {
   "cell_type": "code",
   "execution_count": 71,
   "id": "canadian-resident",
   "metadata": {},
   "outputs": [],
   "source": [
    "house_gebouw = pd.json_normalize(house_gebouw_nested)\n",
    "house_polygon_list = house_gebouw['geometriePolygoon.polygon.coordinates'][0]"
   ]
  },
  {
   "cell_type": "code",
   "execution_count": 72,
   "id": "polished-taiwan",
   "metadata": {},
   "outputs": [
    {
     "data": {
      "image/png": "[encoded data removed]",
      "text/plain": [
       "<Figure size 432x288 with 1 Axes>"
      ]
     },
     "metadata": {
      "needs_background": "light"
     },
     "output_type": "display_data"
    }
   ],
   "source": [
    "#Make a closed loop of the polygon\n",
    "house_polygon_list[0].append((house_polygon_list[0])[0])\n",
    "\n",
    "#Create lists of x and y values of the polygon\n",
    "xs, ys = zip(*house_polygon_list[0]) #create lists of x and y values\n",
    "\n",
    "#Plot the shape of the polygon to see what we can expect as the shape of the house\n",
    "plt.figure()\n",
    "plt.plot(xs,ys) \n",
    "plt.show()"
   ]
  },
  {
   "cell_type": "code",
   "execution_count": 73,
   "id": "alleged-picnic",
   "metadata": {},
   "outputs": [],
   "source": [
    "#Create min and max x and y coordinates for the house\n",
    "x_min_house = min(xs)\n",
    "x_max_house = max(xs)\n",
    "y_min_house = min(ys)\n",
    "y_max_house = max(ys)"
   ]
  },
  {
   "cell_type": "code",
   "execution_count": 74,
   "id": "average-vertical",
   "metadata": {},
   "outputs": [],
   "source": [
    "#Create the bounds of the zones\n",
    "'''\n",
    "It is important to notice that the file path seen here is the used file path in the local computer this code was produced. \n",
    "Please change this to your local folder and file names to be able to run the code.\n",
    "'''\n",
    "df_zone_bounds = pd.DataFrame(columns = ['xmin', 'ymin', 'xmax', 'ymax', 'zone'])\n",
    "for zone in range(1,43):\n",
    "    if zone < 10:\n",
    "        if os.path.isfile('C:/Users/gulce/geoproject/k/DHMVIIDSMRAS1m_k0'+str(zone)+'.tif'):\n",
    "            file = 'C:/Users/gulce/geoproject/k/DHMVIIDSMRAS1m_k0'+str(zone)+'.tif'\n",
    "            raster = rasterio.open(file)\n",
    "            xmin = raster.bounds.left\n",
    "            ymin = raster.bounds.bottom\n",
    "            xmax = raster.bounds.right\n",
    "            ymax = raster.bounds.top\n",
    "            bound = pd.DataFrame([[xmin, ymin, xmax, ymax, zone]], columns = ['xmin', 'ymin', 'xmax', 'ymax', 'zone'])\n",
    "            df = pd.concat([df, bound])\n",
    "    else:\n",
    "        if os.path.isfile('C:/Users/gulce/geoproject/k/DHMVIIDSMRAS1m_k'+str(zone)+'.tif'):\n",
    "            file = 'C:/Users/gulce/geoproject/k/DHMVIIDSMRAS1m_k'+str(zone)+'.tif'\n",
    "            raster = rasterio.open(file)\n",
    "            xmin = raster.bounds.left\n",
    "            ymin = raster.bounds.bottom\n",
    "            xmax = raster.bounds.right\n",
    "            ymax = raster.bounds.top\n",
    "            bound = pd.DataFrame([[xmin, ymin, xmax, ymax, zone]], columns = ['xmin', 'ymin', 'xmax', 'ymax', 'zone'])\n",
    "            df = pd.concat([df, bound])"
   ]
  },
  {
   "cell_type": "code",
   "execution_count": 75,
   "id": "fancy-controversy",
   "metadata": {},
   "outputs": [],
   "source": [
    "#Reset the index of teh dataframe\n",
    "df.reset_index(drop=True, inplace=True)"
   ]
  },
  {
   "cell_type": "code",
   "execution_count": 76,
   "id": "accessible-great",
   "metadata": {},
   "outputs": [],
   "source": [
    "#Compare the zone bounds with the house bounds to see if the house is in the zone\n",
    "zone_bounds = df[(df['xmin']<x_min_house) & (df['xmax']>x_max_house) & (df['ymin']<y_min_house) & (df['ymax']>y_max_house)]"
   ]
  },
  {
   "cell_type": "code",
   "execution_count": 77,
   "id": "golden-melbourne",
   "metadata": {},
   "outputs": [
    {
     "name": "stdout",
     "output_type": "stream",
     "text": [
      "22\n"
     ]
    }
   ],
   "source": [
    "#Print the zone number of the house\n",
    "zone_number = int(zone_bounds.zone.iloc[0])\n",
    "print(zone_number)"
   ]
  },
  {
   "cell_type": "code",
   "execution_count": 78,
   "id": "august-wealth",
   "metadata": {},
   "outputs": [],
   "source": [
    "#Mask and crop the DSM and DTM files from the zone\n",
    "'''\n",
    "It is important to notice that the file path seen here is the used file path in the local computer this code was produced. \n",
    "Please change this to your local folder and file names to be able to run the code.\n",
    "'''\n",
    "if zone_number < 10:\n",
    "    if os.path.isfile('C:/Users/gulce/geoproject/k/DHMVIIDSMRAS1m_k0'+str(zone_number)+'.tif') and os.path.isfile('C:/Users/gulce/geoproject/k/DHMVIIDTMRAS1m_k0'+str(zone_number)+'.tif') :\n",
    "        dsm_file = 'C:/Users/gulce/geoproject/k/DHMVIIDSMRAS1m_k0'+str(zone_number)+'.tif'\n",
    "        with rasterio.open(dsm_file) as src_dsm:\n",
    "            out_img_dsm, out_transform_dsm = rasterio.mask.mask(src_dsm, [house_polygon], crop=True)\n",
    "            dsm = out_img_dsm[0]\n",
    "        dtm_file = 'C:/Users/gulce/geoproject/k/DHMVIIDTMRAS1m_k0'+str(zone_number)+'.tif'\n",
    "        with rasterio.open(dtm_file) as src_dtm:\n",
    "            out_img_dsm, out_transform_dsm = rasterio.mask.mask(src_dtm, [house_polygon], crop=True)\n",
    "            dtm = out_img_dtm[0]\n",
    "else:\n",
    "    if os.path.isfile('C:/Users/gulce/geoproject/k/DHMVIIDSMRAS1m_k'+str(zone_number)+'.tif') and os.path.isfile('C:/Users/gulce/geoproject/k/DHMVIIDTMRAS1m_k'+str(zone_number)+'.tif'):\n",
    "        dsm_file = 'C:/Users/gulce/geoproject/k/DHMVIIDSMRAS1m_k'+str(zone_number)+'.tif'\n",
    "        with rasterio.open(dsm_file) as src_dsm:\n",
    "            out_img_dsm, out_transform_dsm = rasterio.mask.mask(src_dsm, [house_polygon], crop=True)\n",
    "            dsm = out_img_dsm[0]\n",
    "        dtm_file = 'C:/Users/gulce/geoproject/k/DHMVIIDTMRAS1m_k'+str(zone_number)+'.tif'\n",
    "        with rasterio.open(dtm_file) as src_dtm:\n",
    "            out_img_dtm, out_transform_dtm = rasterio.mask.mask(src_dtm, [house_polygon], crop=True)\n",
    "            dtm = out_img_dtm[0]"
   ]
  },
  {
   "cell_type": "code",
   "execution_count": 79,
   "id": "iraqi-robin",
   "metadata": {},
   "outputs": [],
   "source": [
    "#Calculate the masked Canopy Height Model of the address\n",
    "chm_masked = dsm - dtm"
   ]
  },
  {
   "cell_type": "code",
   "execution_count": 80,
   "id": "liquid-stroke",
   "metadata": {},
   "outputs": [
    {
     "name": "stdout",
     "output_type": "stream",
     "text": [
      "<class 'numpy.ndarray'>\n"
     ]
    }
   ],
   "source": [
    "print(type(chm_masked))"
   ]
  },
  {
   "cell_type": "code",
   "execution_count": 81,
   "id": "subject-hanging",
   "metadata": {},
   "outputs": [
    {
     "name": "stdout",
     "output_type": "stream",
     "text": [
      "[[0. 0. 0. ... 0. 0. 0.]\n",
      " [0. 0. 0. ... 0. 0. 0.]\n",
      " [0. 0. 0. ... 0. 0. 0.]\n",
      " ...\n",
      " [0. 0. 0. ... 0. 0. 0.]\n",
      " [0. 0. 0. ... 0. 0. 0.]\n",
      " [0. 0. 0. ... 0. 0. 0.]]\n"
     ]
    }
   ],
   "source": [
    "print(chm_masked)"
   ]
  },
  {
   "cell_type": "code",
   "execution_count": 82,
   "id": "celtic-binding",
   "metadata": {},
   "outputs": [
    {
     "data": {
      "image/png": "[encoded data removed]",
      "text/plain": [
       "<Figure size 720x360 with 1 Axes>"
      ]
     },
     "metadata": {
      "needs_background": "light"
     },
     "output_type": "display_data"
    }
   ],
   "source": [
    "#Plot the 2D model of the house\n",
    "fig, ax = plt.subplots(figsize=(10, 5))\n",
    "\n",
    "chm_plot = ax.imshow(chm_masked)\n",
    "\n",
    "ax.set_title(\"Lidar Canopy Height Model (CHM)\")\n",
    "\n",
    "\n",
    "plt.show()\n"
   ]
  },
  {
   "cell_type": "code",
   "execution_count": 83,
   "id": "arbitrary-school",
   "metadata": {},
   "outputs": [
    {
     "data": {
      "application/vnd.plotly.v1+json": {
       "config": {
        "plotlyServerURL": "https://plot.ly"
       },
       "data": [
        {
         "type": "surface",
         "z": [
          [
           0,
           0,
           0,
           0,
           0,
           0,
           0,
           0,
           0,
           0,
           0,
           0,
           0,
           0,
           0,
           0,
           0,
           0,
           0,
           0,
           0,
           0,
           0,
           0,
           0,
           0,
           0,
           0,
           0,
           0,
           0,
           0
          ],
          [
           0,
           0,
           0,
           0,
           0,
           0,
           0,
           0,
           0,
           0,
           0,
           0,
           0,
           0,
           0,
           0,
           0,
           0,
           0,
           0,
           0,
           0,
           0,
           2.0399999618530273,
           2.640000343322754,
           0,
           0,
           0,
           0,
           0,
           0,
           0
          ],
          [
           0,
           0,
           0,
           0,
           0,
           0,
           0,
           0,
           0,
           0,
           0,
           0,
           0,
           0,
           0,
           0,
           0,
           0,
           0,
           0,
           0,
           0,
           3.390000343322754,
           3.760000228881836,
           3.75,
           3.390000343322754,
           1.869999885559082,
           0,
           0,
           0,
           0,
           0
          ],
          [
           0,
           0,
           0,
           0,
           0,
           0,
           0,
           0,
           0,
           0,
           0,
           0,
           0,
           0,
           0,
           0,
           0,
           0,
           0,
           0,
           0,
           0,
           3.3299999237060547,
           4.059999465942383,
           4.550000190734863,
           4.199999809265137,
           3.880000114440918,
           3.5399999618530273,
           1.6499996185302734,
           0,
           0,
           0
          ],
          [
           0,
           0,
           0,
           0,
           0,
           0,
           0,
           0,
           0,
           0,
           0,
           0,
           0,
           0,
           0,
           0,
           0,
           0,
           0,
           0,
           0,
           0,
           3.6000003814697266,
           4.420000076293945,
           5.239999771118164,
           4.979999542236328,
           4.630000114440918,
           4.289999961853027,
           4,
           3.630000114440918,
           2.0399999618530273,
           0
          ],
          [
           0,
           0,
           0,
           0,
           0,
           0,
           0,
           0,
           0,
           0,
           0,
           0,
           0,
           0,
           0,
           0,
           0,
           0,
           0,
           0,
           0,
           1.3299999237060547,
           3.940000534057617,
           4.4900007247924805,
           4.8600006103515625,
           5.2300004959106445,
           5.430000305175781,
           5.079999923706055,
           4.579999923706055,
           3.7400007247924805,
           1.2100000381469727,
           0
          ],
          [
           0,
           0,
           0,
           0,
           0,
           0,
           0,
           0,
           0,
           0,
           0,
           0,
           0,
           0,
           0,
           0,
           0,
           0,
           0,
           0,
           0,
           7.80000114440918,
           6.130000114440918,
           3.609999656677246,
           4,
           4.380000114440918,
           4.719999313354492,
           4.989999771118164,
           4.199999809265137,
           3.380000114440918,
           0,
           0
          ],
          [
           0,
           0,
           0,
           0,
           0,
           0,
           0,
           0,
           0,
           0,
           0,
           0,
           0,
           0,
           0,
           0,
           0,
           0,
           0,
           0,
           7.529999732971191,
           8.090001106262207,
           8.250000953674316,
           7.85999870300293,
           5.350000381469727,
           4.379999160766602,
           3.8199996948242188,
           4.179999351501465,
           3.869999885559082,
           3.239999771118164,
           0,
           0
          ],
          [
           0,
           0,
           0,
           0,
           0,
           0,
           0,
           0,
           0,
           0,
           0,
           0,
           0,
           0,
           0,
           0,
           0,
           0,
           0,
           0,
           2.979999542236328,
           8.44999885559082,
           9.100000381469727,
           8.780000686645508,
           8.389999389648438,
           8.040000915527344,
           7.600000381469727,
           6.289999961853027,
           4.279999732971191,
           0,
           0,
           0
          ],
          [
           0,
           0,
           0,
           0,
           0,
           0,
           0,
           0,
           0,
           0,
           0,
           0,
           0,
           0,
           0,
           0,
           0,
           0,
           0,
           0.619999885559082,
           7.929636001586914,
           8.744538307189941,
           9.590678215026855,
           9.722655296325684,
           10.58751106262207,
           8.933947563171387,
           8.569204330444336,
           8.205326080322266,
           7.795726776123047,
           2.3123912811279297,
           0,
           0
          ],
          [
           0,
           0,
           0,
           0,
           0,
           0,
           0,
           0,
           0,
           0,
           0,
           0,
           0,
           0,
           0,
           0,
           0,
           0,
           0,
           5.545982360839844,
           9.856819152832031,
           9.092312812805176,
           9.936958312988281,
           10.67807388305664,
           10.242840766906738,
           9.878215789794922,
           9.465383529663086,
           9.12228775024414,
           8.758752822875977,
           8.352784156799316,
           7.649999618530273,
           0
          ],
          [
           0,
           0,
           0,
           0,
           0,
           0,
           0,
           0,
           0,
           0,
           0,
           0,
           0,
           0,
           0,
           0,
           0,
           0,
           0,
           9.859938621520996,
           9.870153427124023,
           9.863354682922363,
           10.244226455688477,
           11.101386070251465,
           11.196547508239746,
           10.802210807800293,
           10.468026161193848,
           9.66976547241211,
           8.860942840576172,
           8.044095039367676,
           0,
           0
          ],
          [
           0,
           0,
           0,
           0,
           0,
           0,
           0,
           0,
           0,
           0,
           0,
           0,
           0,
           0,
           0,
           0,
           0,
           0,
           9.87021541595459,
           9.873466491699219,
           9.893782615661621,
           9.916824340820312,
           10.607680320739746,
           11.428194999694824,
           11.811798095703125,
           10.986937522888184,
           10.179330825805664,
           9.353734016418457,
           8.529759407043457,
           6.166037559509277,
           0,
           0
          ],
          [
           0,
           0,
           0,
           0,
           0,
           0,
           0,
           0,
           0,
           0,
           0,
           0,
           0,
           0,
           0,
           0,
           0,
           0,
           9.86316967010498,
           9.880298614501953,
           9.89183521270752,
           10.08510684967041,
           10.946391105651855,
           11.777703285217285,
           11.457697868347168,
           10.623207092285156,
           9.816753387451172,
           8.997381210327148,
           8.20130443572998,
           7.0099992752075195,
           0,
           0
          ],
          [
           0,
           0,
           0,
           0,
           0,
           0,
           0,
           0,
           0,
           0,
           0,
           0,
           0,
           0,
           0,
           0,
           0,
           9.668235778808594,
           9.876411437988281,
           9.881322860717773,
           9.923504829406738,
           10.498956680297852,
           11.307113647460938,
           11.918438911437988,
           11.07174301147461,
           10.263493537902832,
           9.429610252380371,
           8.642067909240723,
           7.8297014236450195,
           0,
           0,
           0
          ],
          [
           0,
           0,
           0,
           0,
           0,
           0,
           0,
           0,
           0,
           0,
           0,
           0,
           0,
           0,
           0,
           0,
           0,
           9.866796493530273,
           9.896134376525879,
           9.90627670288086,
           9.988526344299316,
           10.829548835754395,
           11.663054466247559,
           11.566388130187988,
           10.704544067382812,
           9.893057823181152,
           9.088631629943848,
           8.30021858215332,
           5.679999351501465,
           0,
           0,
           0
          ],
          [
           0,
           0,
           0,
           0,
           0,
           0,
           0,
           0,
           0,
           0,
           0,
           0,
           0,
           0,
           0,
           0,
           9.901535987854004,
           9.857582092285156,
           9.873722076416016,
           9.897505760192871,
           10.3200101852417,
           11.178133010864258,
           11.96280288696289,
           11.197517395019531,
           10.395069122314453,
           9.59238052368164,
           8.742335319519043,
           7.957503318786621,
           0,
           0,
           0,
           0
          ],
          [
           0,
           0,
           0,
           0,
           0,
           0,
           0,
           0,
           0,
           0,
           0,
           0,
           0,
           0,
           0,
           0,
           9.853763580322266,
           9.863394737243652,
           9.873954772949219,
           9.907422065734863,
           10.70241641998291,
           11.547511100769043,
           11.67273998260498,
           10.870028495788574,
           10.0770845413208,
           9.255298614501953,
           8.441126823425293,
           7.61344051361084,
           0,
           0,
           0,
           0
          ],
          [
           0,
           0,
           0,
           0,
           0,
           0,
           0,
           0,
           0,
           0,
           0,
           0,
           0,
           0,
           0,
           0,
           9.859825134277344,
           9.870818138122559,
           9.883252143859863,
           10.222787857055664,
           10.999683380126953,
           11.903111457824707,
           11.33674144744873,
           10.544018745422363,
           9.715795516967773,
           8.885017395019531,
           8.112613677978516,
           6.989999771118164,
           0,
           0,
           0,
           0
          ],
          [
           0,
           0,
           0,
           0,
           0,
           0,
           0,
           0,
           0,
           0,
           0,
           0,
           0,
           0,
           0,
           9.885734558105469,
           9.879225730895996,
           9.87575912475586,
           9.923639297485352,
           10.607060432434082,
           11.400877952575684,
           11.81281852722168,
           10.98672103881836,
           10.190942764282227,
           9.341285705566406,
           8.57224178314209,
           7.754937171936035,
           0,
           0,
           0,
           0,
           0
          ],
          [
           0,
           0,
           0,
           0,
           0,
           0,
           0,
           0,
           0,
           0,
           0,
           0,
           0,
           0,
           0,
           9.862780570983887,
           9.89697551727295,
           9.894452095031738,
           10.114083290100098,
           10.990904808044434,
           11.75457763671875,
           11.518264770507812,
           10.664868354797363,
           9.843104362487793,
           9.004179954528809,
           8.199762344360352,
           7.561570167541504,
           0,
           0,
           0,
           0,
           0
          ],
          [
           0,
           0,
           0,
           0,
           0,
           0,
           0,
           0,
           0,
           0,
           0,
           0,
           0,
           0,
           7.603883743286133,
           7.987548828125,
           8.801502227783203,
           9.62482738494873,
           10.498236656188965,
           11.284590721130371,
           12.036988258361816,
           11.169380187988281,
           10.31821346282959,
           9.526144981384277,
           8.725685119628906,
           7.850186347961426,
           0,
           0,
           0,
           0,
           0,
           0
          ],
          [
           0,
           0,
           0,
           5.190000534057617,
           5.239999771118164,
           4.699999809265137,
           0,
           0,
           0,
           0,
           0,
           0,
           0,
           0,
           7.580719947814941,
           8.337241172790527,
           9.169947624206543,
           9.989047050476074,
           10.833312034606934,
           11.657621383666992,
           11.731853485107422,
           10.865642547607422,
           10.003512382507324,
           9.191509246826172,
           8.362547874450684,
           7.603663444519043,
           0,
           0,
           0,
           0,
           0,
           0
          ],
          [
           0,
           0,
           0,
           5.170000076293945,
           5.179999351501465,
           5.2300004959106445,
           5.199999809265137,
           5.220000267028809,
           0,
           0,
           0,
           0,
           0,
           0,
           7.843446731567383,
           8.708759307861328,
           9.490129470825195,
           10.036008834838867,
           10.455223083496094,
           10.84955883026123,
           11.233949661254883,
           10.499760627746582,
           9.675498008728027,
           8.847872734069824,
           8.037919998168945,
           0,
           0,
           0,
           0,
           0,
           0,
           0
          ],
          [
           0,
           0,
           5.190000534057617,
           5.190000534057617,
           5.170000076293945,
           5.210000038146973,
           5.280000686645508,
           5.34999942779541,
           5.320000648498535,
           5.310000419616699,
           2.919999122619629,
           0,
           0,
           7.56002140045166,
           7.955509185791016,
           8.365421295166016,
           8.746517181396484,
           9.121058464050293,
           9.53570556640625,
           9.890270233154297,
           10.255288124084473,
           10.15475082397461,
           9.29926872253418,
           8.531610488891602,
           7.6678056716918945,
           0,
           0,
           0,
           0,
           0,
           0,
           0
          ],
          [
           0,
           0,
           5.179999351501465,
           5.210000038146973,
           5.270000457763672,
           5.370000839233398,
           5.440000534057617,
           5.479999542236328,
           5.420000076293945,
           5.370000839233398,
           5.319999694824219,
           5.260000228881836,
           4.25,
           0,
           7.263237953186035,
           7.628652572631836,
           9.932229995727539,
           9.65509033203125,
           8.616595268249512,
           8.978194236755371,
           9.33207893371582,
           9.744117736816406,
           8.928668022155762,
           8.183082580566406,
           6.210000038146973,
           0,
           0,
           0,
           0,
           0,
           0,
           0
          ],
          [
           0,
           0,
           5.290000915527344,
           5.380000114440918,
           5.440000534057617,
           5.550000190734863,
           5.579999923706055,
           5.579999923706055,
           5.510000228881836,
           5.470000267028809,
           5.409999847412109,
           5.34999942779541,
           5.324846267700195,
           5.320592880249023,
           5.371391296386719,
           5.512264251708984,
           4.431687355041504,
           6.810342788696289,
           5.668848991394043,
           8.107664108276367,
           8.457535743713379,
           8.850001335144043,
           8.60219955444336,
           7.84344482421875,
           0,
           0,
           0,
           0,
           0,
           0,
           0,
           0
          ],
          [
           0,
           5.380000114440918,
           5.460000038146973,
           5.540000915527344,
           5.6100006103515625,
           5.710000038146973,
           5.729999542236328,
           5.690000534057617,
           5.640000343322754,
           5.560000419616699,
           5.4900007247924805,
           5.439999580383301,
           5.442005157470703,
           5.469182968139648,
           5.397149085998535,
           3.327230453491211,
           3.1805171966552734,
           3.795638084411621,
           3.7832984924316406,
           7.642398834228516,
           7.568445205688477,
           7.8972673416137695,
           8.28879165649414,
           6.210000038146973,
           0,
           0,
           0,
           0,
           0,
           0,
           0,
           0
          ],
          [
           0,
           5.470000267028809,
           5.630000114440918,
           5.689999580383301,
           5.770000457763672,
           5.90000057220459,
           5.8600006103515625,
           5.800000190734863,
           5.720000267028809,
           5.659999847412109,
           5.59999942779541,
           5.520000457763672,
           5.526285171508789,
           5.559088706970215,
           5.565864562988281,
           3.771407127380371,
           3.623734474182129,
           3.3853797912597656,
           3.166566848754883,
           3.5492324829101562,
           3.879283905029297,
           3.892094612121582,
           6.844755172729492,
           0,
           0,
           0,
           0,
           0,
           0,
           0,
           0,
           0
          ],
          [
           5.940000534057617,
           5.570000648498535,
           5.75,
           5.880000114440918,
           5.950000762939453,
           6.020000457763672,
           6.029999732971191,
           5.920000076293945,
           5.830000877380371,
           5.7400007247924805,
           5.699999809265137,
           5.630000114440918,
           5.620404243469238,
           5.62861442565918,
           4.987705230712891,
           3.9392385482788086,
           3.870192527770996,
           3.6643476486206055,
           3.573439598083496,
           3.428546905517578,
           3.079336166381836,
           3.036707878112793,
           0,
           0,
           0,
           0,
           0,
           0,
           0,
           0,
           0,
           0
          ],
          [
           0,
           0,
           5.909999847412109,
           6.059999942779541,
           6.139999866485596,
           6.15000057220459,
           6.090000152587891,
           6.0099992752075195,
           5.970000267028809,
           5.840000152587891,
           5.810000419616699,
           5.7300004959106445,
           5.72719669342041,
           5.7534637451171875,
           3.761638641357422,
           3.7415294647216797,
           3.6819028854370117,
           3.8777589797973633,
           3.771453857421875,
           3.672591209411621,
           3.5353031158447266,
           3.609908103942871,
           0,
           0,
           0,
           0,
           0,
           0,
           0,
           0,
           0,
           0
          ],
          [
           0,
           0,
           0,
           0,
           3.5899996757507324,
           6.259999752044678,
           6.179999828338623,
           6.110000133514404,
           6.010000228881836,
           5.970000267028809,
           5.90000057220459,
           5.859999656677246,
           5.823666572570801,
           5.906003952026367,
           3.8806934356689453,
           3.743509292602539,
           3.685213088989258,
           3.622304916381836,
           3.496265411376953,
           3.7923097610473633,
           3.6958885192871094,
           4.062799453735352,
           0,
           0,
           0,
           0,
           0,
           0,
           0,
           0,
           0,
           0
          ],
          [
           0,
           0,
           0,
           0,
           0,
           0,
           0,
           6.229999542236328,
           6.12000036239624,
           6.070000171661377,
           6.0099992752075195,
           5.899999618530273,
           5.893524169921875,
           3.9763383865356445,
           3.919631004333496,
           3.7748031616210938,
           3.7352705001831055,
           3.6162729263305664,
           3.4902820587158203,
           3.4348363876342773,
           3.4092483520507812,
           0,
           0,
           0,
           0,
           0,
           0,
           0,
           0,
           0,
           0,
           0
          ],
          [
           0,
           0,
           0,
           0,
           0,
           0,
           0,
           0,
           0,
           6.21999979019165,
           6.070000171661377,
           6.010000228881836,
           6.0062408447265625,
           4.030647277832031,
           3.920114517211914,
           3.798192024230957,
           3.7096567153930664,
           3.6166133880615234,
           3.5359582901000977,
           3.416935920715332,
           3.7699995040893555,
           0,
           0,
           0,
           0,
           0,
           0,
           0,
           0,
           0,
           0,
           0
          ],
          [
           0,
           0,
           0,
           0,
           0,
           0,
           0,
           0,
           0,
           0,
           0,
           5.739999771118164,
           5.090524673461914,
           4.064389228820801,
           3.947702407836914,
           3.908663749694824,
           3.7885751724243164,
           3.6599998474121094,
           3.5900001525878906,
           3.4600000381469727,
           0,
           0,
           0,
           0,
           0,
           0,
           0,
           0,
           0,
           0,
           0,
           0
          ],
          [
           0,
           0,
           0,
           0,
           0,
           0,
           0,
           0,
           0,
           0,
           0,
           0,
           0,
           0,
           4.329999923706055,
           4.029999732971191,
           3.869999885559082,
           3.770000457763672,
           3.65000057220459,
           3.5900001525878906,
           0,
           0,
           0,
           0,
           0,
           0,
           0,
           0,
           0,
           0,
           0,
           0
          ],
          [
           0,
           0,
           0,
           0,
           0,
           0,
           0,
           0,
           0,
           0,
           0,
           0,
           0,
           0,
           0,
           0,
           4.690000534057617,
           3.9800004959106445,
           3.809999465942383,
           4.40000057220459,
           0,
           0,
           0,
           0,
           0,
           0,
           0,
           0,
           0,
           0,
           0,
           0
          ],
          [
           0,
           0,
           0,
           0,
           0,
           0,
           0,
           0,
           0,
           0,
           0,
           0,
           0,
           0,
           0,
           0,
           0,
           0,
           0,
           0,
           0,
           0,
           0,
           0,
           0,
           0,
           0,
           0,
           0,
           0,
           0,
           0
          ]
         ]
        }
       ],
       "layout": {
        "scene": {
         "yaxis": {
          "autorange": "reversed"
         }
        },
        "template": {
         "data": {
          "bar": [
           {
            "error_x": {
             "color": "#2a3f5f"
            },
            "error_y": {
             "color": "#2a3f5f"
            },
            "marker": {
             "line": {
              "color": "#E5ECF6",
              "width": 0.5
             }
            },
            "type": "bar"
           }
          ],
          "barpolar": [
           {
            "marker": {
             "line": {
              "color": "#E5ECF6",
              "width": 0.5
             }
            },
            "type": "barpolar"
           }
          ],
          "carpet": [
           {
            "aaxis": {
             "endlinecolor": "#2a3f5f",
             "gridcolor": "white",
             "linecolor": "white",
             "minorgridcolor": "white",
             "startlinecolor": "#2a3f5f"
            },
            "baxis": {
             "endlinecolor": "#2a3f5f",
             "gridcolor": "white",
             "linecolor": "white",
             "minorgridcolor": "white",
             "startlinecolor": "#2a3f5f"
            },
            "type": "carpet"
           }
          ],
          "choropleth": [
           {
            "colorbar": {
             "outlinewidth": 0,
             "ticks": ""
            },
            "type": "choropleth"
           }
          ],
          "contour": [
           {
            "colorbar": {
             "outlinewidth": 0,
             "ticks": ""
            },
            "colorscale": [
             [
              0,
              "#0d0887"
             ],
             [
              0.1111111111111111,
              "#46039f"
             ],
             [
              0.2222222222222222,
              "#7201a8"
             ],
             [
              0.3333333333333333,
              "#9c179e"
             ],
             [
              0.4444444444444444,
              "#bd3786"
             ],
             [
              0.5555555555555556,
              "#d8576b"
             ],
             [
              0.6666666666666666,
              "#ed7953"
             ],
             [
              0.7777777777777778,
              "#fb9f3a"
             ],
             [
              0.8888888888888888,
              "#fdca26"
             ],
             [
              1,
              "#f0f921"
             ]
            ],
            "type": "contour"
           }
          ],
          "contourcarpet": [
           {
            "colorbar": {
             "outlinewidth": 0,
             "ticks": ""
            },
            "type": "contourcarpet"
           }
          ],
          "heatmap": [
           {
            "colorbar": {
             "outlinewidth": 0,
             "ticks": ""
            },
            "colorscale": [
             [
              0,
              "#0d0887"
             ],
             [
              0.1111111111111111,
              "#46039f"
             ],
             [
              0.2222222222222222,
              "#7201a8"
             ],
             [
              0.3333333333333333,
              "#9c179e"
             ],
             [
              0.4444444444444444,
              "#bd3786"
             ],
             [
              0.5555555555555556,
              "#d8576b"
             ],
             [
              0.6666666666666666,
              "#ed7953"
             ],
             [
              0.7777777777777778,
              "#fb9f3a"
             ],
             [
              0.8888888888888888,
              "#fdca26"
             ],
             [
              1,
              "#f0f921"
             ]
            ],
            "type": "heatmap"
           }
          ],
          "heatmapgl": [
           {
            "colorbar": {
             "outlinewidth": 0,
             "ticks": ""
            },
            "colorscale": [
             [
              0,
              "#0d0887"
             ],
             [
              0.1111111111111111,
              "#46039f"
             ],
             [
              0.2222222222222222,
              "#7201a8"
             ],
             [
              0.3333333333333333,
              "#9c179e"
             ],
             [
              0.4444444444444444,
              "#bd3786"
             ],
             [
              0.5555555555555556,
              "#d8576b"
             ],
             [
              0.6666666666666666,
              "#ed7953"
             ],
             [
              0.7777777777777778,
              "#fb9f3a"
             ],
             [
              0.8888888888888888,
              "#fdca26"
             ],
             [
              1,
              "#f0f921"
             ]
            ],
            "type": "heatmapgl"
           }
          ],
          "histogram": [
           {
            "marker": {
             "colorbar": {
              "outlinewidth": 0,
              "ticks": ""
             }
            },
            "type": "histogram"
           }
          ],
          "histogram2d": [
           {
            "colorbar": {
             "outlinewidth": 0,
             "ticks": ""
            },
            "colorscale": [
             [
              0,
              "#0d0887"
             ],
             [
              0.1111111111111111,
              "#46039f"
             ],
             [
              0.2222222222222222,
              "#7201a8"
             ],
             [
              0.3333333333333333,
              "#9c179e"
             ],
             [
              0.4444444444444444,
              "#bd3786"
             ],
             [
              0.5555555555555556,
              "#d8576b"
             ],
             [
              0.6666666666666666,
              "#ed7953"
             ],
             [
              0.7777777777777778,
              "#fb9f3a"
             ],
             [
              0.8888888888888888,
              "#fdca26"
             ],
             [
              1,
              "#f0f921"
             ]
            ],
            "type": "histogram2d"
           }
          ],
          "histogram2dcontour": [
           {
            "colorbar": {
             "outlinewidth": 0,
             "ticks": ""
            },
            "colorscale": [
             [
              0,
              "#0d0887"
             ],
             [
              0.1111111111111111,
              "#46039f"
             ],
             [
              0.2222222222222222,
              "#7201a8"
             ],
             [
              0.3333333333333333,
              "#9c179e"
             ],
             [
              0.4444444444444444,
              "#bd3786"
             ],
             [
              0.5555555555555556,
              "#d8576b"
             ],
             [
              0.6666666666666666,
              "#ed7953"
             ],
             [
              0.7777777777777778,
              "#fb9f3a"
             ],
             [
              0.8888888888888888,
              "#fdca26"
             ],
             [
              1,
              "#f0f921"
             ]
            ],
            "type": "histogram2dcontour"
           }
          ],
          "mesh3d": [
           {
            "colorbar": {
             "outlinewidth": 0,
             "ticks": ""
            },
            "type": "mesh3d"
           }
          ],
          "parcoords": [
           {
            "line": {
             "colorbar": {
              "outlinewidth": 0,
              "ticks": ""
             }
            },
            "type": "parcoords"
           }
          ],
          "pie": [
           {
            "automargin": true,
            "type": "pie"
           }
          ],
          "scatter": [
           {
            "marker": {
             "colorbar": {
              "outlinewidth": 0,
              "ticks": ""
             }
            },
            "type": "scatter"
           }
          ],
          "scatter3d": [
           {
            "line": {
             "colorbar": {
              "outlinewidth": 0,
              "ticks": ""
             }
            },
            "marker": {
             "colorbar": {
              "outlinewidth": 0,
              "ticks": ""
             }
            },
            "type": "scatter3d"
           }
          ],
          "scattercarpet": [
           {
            "marker": {
             "colorbar": {
              "outlinewidth": 0,
              "ticks": ""
             }
            },
            "type": "scattercarpet"
           }
          ],
          "scattergeo": [
           {
            "marker": {
             "colorbar": {
              "outlinewidth": 0,
              "ticks": ""
             }
            },
            "type": "scattergeo"
           }
          ],
          "scattergl": [
           {
            "marker": {
             "colorbar": {
              "outlinewidth": 0,
              "ticks": ""
             }
            },
            "type": "scattergl"
           }
          ],
          "scattermapbox": [
           {
            "marker": {
             "colorbar": {
              "outlinewidth": 0,
              "ticks": ""
             }
            },
            "type": "scattermapbox"
           }
          ],
          "scatterpolar": [
           {
            "marker": {
             "colorbar": {
              "outlinewidth": 0,
              "ticks": ""
             }
            },
            "type": "scatterpolar"
           }
          ],
          "scatterpolargl": [
           {
            "marker": {
             "colorbar": {
              "outlinewidth": 0,
              "ticks": ""
             }
            },
            "type": "scatterpolargl"
           }
          ],
          "scatterternary": [
           {
            "marker": {
             "colorbar": {
              "outlinewidth": 0,
              "ticks": ""
             }
            },
            "type": "scatterternary"
           }
          ],
          "surface": [
           {
            "colorbar": {
             "outlinewidth": 0,
             "ticks": ""
            },
            "colorscale": [
             [
              0,
              "#0d0887"
             ],
             [
              0.1111111111111111,
              "#46039f"
             ],
             [
              0.2222222222222222,
              "#7201a8"
             ],
             [
              0.3333333333333333,
              "#9c179e"
             ],
             [
              0.4444444444444444,
              "#bd3786"
             ],
             [
              0.5555555555555556,
              "#d8576b"
             ],
             [
              0.6666666666666666,
              "#ed7953"
             ],
             [
              0.7777777777777778,
              "#fb9f3a"
             ],
             [
              0.8888888888888888,
              "#fdca26"
             ],
             [
              1,
              "#f0f921"
             ]
            ],
            "type": "surface"
           }
          ],
          "table": [
           {
            "cells": {
             "fill": {
              "color": "#EBF0F8"
             },
             "line": {
              "color": "white"
             }
            },
            "header": {
             "fill": {
              "color": "#C8D4E3"
             },
             "line": {
              "color": "white"
             }
            },
            "type": "table"
           }
          ]
         },
         "layout": {
          "annotationdefaults": {
           "arrowcolor": "#2a3f5f",
           "arrowhead": 0,
           "arrowwidth": 1
          },
          "autotypenumbers": "strict",
          "coloraxis": {
           "colorbar": {
            "outlinewidth": 0,
            "ticks": ""
           }
          },
          "colorscale": {
           "diverging": [
            [
             0,
             "#8e0152"
            ],
            [
             0.1,
             "#c51b7d"
            ],
            [
             0.2,
             "#de77ae"
            ],
            [
             0.3,
             "#f1b6da"
            ],
            [
             0.4,
             "#fde0ef"
            ],
            [
             0.5,
             "#f7f7f7"
            ],
            [
             0.6,
             "#e6f5d0"
            ],
            [
             0.7,
             "#b8e186"
            ],
            [
             0.8,
             "#7fbc41"
            ],
            [
             0.9,
             "#4d9221"
            ],
            [
             1,
             "#276419"
            ]
           ],
           "sequential": [
            [
             0,
             "#0d0887"
            ],
            [
             0.1111111111111111,
             "#46039f"
            ],
            [
             0.2222222222222222,
             "#7201a8"
            ],
            [
             0.3333333333333333,
             "#9c179e"
            ],
            [
             0.4444444444444444,
             "#bd3786"
            ],
            [
             0.5555555555555556,
             "#d8576b"
            ],
            [
             0.6666666666666666,
             "#ed7953"
            ],
            [
             0.7777777777777778,
             "#fb9f3a"
            ],
            [
             0.8888888888888888,
             "#fdca26"
            ],
            [
             1,
             "#f0f921"
            ]
           ],
           "sequentialminus": [
            [
             0,
             "#0d0887"
            ],
            [
             0.1111111111111111,
             "#46039f"
            ],
            [
             0.2222222222222222,
             "#7201a8"
            ],
            [
             0.3333333333333333,
             "#9c179e"
            ],
            [
             0.4444444444444444,
             "#bd3786"
            ],
            [
             0.5555555555555556,
             "#d8576b"
            ],
            [
             0.6666666666666666,
             "#ed7953"
            ],
            [
             0.7777777777777778,
             "#fb9f3a"
            ],
            [
             0.8888888888888888,
             "#fdca26"
            ],
            [
             1,
             "#f0f921"
            ]
           ]
          },
          "colorway": [
           "#636efa",
           "#EF553B",
           "#00cc96",
           "#ab63fa",
           "#FFA15A",
           "#19d3f3",
           "#FF6692",
           "#B6E880",
           "#FF97FF",
           "#FECB52"
          ],
          "font": {
           "color": "#2a3f5f"
          },
          "geo": {
           "bgcolor": "white",
           "lakecolor": "white",
           "landcolor": "#E5ECF6",
           "showlakes": true,
           "showland": true,
           "subunitcolor": "white"
          },
          "hoverlabel": {
           "align": "left"
          },
          "hovermode": "closest",
          "mapbox": {
           "style": "light"
          },
          "paper_bgcolor": "white",
          "plot_bgcolor": "#E5ECF6",
          "polar": {
           "angularaxis": {
            "gridcolor": "white",
            "linecolor": "white",
            "ticks": ""
           },
           "bgcolor": "#E5ECF6",
           "radialaxis": {
            "gridcolor": "white",
            "linecolor": "white",
            "ticks": ""
           }
          },
          "scene": {
           "xaxis": {
            "backgroundcolor": "#E5ECF6",
            "gridcolor": "white",
            "gridwidth": 2,
            "linecolor": "white",
            "showbackground": true,
            "ticks": "",
            "zerolinecolor": "white"
           },
           "yaxis": {
            "backgroundcolor": "#E5ECF6",
            "gridcolor": "white",
            "gridwidth": 2,
            "linecolor": "white",
            "showbackground": true,
            "ticks": "",
            "zerolinecolor": "white"
           },
           "zaxis": {
            "backgroundcolor": "#E5ECF6",
            "gridcolor": "white",
            "gridwidth": 2,
            "linecolor": "white",
            "showbackground": true,
            "ticks": "",
            "zerolinecolor": "white"
           }
          },
          "shapedefaults": {
           "line": {
            "color": "#2a3f5f"
           }
          },
          "ternary": {
           "aaxis": {
            "gridcolor": "white",
            "linecolor": "white",
            "ticks": ""
           },
           "baxis": {
            "gridcolor": "white",
            "linecolor": "white",
            "ticks": ""
           },
           "bgcolor": "#E5ECF6",
           "caxis": {
            "gridcolor": "white",
            "linecolor": "white",
            "ticks": ""
           }
          },
          "title": {
           "x": 0.05
          },
          "xaxis": {
           "automargin": true,
           "gridcolor": "white",
           "linecolor": "white",
           "ticks": "",
           "title": {
            "standoff": 15
           },
           "zerolinecolor": "white",
           "zerolinewidth": 2
          },
          "yaxis": {
           "automargin": true,
           "gridcolor": "white",
           "linecolor": "white",
           "ticks": "",
           "title": {
            "standoff": 15
           },
           "zerolinecolor": "white",
           "zerolinewidth": 2
          }
         }
        },
        "title": {
         "text": "3D Canopy Height Model"
        }
       }
      },
      "text/html": [
       "<div>                            <div id=\"972aead5-93ff-43e6-bfd3-d106e14c10f1\" class=\"plotly-graph-div\" style=\"height:525px; width:100%;\"></div>            <script type=\"text/javascript\">                require([\"plotly\"], function(Plotly) {                    window.PLOTLYENV=window.PLOTLYENV || {};                                    if (document.getElementById(\"972aead5-93ff-43e6-bfd3-d106e14c10f1\")) {                    Plotly.newPlot(                        \"972aead5-93ff-43e6-bfd3-d106e14c10f1\",                        [{\"type\": \"surface\", \"z\": [[0.0, 0.0, 0.0, 0.0, 0.0, 0.0, 0.0, 0.0, 0.0, 0.0, 0.0, 0.0, 0.0, 0.0, 0.0, 0.0, 0.0, 0.0, 0.0, 0.0, 0.0, 0.0, 0.0, 0.0, 0.0, 0.0, 0.0, 0.0, 0.0, 0.0, 0.0, 0.0], [0.0, 0.0, 0.0, 0.0, 0.0, 0.0, 0.0, 0.0, 0.0, 0.0, 0.0, 0.0, 0.0, 0.0, 0.0, 0.0, 0.0, 0.0, 0.0, 0.0, 0.0, 0.0, 0.0, 2.0399999618530273, 2.640000343322754, 0.0, 0.0, 0.0, 0.0, 0.0, 0.0, 0.0], [0.0, 0.0, 0.0, 0.0, 0.0, 0.0, 0.0, 0.0, 0.0, 0.0, 0.0, 0.0, 0.0, 0.0, 0.0, 0.0, 0.0, 0.0, 0.0, 0.0, 0.0, 0.0, 3.390000343322754, 3.760000228881836, 3.75, 3.390000343322754, 1.869999885559082, 0.0, 0.0, 0.0, 0.0, 0.0], [0.0, 0.0, 0.0, 0.0, 0.0, 0.0, 0.0, 0.0, 0.0, 0.0, 0.0, 0.0, 0.0, 0.0, 0.0, 0.0, 0.0, 0.0, 0.0, 0.0, 0.0, 0.0, 3.3299999237060547, 4.059999465942383, 4.550000190734863, 4.199999809265137, 3.880000114440918, 3.5399999618530273, 1.6499996185302734, 0.0, 0.0, 0.0], [0.0, 0.0, 0.0, 0.0, 0.0, 0.0, 0.0, 0.0, 0.0, 0.0, 0.0, 0.0, 0.0, 0.0, 0.0, 0.0, 0.0, 0.0, 0.0, 0.0, 0.0, 0.0, 3.6000003814697266, 4.420000076293945, 5.239999771118164, 4.979999542236328, 4.630000114440918, 4.289999961853027, 4.0, 3.630000114440918, 2.0399999618530273, 0.0], [0.0, 0.0, 0.0, 0.0, 0.0, 0.0, 0.0, 0.0, 0.0, 0.0, 0.0, 0.0, 0.0, 0.0, 0.0, 0.0, 0.0, 0.0, 0.0, 0.0, 0.0, 1.3299999237060547, 3.940000534057617, 4.4900007247924805, 4.8600006103515625, 5.2300004959106445, 5.430000305175781, 5.079999923706055, 4.579999923706055, 3.7400007247924805, 1.2100000381469727, 0.0], [0.0, 0.0, 0.0, 0.0, 0.0, 0.0, 0.0, 0.0, 0.0, 0.0, 0.0, 0.0, 0.0, 0.0, 0.0, 0.0, 0.0, 0.0, 0.0, 0.0, 0.0, 7.80000114440918, 6.130000114440918, 3.609999656677246, 4.0, 4.380000114440918, 4.719999313354492, 4.989999771118164, 4.199999809265137, 3.380000114440918, 0.0, 0.0], [0.0, 0.0, 0.0, 0.0, 0.0, 0.0, 0.0, 0.0, 0.0, 0.0, 0.0, 0.0, 0.0, 0.0, 0.0, 0.0, 0.0, 0.0, 0.0, 0.0, 7.529999732971191, 8.090001106262207, 8.250000953674316, 7.85999870300293, 5.350000381469727, 4.379999160766602, 3.8199996948242188, 4.179999351501465, 3.869999885559082, 3.239999771118164, 0.0, 0.0], [0.0, 0.0, 0.0, 0.0, 0.0, 0.0, 0.0, 0.0, 0.0, 0.0, 0.0, 0.0, 0.0, 0.0, 0.0, 0.0, 0.0, 0.0, 0.0, 0.0, 2.979999542236328, 8.44999885559082, 9.100000381469727, 8.780000686645508, 8.389999389648438, 8.040000915527344, 7.600000381469727, 6.289999961853027, 4.279999732971191, 0.0, 0.0, 0.0], [0.0, 0.0, 0.0, 0.0, 0.0, 0.0, 0.0, 0.0, 0.0, 0.0, 0.0, 0.0, 0.0, 0.0, 0.0, 0.0, 0.0, 0.0, 0.0, 0.619999885559082, 7.929636001586914, 8.744538307189941, 9.590678215026855, 9.722655296325684, 10.58751106262207, 8.933947563171387, 8.569204330444336, 8.205326080322266, 7.795726776123047, 2.3123912811279297, 0.0, 0.0], [0.0, 0.0, 0.0, 0.0, 0.0, 0.0, 0.0, 0.0, 0.0, 0.0, 0.0, 0.0, 0.0, 0.0, 0.0, 0.0, 0.0, 0.0, 0.0, 5.545982360839844, 9.856819152832031, 9.092312812805176, 9.936958312988281, 10.67807388305664, 10.242840766906738, 9.878215789794922, 9.465383529663086, 9.12228775024414, 8.758752822875977, 8.352784156799316, 7.649999618530273, 0.0], [0.0, 0.0, 0.0, 0.0, 0.0, 0.0, 0.0, 0.0, 0.0, 0.0, 0.0, 0.0, 0.0, 0.0, 0.0, 0.0, 0.0, 0.0, 0.0, 9.859938621520996, 9.870153427124023, 9.863354682922363, 10.244226455688477, 11.101386070251465, 11.196547508239746, 10.802210807800293, 10.468026161193848, 9.66976547241211, 8.860942840576172, 8.044095039367676, 0.0, 0.0], [0.0, 0.0, 0.0, 0.0, 0.0, 0.0, 0.0, 0.0, 0.0, 0.0, 0.0, 0.0, 0.0, 0.0, 0.0, 0.0, 0.0, 0.0, 9.87021541595459, 9.873466491699219, 9.893782615661621, 9.916824340820312, 10.607680320739746, 11.428194999694824, 11.811798095703125, 10.986937522888184, 10.179330825805664, 9.353734016418457, 8.529759407043457, 6.166037559509277, 0.0, 0.0], [0.0, 0.0, 0.0, 0.0, 0.0, 0.0, 0.0, 0.0, 0.0, 0.0, 0.0, 0.0, 0.0, 0.0, 0.0, 0.0, 0.0, 0.0, 9.86316967010498, 9.880298614501953, 9.89183521270752, 10.08510684967041, 10.946391105651855, 11.777703285217285, 11.457697868347168, 10.623207092285156, 9.816753387451172, 8.997381210327148, 8.20130443572998, 7.0099992752075195, 0.0, 0.0], [0.0, 0.0, 0.0, 0.0, 0.0, 0.0, 0.0, 0.0, 0.0, 0.0, 0.0, 0.0, 0.0, 0.0, 0.0, 0.0, 0.0, 9.668235778808594, 9.876411437988281, 9.881322860717773, 9.923504829406738, 10.498956680297852, 11.307113647460938, 11.918438911437988, 11.07174301147461, 10.263493537902832, 9.429610252380371, 8.642067909240723, 7.8297014236450195, 0.0, 0.0, 0.0], [0.0, 0.0, 0.0, 0.0, 0.0, 0.0, 0.0, 0.0, 0.0, 0.0, 0.0, 0.0, 0.0, 0.0, 0.0, 0.0, 0.0, 9.866796493530273, 9.896134376525879, 9.90627670288086, 9.988526344299316, 10.829548835754395, 11.663054466247559, 11.566388130187988, 10.704544067382812, 9.893057823181152, 9.088631629943848, 8.30021858215332, 5.679999351501465, 0.0, 0.0, 0.0], [0.0, 0.0, 0.0, 0.0, 0.0, 0.0, 0.0, 0.0, 0.0, 0.0, 0.0, 0.0, 0.0, 0.0, 0.0, 0.0, 9.901535987854004, 9.857582092285156, 9.873722076416016, 9.897505760192871, 10.3200101852417, 11.178133010864258, 11.96280288696289, 11.197517395019531, 10.395069122314453, 9.59238052368164, 8.742335319519043, 7.957503318786621, 0.0, 0.0, 0.0, 0.0], [0.0, 0.0, 0.0, 0.0, 0.0, 0.0, 0.0, 0.0, 0.0, 0.0, 0.0, 0.0, 0.0, 0.0, 0.0, 0.0, 9.853763580322266, 9.863394737243652, 9.873954772949219, 9.907422065734863, 10.70241641998291, 11.547511100769043, 11.67273998260498, 10.870028495788574, 10.0770845413208, 9.255298614501953, 8.441126823425293, 7.61344051361084, 0.0, 0.0, 0.0, 0.0], [0.0, 0.0, 0.0, 0.0, 0.0, 0.0, 0.0, 0.0, 0.0, 0.0, 0.0, 0.0, 0.0, 0.0, 0.0, 0.0, 9.859825134277344, 9.870818138122559, 9.883252143859863, 10.222787857055664, 10.999683380126953, 11.903111457824707, 11.33674144744873, 10.544018745422363, 9.715795516967773, 8.885017395019531, 8.112613677978516, 6.989999771118164, 0.0, 0.0, 0.0, 0.0], [0.0, 0.0, 0.0, 0.0, 0.0, 0.0, 0.0, 0.0, 0.0, 0.0, 0.0, 0.0, 0.0, 0.0, 0.0, 9.885734558105469, 9.879225730895996, 9.87575912475586, 9.923639297485352, 10.607060432434082, 11.400877952575684, 11.81281852722168, 10.98672103881836, 10.190942764282227, 9.341285705566406, 8.57224178314209, 7.754937171936035, 0.0, 0.0, 0.0, 0.0, 0.0], [0.0, 0.0, 0.0, 0.0, 0.0, 0.0, 0.0, 0.0, 0.0, 0.0, 0.0, 0.0, 0.0, 0.0, 0.0, 9.862780570983887, 9.89697551727295, 9.894452095031738, 10.114083290100098, 10.990904808044434, 11.75457763671875, 11.518264770507812, 10.664868354797363, 9.843104362487793, 9.004179954528809, 8.199762344360352, 7.561570167541504, 0.0, 0.0, 0.0, 0.0, 0.0], [0.0, 0.0, 0.0, 0.0, 0.0, 0.0, 0.0, 0.0, 0.0, 0.0, 0.0, 0.0, 0.0, 0.0, 7.603883743286133, 7.987548828125, 8.801502227783203, 9.62482738494873, 10.498236656188965, 11.284590721130371, 12.036988258361816, 11.169380187988281, 10.31821346282959, 9.526144981384277, 8.725685119628906, 7.850186347961426, 0.0, 0.0, 0.0, 0.0, 0.0, 0.0], [0.0, 0.0, 0.0, 5.190000534057617, 5.239999771118164, 4.699999809265137, 0.0, 0.0, 0.0, 0.0, 0.0, 0.0, 0.0, 0.0, 7.580719947814941, 8.337241172790527, 9.169947624206543, 9.989047050476074, 10.833312034606934, 11.657621383666992, 11.731853485107422, 10.865642547607422, 10.003512382507324, 9.191509246826172, 8.362547874450684, 7.603663444519043, 0.0, 0.0, 0.0, 0.0, 0.0, 0.0], [0.0, 0.0, 0.0, 5.170000076293945, 5.179999351501465, 5.2300004959106445, 5.199999809265137, 5.220000267028809, 0.0, 0.0, 0.0, 0.0, 0.0, 0.0, 7.843446731567383, 8.708759307861328, 9.490129470825195, 10.036008834838867, 10.455223083496094, 10.84955883026123, 11.233949661254883, 10.499760627746582, 9.675498008728027, 8.847872734069824, 8.037919998168945, 0.0, 0.0, 0.0, 0.0, 0.0, 0.0, 0.0], [0.0, 0.0, 5.190000534057617, 5.190000534057617, 5.170000076293945, 5.210000038146973, 5.280000686645508, 5.34999942779541, 5.320000648498535, 5.310000419616699, 2.919999122619629, 0.0, 0.0, 7.56002140045166, 7.955509185791016, 8.365421295166016, 8.746517181396484, 9.121058464050293, 9.53570556640625, 9.890270233154297, 10.255288124084473, 10.15475082397461, 9.29926872253418, 8.531610488891602, 7.6678056716918945, 0.0, 0.0, 0.0, 0.0, 0.0, 0.0, 0.0], [0.0, 0.0, 5.179999351501465, 5.210000038146973, 5.270000457763672, 5.370000839233398, 5.440000534057617, 5.479999542236328, 5.420000076293945, 5.370000839233398, 5.319999694824219, 5.260000228881836, 4.25, 0.0, 7.263237953186035, 7.628652572631836, 9.932229995727539, 9.65509033203125, 8.616595268249512, 8.978194236755371, 9.33207893371582, 9.744117736816406, 8.928668022155762, 8.183082580566406, 6.210000038146973, 0.0, 0.0, 0.0, 0.0, 0.0, 0.0, 0.0], [0.0, 0.0, 5.290000915527344, 5.380000114440918, 5.440000534057617, 5.550000190734863, 5.579999923706055, 5.579999923706055, 5.510000228881836, 5.470000267028809, 5.409999847412109, 5.34999942779541, 5.324846267700195, 5.320592880249023, 5.371391296386719, 5.512264251708984, 4.431687355041504, 6.810342788696289, 5.668848991394043, 8.107664108276367, 8.457535743713379, 8.850001335144043, 8.60219955444336, 7.84344482421875, 0.0, 0.0, 0.0, 0.0, 0.0, 0.0, 0.0, 0.0], [0.0, 5.380000114440918, 5.460000038146973, 5.540000915527344, 5.6100006103515625, 5.710000038146973, 5.729999542236328, 5.690000534057617, 5.640000343322754, 5.560000419616699, 5.4900007247924805, 5.439999580383301, 5.442005157470703, 5.469182968139648, 5.397149085998535, 3.327230453491211, 3.1805171966552734, 3.795638084411621, 3.7832984924316406, 7.642398834228516, 7.568445205688477, 7.8972673416137695, 8.28879165649414, 6.210000038146973, 0.0, 0.0, 0.0, 0.0, 0.0, 0.0, 0.0, 0.0], [0.0, 5.470000267028809, 5.630000114440918, 5.689999580383301, 5.770000457763672, 5.90000057220459, 5.8600006103515625, 5.800000190734863, 5.720000267028809, 5.659999847412109, 5.59999942779541, 5.520000457763672, 5.526285171508789, 5.559088706970215, 5.565864562988281, 3.771407127380371, 3.623734474182129, 3.3853797912597656, 3.166566848754883, 3.5492324829101562, 3.879283905029297, 3.892094612121582, 6.844755172729492, 0.0, 0.0, 0.0, 0.0, 0.0, 0.0, 0.0, 0.0, 0.0], [5.940000534057617, 5.570000648498535, 5.75, 5.880000114440918, 5.950000762939453, 6.020000457763672, 6.029999732971191, 5.920000076293945, 5.830000877380371, 5.7400007247924805, 5.699999809265137, 5.630000114440918, 5.620404243469238, 5.62861442565918, 4.987705230712891, 3.9392385482788086, 3.870192527770996, 3.6643476486206055, 3.573439598083496, 3.428546905517578, 3.079336166381836, 3.036707878112793, 0.0, 0.0, 0.0, 0.0, 0.0, 0.0, 0.0, 0.0, 0.0, 0.0], [0.0, 0.0, 5.909999847412109, 6.059999942779541, 6.139999866485596, 6.15000057220459, 6.090000152587891, 6.0099992752075195, 5.970000267028809, 5.840000152587891, 5.810000419616699, 5.7300004959106445, 5.72719669342041, 5.7534637451171875, 3.761638641357422, 3.7415294647216797, 3.6819028854370117, 3.8777589797973633, 3.771453857421875, 3.672591209411621, 3.5353031158447266, 3.609908103942871, 0.0, 0.0, 0.0, 0.0, 0.0, 0.0, 0.0, 0.0, 0.0, 0.0], [0.0, 0.0, 0.0, 0.0, 3.5899996757507324, 6.259999752044678, 6.179999828338623, 6.110000133514404, 6.010000228881836, 5.970000267028809, 5.90000057220459, 5.859999656677246, 5.823666572570801, 5.906003952026367, 3.8806934356689453, 3.743509292602539, 3.685213088989258, 3.622304916381836, 3.496265411376953, 3.7923097610473633, 3.6958885192871094, 4.062799453735352, 0.0, 0.0, 0.0, 0.0, 0.0, 0.0, 0.0, 0.0, 0.0, 0.0], [0.0, 0.0, 0.0, 0.0, 0.0, 0.0, 0.0, 6.229999542236328, 6.12000036239624, 6.070000171661377, 6.0099992752075195, 5.899999618530273, 5.893524169921875, 3.9763383865356445, 3.919631004333496, 3.7748031616210938, 3.7352705001831055, 3.6162729263305664, 3.4902820587158203, 3.4348363876342773, 3.4092483520507812, 0.0, 0.0, 0.0, 0.0, 0.0, 0.0, 0.0, 0.0, 0.0, 0.0, 0.0], [0.0, 0.0, 0.0, 0.0, 0.0, 0.0, 0.0, 0.0, 0.0, 6.21999979019165, 6.070000171661377, 6.010000228881836, 6.0062408447265625, 4.030647277832031, 3.920114517211914, 3.798192024230957, 3.7096567153930664, 3.6166133880615234, 3.5359582901000977, 3.416935920715332, 3.7699995040893555, 0.0, 0.0, 0.0, 0.0, 0.0, 0.0, 0.0, 0.0, 0.0, 0.0, 0.0], [0.0, 0.0, 0.0, 0.0, 0.0, 0.0, 0.0, 0.0, 0.0, 0.0, 0.0, 5.739999771118164, 5.090524673461914, 4.064389228820801, 3.947702407836914, 3.908663749694824, 3.7885751724243164, 3.6599998474121094, 3.5900001525878906, 3.4600000381469727, 0.0, 0.0, 0.0, 0.0, 0.0, 0.0, 0.0, 0.0, 0.0, 0.0, 0.0, 0.0], [0.0, 0.0, 0.0, 0.0, 0.0, 0.0, 0.0, 0.0, 0.0, 0.0, 0.0, 0.0, 0.0, 0.0, 4.329999923706055, 4.029999732971191, 3.869999885559082, 3.770000457763672, 3.65000057220459, 3.5900001525878906, 0.0, 0.0, 0.0, 0.0, 0.0, 0.0, 0.0, 0.0, 0.0, 0.0, 0.0, 0.0], [0.0, 0.0, 0.0, 0.0, 0.0, 0.0, 0.0, 0.0, 0.0, 0.0, 0.0, 0.0, 0.0, 0.0, 0.0, 0.0, 4.690000534057617, 3.9800004959106445, 3.809999465942383, 4.40000057220459, 0.0, 0.0, 0.0, 0.0, 0.0, 0.0, 0.0, 0.0, 0.0, 0.0, 0.0, 0.0], [0.0, 0.0, 0.0, 0.0, 0.0, 0.0, 0.0, 0.0, 0.0, 0.0, 0.0, 0.0, 0.0, 0.0, 0.0, 0.0, 0.0, 0.0, 0.0, 0.0, 0.0, 0.0, 0.0, 0.0, 0.0, 0.0, 0.0, 0.0, 0.0, 0.0, 0.0, 0.0]]}],                        {\"scene\": {\"yaxis\": {\"autorange\": \"reversed\"}}, \"template\": {\"data\": {\"bar\": [{\"error_x\": {\"color\": \"#2a3f5f\"}, \"error_y\": {\"color\": \"#2a3f5f\"}, \"marker\": {\"line\": {\"color\": \"#E5ECF6\", \"width\": 0.5}}, \"type\": \"bar\"}], \"barpolar\": [{\"marker\": {\"line\": {\"color\": \"#E5ECF6\", \"width\": 0.5}}, \"type\": \"barpolar\"}], \"carpet\": [{\"aaxis\": {\"endlinecolor\": \"#2a3f5f\", \"gridcolor\": \"white\", \"linecolor\": \"white\", \"minorgridcolor\": \"white\", \"startlinecolor\": \"#2a3f5f\"}, \"baxis\": {\"endlinecolor\": \"#2a3f5f\", \"gridcolor\": \"white\", \"linecolor\": \"white\", \"minorgridcolor\": \"white\", \"startlinecolor\": \"#2a3f5f\"}, \"type\": \"carpet\"}], \"choropleth\": [{\"colorbar\": {\"outlinewidth\": 0, \"ticks\": \"\"}, \"type\": \"choropleth\"}], \"contour\": [{\"colorbar\": {\"outlinewidth\": 0, \"ticks\": \"\"}, \"colorscale\": [[0.0, \"#0d0887\"], [0.1111111111111111, \"#46039f\"], [0.2222222222222222, \"#7201a8\"], [0.3333333333333333, \"#9c179e\"], [0.4444444444444444, \"#bd3786\"], [0.5555555555555556, \"#d8576b\"], [0.6666666666666666, \"#ed7953\"], [0.7777777777777778, \"#fb9f3a\"], [0.8888888888888888, \"#fdca26\"], [1.0, \"#f0f921\"]], \"type\": \"contour\"}], \"contourcarpet\": [{\"colorbar\": {\"outlinewidth\": 0, \"ticks\": \"\"}, \"type\": \"contourcarpet\"}], \"heatmap\": [{\"colorbar\": {\"outlinewidth\": 0, \"ticks\": \"\"}, \"colorscale\": [[0.0, \"#0d0887\"], [0.1111111111111111, \"#46039f\"], [0.2222222222222222, \"#7201a8\"], [0.3333333333333333, \"#9c179e\"], [0.4444444444444444, \"#bd3786\"], [0.5555555555555556, \"#d8576b\"], [0.6666666666666666, \"#ed7953\"], [0.7777777777777778, \"#fb9f3a\"], [0.8888888888888888, \"#fdca26\"], [1.0, \"#f0f921\"]], \"type\": \"heatmap\"}], \"heatmapgl\": [{\"colorbar\": {\"outlinewidth\": 0, \"ticks\": \"\"}, \"colorscale\": [[0.0, \"#0d0887\"], [0.1111111111111111, \"#46039f\"], [0.2222222222222222, \"#7201a8\"], [0.3333333333333333, \"#9c179e\"], [0.4444444444444444, \"#bd3786\"], [0.5555555555555556, \"#d8576b\"], [0.6666666666666666, \"#ed7953\"], [0.7777777777777778, \"#fb9f3a\"], [0.8888888888888888, \"#fdca26\"], [1.0, \"#f0f921\"]], \"type\": \"heatmapgl\"}], \"histogram\": [{\"marker\": {\"colorbar\": {\"outlinewidth\": 0, \"ticks\": \"\"}}, \"type\": \"histogram\"}], \"histogram2d\": [{\"colorbar\": {\"outlinewidth\": 0, \"ticks\": \"\"}, \"colorscale\": [[0.0, \"#0d0887\"], [0.1111111111111111, \"#46039f\"], [0.2222222222222222, \"#7201a8\"], [0.3333333333333333, \"#9c179e\"], [0.4444444444444444, \"#bd3786\"], [0.5555555555555556, \"#d8576b\"], [0.6666666666666666, \"#ed7953\"], [0.7777777777777778, \"#fb9f3a\"], [0.8888888888888888, \"#fdca26\"], [1.0, \"#f0f921\"]], \"type\": \"histogram2d\"}], \"histogram2dcontour\": [{\"colorbar\": {\"outlinewidth\": 0, \"ticks\": \"\"}, \"colorscale\": [[0.0, \"#0d0887\"], [0.1111111111111111, \"#46039f\"], [0.2222222222222222, \"#7201a8\"], [0.3333333333333333, \"#9c179e\"], [0.4444444444444444, \"#bd3786\"], [0.5555555555555556, \"#d8576b\"], [0.6666666666666666, \"#ed7953\"], [0.7777777777777778, \"#fb9f3a\"], [0.8888888888888888, \"#fdca26\"], [1.0, \"#f0f921\"]], \"type\": \"histogram2dcontour\"}], \"mesh3d\": [{\"colorbar\": {\"outlinewidth\": 0, \"ticks\": \"\"}, \"type\": \"mesh3d\"}], \"parcoords\": [{\"line\": {\"colorbar\": {\"outlinewidth\": 0, \"ticks\": \"\"}}, \"type\": \"parcoords\"}], \"pie\": [{\"automargin\": true, \"type\": \"pie\"}], \"scatter\": [{\"marker\": {\"colorbar\": {\"outlinewidth\": 0, \"ticks\": \"\"}}, \"type\": \"scatter\"}], \"scatter3d\": [{\"line\": {\"colorbar\": {\"outlinewidth\": 0, \"ticks\": \"\"}}, \"marker\": {\"colorbar\": {\"outlinewidth\": 0, \"ticks\": \"\"}}, \"type\": \"scatter3d\"}], \"scattercarpet\": [{\"marker\": {\"colorbar\": {\"outlinewidth\": 0, \"ticks\": \"\"}}, \"type\": \"scattercarpet\"}], \"scattergeo\": [{\"marker\": {\"colorbar\": {\"outlinewidth\": 0, \"ticks\": \"\"}}, \"type\": \"scattergeo\"}], \"scattergl\": [{\"marker\": {\"colorbar\": {\"outlinewidth\": 0, \"ticks\": \"\"}}, \"type\": \"scattergl\"}], \"scattermapbox\": [{\"marker\": {\"colorbar\": {\"outlinewidth\": 0, \"ticks\": \"\"}}, \"type\": \"scattermapbox\"}], \"scatterpolar\": [{\"marker\": {\"colorbar\": {\"outlinewidth\": 0, \"ticks\": \"\"}}, \"type\": \"scatterpolar\"}], \"scatterpolargl\": [{\"marker\": {\"colorbar\": {\"outlinewidth\": 0, \"ticks\": \"\"}}, \"type\": \"scatterpolargl\"}], \"scatterternary\": [{\"marker\": {\"colorbar\": {\"outlinewidth\": 0, \"ticks\": \"\"}}, \"type\": \"scatterternary\"}], \"surface\": [{\"colorbar\": {\"outlinewidth\": 0, \"ticks\": \"\"}, \"colorscale\": [[0.0, \"#0d0887\"], [0.1111111111111111, \"#46039f\"], [0.2222222222222222, \"#7201a8\"], [0.3333333333333333, \"#9c179e\"], [0.4444444444444444, \"#bd3786\"], [0.5555555555555556, \"#d8576b\"], [0.6666666666666666, \"#ed7953\"], [0.7777777777777778, \"#fb9f3a\"], [0.8888888888888888, \"#fdca26\"], [1.0, \"#f0f921\"]], \"type\": \"surface\"}], \"table\": [{\"cells\": {\"fill\": {\"color\": \"#EBF0F8\"}, \"line\": {\"color\": \"white\"}}, \"header\": {\"fill\": {\"color\": \"#C8D4E3\"}, \"line\": {\"color\": \"white\"}}, \"type\": \"table\"}]}, \"layout\": {\"annotationdefaults\": {\"arrowcolor\": \"#2a3f5f\", \"arrowhead\": 0, \"arrowwidth\": 1}, \"autotypenumbers\": \"strict\", \"coloraxis\": {\"colorbar\": {\"outlinewidth\": 0, \"ticks\": \"\"}}, \"colorscale\": {\"diverging\": [[0, \"#8e0152\"], [0.1, \"#c51b7d\"], [0.2, \"#de77ae\"], [0.3, \"#f1b6da\"], [0.4, \"#fde0ef\"], [0.5, \"#f7f7f7\"], [0.6, \"#e6f5d0\"], [0.7, \"#b8e186\"], [0.8, \"#7fbc41\"], [0.9, \"#4d9221\"], [1, \"#276419\"]], \"sequential\": [[0.0, \"#0d0887\"], [0.1111111111111111, \"#46039f\"], [0.2222222222222222, \"#7201a8\"], [0.3333333333333333, \"#9c179e\"], [0.4444444444444444, \"#bd3786\"], [0.5555555555555556, \"#d8576b\"], [0.6666666666666666, \"#ed7953\"], [0.7777777777777778, \"#fb9f3a\"], [0.8888888888888888, \"#fdca26\"], [1.0, \"#f0f921\"]], \"sequentialminus\": [[0.0, \"#0d0887\"], [0.1111111111111111, \"#46039f\"], [0.2222222222222222, \"#7201a8\"], [0.3333333333333333, \"#9c179e\"], [0.4444444444444444, \"#bd3786\"], [0.5555555555555556, \"#d8576b\"], [0.6666666666666666, \"#ed7953\"], [0.7777777777777778, \"#fb9f3a\"], [0.8888888888888888, \"#fdca26\"], [1.0, \"#f0f921\"]]}, \"colorway\": [\"#636efa\", \"#EF553B\", \"#00cc96\", \"#ab63fa\", \"#FFA15A\", \"#19d3f3\", \"#FF6692\", \"#B6E880\", \"#FF97FF\", \"#FECB52\"], \"font\": {\"color\": \"#2a3f5f\"}, \"geo\": {\"bgcolor\": \"white\", \"lakecolor\": \"white\", \"landcolor\": \"#E5ECF6\", \"showlakes\": true, \"showland\": true, \"subunitcolor\": \"white\"}, \"hoverlabel\": {\"align\": \"left\"}, \"hovermode\": \"closest\", \"mapbox\": {\"style\": \"light\"}, \"paper_bgcolor\": \"white\", \"plot_bgcolor\": \"#E5ECF6\", \"polar\": {\"angularaxis\": {\"gridcolor\": \"white\", \"linecolor\": \"white\", \"ticks\": \"\"}, \"bgcolor\": \"#E5ECF6\", \"radialaxis\": {\"gridcolor\": \"white\", \"linecolor\": \"white\", \"ticks\": \"\"}}, \"scene\": {\"xaxis\": {\"backgroundcolor\": \"#E5ECF6\", \"gridcolor\": \"white\", \"gridwidth\": 2, \"linecolor\": \"white\", \"showbackground\": true, \"ticks\": \"\", \"zerolinecolor\": \"white\"}, \"yaxis\": {\"backgroundcolor\": \"#E5ECF6\", \"gridcolor\": \"white\", \"gridwidth\": 2, \"linecolor\": \"white\", \"showbackground\": true, \"ticks\": \"\", \"zerolinecolor\": \"white\"}, \"zaxis\": {\"backgroundcolor\": \"#E5ECF6\", \"gridcolor\": \"white\", \"gridwidth\": 2, \"linecolor\": \"white\", \"showbackground\": true, \"ticks\": \"\", \"zerolinecolor\": \"white\"}}, \"shapedefaults\": {\"line\": {\"color\": \"#2a3f5f\"}}, \"ternary\": {\"aaxis\": {\"gridcolor\": \"white\", \"linecolor\": \"white\", \"ticks\": \"\"}, \"baxis\": {\"gridcolor\": \"white\", \"linecolor\": \"white\", \"ticks\": \"\"}, \"bgcolor\": \"#E5ECF6\", \"caxis\": {\"gridcolor\": \"white\", \"linecolor\": \"white\", \"ticks\": \"\"}}, \"title\": {\"x\": 0.05}, \"xaxis\": {\"automargin\": true, \"gridcolor\": \"white\", \"linecolor\": \"white\", \"ticks\": \"\", \"title\": {\"standoff\": 15}, \"zerolinecolor\": \"white\", \"zerolinewidth\": 2}, \"yaxis\": {\"automargin\": true, \"gridcolor\": \"white\", \"linecolor\": \"white\", \"ticks\": \"\", \"title\": {\"standoff\": 15}, \"zerolinecolor\": \"white\", \"zerolinewidth\": 2}}}, \"title\": {\"text\": \"3D Canopy Height Model\"}},                        {\"responsive\": true}                    ).then(function(){\n",
       "                            \n",
       "var gd = document.getElementById('972aead5-93ff-43e6-bfd3-d106e14c10f1');\n",
       "var x = new MutationObserver(function (mutations, observer) {{\n",
       "        var display = window.getComputedStyle(gd).display;\n",
       "        if (!display || display === 'none') {{\n",
       "            console.log([gd, 'removed!']);\n",
       "            Plotly.purge(gd);\n",
       "            observer.disconnect();\n",
       "        }}\n",
       "}});\n",
       "\n",
       "// Listen for the removal of the full notebook cells\n",
       "var notebookContainer = gd.closest('#notebook-container');\n",
       "if (notebookContainer) {{\n",
       "    x.observe(notebookContainer, {childList: true});\n",
       "}}\n",
       "\n",
       "// Listen for the clearing of the current output cell\n",
       "var outputEl = gd.closest('.output');\n",
       "if (outputEl) {{\n",
       "    x.observe(outputEl, {childList: true});\n",
       "}}\n",
       "\n",
       "                        })                };                });            </script>        </div>"
      ]
     },
     "metadata": {},
     "output_type": "display_data"
    }
   ],
   "source": [
    "#Plot the 3D model of the house\n",
    "fig = go.Figure(data=go.Surface(z=chm_masked))\n",
    "\n",
    "fig.update_scenes(yaxis_autorange=\"reversed\")\n",
    "\n",
    "fig.update_layout(title='3D Canopy Height Model')\n",
    "\n",
    "fig.show()"
   ]
  },
  {
   "cell_type": "code",
   "execution_count": null,
   "id": "weighted-belly",
   "metadata": {},
   "outputs": [],
   "source": []
  }
 ],
 "metadata": {
  "kernelspec": {
   "display_name": "geo_env",
   "language": "python",
   "name": "geo_env"
  },
  "language_info": {
   "codemirror_mode": {
    "name": "ipython",
    "version": 3
   },
   "file_extension": ".py",
   "mimetype": "text/x-python",
   "name": "python",
   "nbconvert_exporter": "python",
   "pygments_lexer": "ipython3",
   "version": "3.9.1"
  }
 },
 "nbformat": 4,
 "nbformat_minor": 5
}
