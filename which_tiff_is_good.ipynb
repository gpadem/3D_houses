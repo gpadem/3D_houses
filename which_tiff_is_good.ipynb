{
 "cells": [
  {
   "cell_type": "code",
   "execution_count": 373,
   "id": "secondary-contractor",
   "metadata": {},
   "outputs": [],
   "source": [
    "import os\n",
    "import numpy as np\n",
    "import pandas as pd\n",
    "import matplotlib.pyplot as plt\n",
    "import geopandas\n",
    "import rasterio\n",
    "from rasterio.mask import mask\n",
    "from rasterio import plot\n",
    "from rasterio.plot import show\n",
    "import requests\n",
    "import json\n",
    "import plotly.graph_objects as go\n",
    "\n",
    "%matplotlib inline"
   ]
  },
  {
   "cell_type": "markdown",
   "id": "still-clock",
   "metadata": {},
   "source": [
    "# Get the address"
   ]
  },
  {
   "cell_type": "code",
   "execution_count": 378,
   "id": "funny-danish",
   "metadata": {},
   "outputs": [
    {
     "name": "stdout",
     "output_type": "stream",
     "text": [
      "Due to connection errors please choose an address from the zones 1,3,7,22,43. Thank you for your understanding.\n"
     ]
    },
    {
     "ename": "KeyboardInterrupt",
     "evalue": "Interrupted by user",
     "output_type": "error",
     "traceback": [
      "\u001b[1;31m---------------------------------------------------------------------------\u001b[0m",
      "\u001b[1;31mKeyboardInterrupt\u001b[0m                         Traceback (most recent call last)",
      "\u001b[1;32m<ipython-input-378-edc0b7498eaa>\u001b[0m in \u001b[0;36m<module>\u001b[1;34m\u001b[0m\n\u001b[0;32m      1\u001b[0m \u001b[0mintroduction_message\u001b[0m \u001b[1;33m=\u001b[0m \u001b[0mprint\u001b[0m\u001b[1;33m(\u001b[0m\u001b[1;34m\"Due to connection errors please choose an address from the zones 1,3,7,22,43. Thank you for your understanding.\"\u001b[0m\u001b[1;33m)\u001b[0m\u001b[1;33m\u001b[0m\u001b[1;33m\u001b[0m\u001b[0m\n\u001b[1;32m----> 2\u001b[1;33m \u001b[0mpostcode\u001b[0m \u001b[1;33m=\u001b[0m \u001b[0minput\u001b[0m\u001b[1;33m(\u001b[0m\u001b[1;34m\"Enter the postcode of the address and hit enter: \"\u001b[0m\u001b[1;33m)\u001b[0m\u001b[1;33m\u001b[0m\u001b[1;33m\u001b[0m\u001b[0m\n\u001b[0m\u001b[0;32m      3\u001b[0m \u001b[0mstreetname\u001b[0m \u001b[1;33m=\u001b[0m \u001b[0minput\u001b[0m\u001b[1;33m(\u001b[0m\u001b[1;34m\"Enter the streetname of the address and hit enter: \"\u001b[0m\u001b[1;33m)\u001b[0m\u001b[1;33m\u001b[0m\u001b[1;33m\u001b[0m\u001b[0m\n\u001b[0;32m      4\u001b[0m \u001b[0mhouse_number\u001b[0m \u001b[1;33m=\u001b[0m \u001b[0minput\u001b[0m\u001b[1;33m(\u001b[0m\u001b[1;34m\"Enter the house number of the address and hit enter: \"\u001b[0m\u001b[1;33m)\u001b[0m\u001b[1;33m\u001b[0m\u001b[1;33m\u001b[0m\u001b[0m\n",
      "\u001b[1;32m~\\anaconda3\\envs\\geo_env\\lib\\site-packages\\ipykernel\\kernelbase.py\u001b[0m in \u001b[0;36mraw_input\u001b[1;34m(self, prompt)\u001b[0m\n\u001b[0;32m    858\u001b[0m                 \u001b[1;34m\"raw_input was called, but this frontend does not support input requests.\"\u001b[0m\u001b[1;33m\u001b[0m\u001b[1;33m\u001b[0m\u001b[0m\n\u001b[0;32m    859\u001b[0m             )\n\u001b[1;32m--> 860\u001b[1;33m         return self._input_request(str(prompt),\n\u001b[0m\u001b[0;32m    861\u001b[0m             \u001b[0mself\u001b[0m\u001b[1;33m.\u001b[0m\u001b[0m_parent_ident\u001b[0m\u001b[1;33m,\u001b[0m\u001b[1;33m\u001b[0m\u001b[1;33m\u001b[0m\u001b[0m\n\u001b[0;32m    862\u001b[0m             \u001b[0mself\u001b[0m\u001b[1;33m.\u001b[0m\u001b[0m_parent_header\u001b[0m\u001b[1;33m,\u001b[0m\u001b[1;33m\u001b[0m\u001b[1;33m\u001b[0m\u001b[0m\n",
      "\u001b[1;32m~\\anaconda3\\envs\\geo_env\\lib\\site-packages\\ipykernel\\kernelbase.py\u001b[0m in \u001b[0;36m_input_request\u001b[1;34m(self, prompt, ident, parent, password)\u001b[0m\n\u001b[0;32m    902\u001b[0m             \u001b[1;32mexcept\u001b[0m \u001b[0mKeyboardInterrupt\u001b[0m\u001b[1;33m:\u001b[0m\u001b[1;33m\u001b[0m\u001b[1;33m\u001b[0m\u001b[0m\n\u001b[0;32m    903\u001b[0m                 \u001b[1;31m# re-raise KeyboardInterrupt, to truncate traceback\u001b[0m\u001b[1;33m\u001b[0m\u001b[1;33m\u001b[0m\u001b[1;33m\u001b[0m\u001b[0m\n\u001b[1;32m--> 904\u001b[1;33m                 \u001b[1;32mraise\u001b[0m \u001b[0mKeyboardInterrupt\u001b[0m\u001b[1;33m(\u001b[0m\u001b[1;34m\"Interrupted by user\"\u001b[0m\u001b[1;33m)\u001b[0m \u001b[1;32mfrom\u001b[0m \u001b[1;32mNone\u001b[0m\u001b[1;33m\u001b[0m\u001b[1;33m\u001b[0m\u001b[0m\n\u001b[0m\u001b[0;32m    905\u001b[0m             \u001b[1;32mexcept\u001b[0m \u001b[0mException\u001b[0m \u001b[1;32mas\u001b[0m \u001b[0me\u001b[0m\u001b[1;33m:\u001b[0m\u001b[1;33m\u001b[0m\u001b[1;33m\u001b[0m\u001b[0m\n\u001b[0;32m    906\u001b[0m                 \u001b[0mself\u001b[0m\u001b[1;33m.\u001b[0m\u001b[0mlog\u001b[0m\u001b[1;33m.\u001b[0m\u001b[0mwarning\u001b[0m\u001b[1;33m(\u001b[0m\u001b[1;34m\"Invalid Message:\"\u001b[0m\u001b[1;33m,\u001b[0m \u001b[0mexc_info\u001b[0m\u001b[1;33m=\u001b[0m\u001b[1;32mTrue\u001b[0m\u001b[1;33m)\u001b[0m\u001b[1;33m\u001b[0m\u001b[1;33m\u001b[0m\u001b[0m\n",
      "\u001b[1;31mKeyboardInterrupt\u001b[0m: Interrupted by user"
     ]
    }
   ],
   "source": [
    "introduction_message = print(\"Due to connection errors please choose an address from the zones 1,3,7,22,43. Thank you for your understanding.\")\n",
    "postcode = input(\"Enter the postcode of the address and hit enter: \")\n",
    "streetname = input(\"Enter the streetname of the address and hit enter: \")\n",
    "house_number = input(\"Enter the house number of the address and hit enter: \")"
   ]
  },
  {
   "cell_type": "code",
   "execution_count": 377,
   "id": "trained-steering",
   "metadata": {},
   "outputs": [
    {
     "name": "stdout",
     "output_type": "stream",
     "text": [
      "Postcode:  9260\n",
      "Streetname:  Bohemen\n",
      "House number:  64\n"
     ]
    }
   ],
   "source": [
    "#Double-check the address\n",
    "print(\"Postcode: \", postcode)\n",
    "print(\"Streetname: \", streetname)\n",
    "print(\"House number: \", house_number)"
   ]
  },
  {
   "cell_type": "code",
   "execution_count": 338,
   "id": "general-overall",
   "metadata": {},
   "outputs": [
    {
     "data": {
      "text/plain": [
       "{'adresMatches': [{'identificator': {'id': 'https://data.vlaanderen.be/id/adres/329127',\n",
       "    'naamruimte': 'https://data.vlaanderen.be/id/adres',\n",
       "    'objectId': '329127',\n",
       "    'versieId': '2016-02-01T10:24:37+01:00'},\n",
       "   'detail': 'https://api.basisregisters.vlaanderen.be/v1/adressen/329127',\n",
       "   'gemeente': {'objectId': '42026',\n",
       "    'detail': 'https://api.basisregisters.vlaanderen.be/v1/gemeenten/42026',\n",
       "    'gemeentenaam': {'geografischeNaam': {'spelling': 'Wichelen',\n",
       "      'taal': 'nl'}}},\n",
       "   'postinfo': {'objectId': '9260',\n",
       "    'detail': 'https://api.basisregisters.vlaanderen.be/v1/postinfo/9260'},\n",
       "   'straatnaam': {'objectId': '66426',\n",
       "    'detail': 'https://api.basisregisters.vlaanderen.be/v1/straatnamen/66426',\n",
       "    'straatnaam': {'geografischeNaam': {'spelling': 'Bohemen', 'taal': 'nl'}}},\n",
       "   'huisnummer': '64',\n",
       "   'volledigAdres': {'geografischeNaam': {'spelling': 'Bohemen 64, 9260 Wichelen',\n",
       "     'taal': 'nl'}},\n",
       "   'adresPositie': {'point': {'coordinates': [122893.7, 188164.09],\n",
       "     'type': 'Point'}},\n",
       "   'positieSpecificatie': 'gebouweenheid',\n",
       "   'positieGeometrieMethode': 'aangeduidDoorBeheerder',\n",
       "   'adresStatus': 'inGebruik',\n",
       "   'officieelToegekend': True,\n",
       "   'adresseerbareObjecten': [{'objectType': 'gebouweenheid',\n",
       "     'objectId': '14426969',\n",
       "     'detail': 'https://api.basisregisters.vlaanderen.be/v1/gebouweenheden/14426969'}],\n",
       "   'score': 100.0}],\n",
       " 'warnings': []}"
      ]
     },
     "execution_count": 338,
     "metadata": {},
     "output_type": "execute_result"
    }
   ],
   "source": [
    "#Get a request from the api to get information about the house\n",
    "r = requests.get(\n",
    "    \"https://api.basisregisters.vlaanderen.be/v1/adresmatch\", params={\"postcode\":int(postcode), \"straatnaam\":streetname, \"huisnummer\":int(house_number) }\n",
    ")\n",
    "house_info_nested = json.loads(r.content)\n",
    "print(house_info_nested)"
   ]
  },
  {
   "cell_type": "code",
   "execution_count": 339,
   "id": "grand-forty",
   "metadata": {},
   "outputs": [
    {
     "data": {
      "text/plain": [
       "dict"
      ]
     },
     "execution_count": 339,
     "metadata": {},
     "output_type": "execute_result"
    }
   ],
   "source": [
    "type(house_info_nested)"
   ]
  },
  {
   "cell_type": "code",
   "execution_count": 340,
   "id": "rental-exhibit",
   "metadata": {},
   "outputs": [],
   "source": [
    "house_info = pd.json_normalize(house_info_nested)"
   ]
  },
  {
   "cell_type": "code",
   "execution_count": 341,
   "id": "vocational-agriculture",
   "metadata": {},
   "outputs": [
    {
     "data": {
      "text/html": [
       "<div>\n",
       "<style scoped>\n",
       "    .dataframe tbody tr th:only-of-type {\n",
       "        vertical-align: middle;\n",
       "    }\n",
       "\n",
       "    .dataframe tbody tr th {\n",
       "        vertical-align: top;\n",
       "    }\n",
       "\n",
       "    .dataframe thead th {\n",
       "        text-align: right;\n",
       "    }\n",
       "</style>\n",
       "<table border=\"1\" class=\"dataframe\">\n",
       "  <thead>\n",
       "    <tr style=\"text-align: right;\">\n",
       "      <th></th>\n",
       "      <th>detail</th>\n",
       "      <th>huisnummer</th>\n",
       "      <th>positieSpecificatie</th>\n",
       "      <th>positieGeometrieMethode</th>\n",
       "      <th>adresStatus</th>\n",
       "      <th>officieelToegekend</th>\n",
       "      <th>adresseerbareObjecten</th>\n",
       "      <th>score</th>\n",
       "      <th>identificator.id</th>\n",
       "      <th>identificator.naamruimte</th>\n",
       "      <th>...</th>\n",
       "      <th>postinfo.objectId</th>\n",
       "      <th>postinfo.detail</th>\n",
       "      <th>straatnaam.objectId</th>\n",
       "      <th>straatnaam.detail</th>\n",
       "      <th>straatnaam.straatnaam.geografischeNaam.spelling</th>\n",
       "      <th>straatnaam.straatnaam.geografischeNaam.taal</th>\n",
       "      <th>volledigAdres.geografischeNaam.spelling</th>\n",
       "      <th>volledigAdres.geografischeNaam.taal</th>\n",
       "      <th>adresPositie.point.coordinates</th>\n",
       "      <th>adresPositie.point.type</th>\n",
       "    </tr>\n",
       "  </thead>\n",
       "  <tbody>\n",
       "    <tr>\n",
       "      <th>0</th>\n",
       "      <td>https://api.basisregisters.vlaanderen.be/v1/ad...</td>\n",
       "      <td>64</td>\n",
       "      <td>gebouweenheid</td>\n",
       "      <td>aangeduidDoorBeheerder</td>\n",
       "      <td>inGebruik</td>\n",
       "      <td>True</td>\n",
       "      <td>[{'objectType': 'gebouweenheid', 'objectId': '...</td>\n",
       "      <td>100.0</td>\n",
       "      <td>https://data.vlaanderen.be/id/adres/329127</td>\n",
       "      <td>https://data.vlaanderen.be/id/adres</td>\n",
       "      <td>...</td>\n",
       "      <td>9260</td>\n",
       "      <td>https://api.basisregisters.vlaanderen.be/v1/po...</td>\n",
       "      <td>66426</td>\n",
       "      <td>https://api.basisregisters.vlaanderen.be/v1/st...</td>\n",
       "      <td>Bohemen</td>\n",
       "      <td>nl</td>\n",
       "      <td>Bohemen 64, 9260 Wichelen</td>\n",
       "      <td>nl</td>\n",
       "      <td>[122893.7, 188164.09]</td>\n",
       "      <td>Point</td>\n",
       "    </tr>\n",
       "  </tbody>\n",
       "</table>\n",
       "<p>1 rows × 26 columns</p>\n",
       "</div>"
      ],
      "text/plain": [
       "                                              detail huisnummer  \\\n",
       "0  https://api.basisregisters.vlaanderen.be/v1/ad...         64   \n",
       "\n",
       "  positieSpecificatie positieGeometrieMethode adresStatus  officieelToegekend  \\\n",
       "0       gebouweenheid  aangeduidDoorBeheerder   inGebruik                True   \n",
       "\n",
       "                               adresseerbareObjecten  score  \\\n",
       "0  [{'objectType': 'gebouweenheid', 'objectId': '...  100.0   \n",
       "\n",
       "                             identificator.id  \\\n",
       "0  https://data.vlaanderen.be/id/adres/329127   \n",
       "\n",
       "              identificator.naamruimte  ... postinfo.objectId  \\\n",
       "0  https://data.vlaanderen.be/id/adres  ...              9260   \n",
       "\n",
       "                                     postinfo.detail straatnaam.objectId  \\\n",
       "0  https://api.basisregisters.vlaanderen.be/v1/po...               66426   \n",
       "\n",
       "                                   straatnaam.detail  \\\n",
       "0  https://api.basisregisters.vlaanderen.be/v1/st...   \n",
       "\n",
       "  straatnaam.straatnaam.geografischeNaam.spelling  \\\n",
       "0                                         Bohemen   \n",
       "\n",
       "  straatnaam.straatnaam.geografischeNaam.taal  \\\n",
       "0                                          nl   \n",
       "\n",
       "  volledigAdres.geografischeNaam.spelling volledigAdres.geografischeNaam.taal  \\\n",
       "0               Bohemen 64, 9260 Wichelen                                  nl   \n",
       "\n",
       "  adresPositie.point.coordinates adresPositie.point.type  \n",
       "0          [122893.7, 188164.09]                   Point  \n",
       "\n",
       "[1 rows x 26 columns]"
      ]
     },
     "execution_count": 341,
     "metadata": {},
     "output_type": "execute_result"
    }
   ],
   "source": [
    "df = pd.json_normalize(house_info.adresMatches[0][0])\n",
    "print(df)"
   ]
  },
  {
   "cell_type": "code",
   "execution_count": 342,
   "id": "federal-roulette",
   "metadata": {},
   "outputs": [
    {
     "data": {
      "text/html": [
       "<div>\n",
       "<style scoped>\n",
       "    .dataframe tbody tr th:only-of-type {\n",
       "        vertical-align: middle;\n",
       "    }\n",
       "\n",
       "    .dataframe tbody tr th {\n",
       "        vertical-align: top;\n",
       "    }\n",
       "\n",
       "    .dataframe thead th {\n",
       "        text-align: right;\n",
       "    }\n",
       "</style>\n",
       "<table border=\"1\" class=\"dataframe\">\n",
       "  <thead>\n",
       "    <tr style=\"text-align: right;\">\n",
       "      <th></th>\n",
       "      <th>objectType</th>\n",
       "      <th>objectId</th>\n",
       "      <th>detail</th>\n",
       "    </tr>\n",
       "  </thead>\n",
       "  <tbody>\n",
       "    <tr>\n",
       "      <th>0</th>\n",
       "      <td>gebouweenheid</td>\n",
       "      <td>14426969</td>\n",
       "      <td>https://api.basisregisters.vlaanderen.be/v1/ge...</td>\n",
       "    </tr>\n",
       "  </tbody>\n",
       "</table>\n",
       "</div>"
      ],
      "text/plain": [
       "      objectType  objectId                                             detail\n",
       "0  gebouweenheid  14426969  https://api.basisregisters.vlaanderen.be/v1/ge..."
      ]
     },
     "execution_count": 342,
     "metadata": {},
     "output_type": "execute_result"
    }
   ],
   "source": [
    "dff = pd.json_normalize(df.adresseerbareObjecten[0][0])\n",
    "dff"
   ]
  },
  {
   "cell_type": "code",
   "execution_count": 343,
   "id": "magnetic-dimension",
   "metadata": {},
   "outputs": [
    {
     "data": {
      "text/plain": [
       "'https://api.basisregisters.vlaanderen.be/v1/gebouweenheden/14426969'"
      ]
     },
     "execution_count": 343,
     "metadata": {},
     "output_type": "execute_result"
    }
   ],
   "source": [
    "dff.detail[0]"
   ]
  },
  {
   "cell_type": "code",
   "execution_count": 344,
   "id": "expected-scheduling",
   "metadata": {},
   "outputs": [
    {
     "name": "stdout",
     "output_type": "stream",
     "text": [
      "{'identificator': {'id': 'https://data.vlaanderen.be/id/gebouweenheid/14426969', 'naamruimte': 'https://data.vlaanderen.be/id/gebouweenheid', 'objectId': '14426969', 'versieId': '2016-02-01T10:24:37+01:00'}, 'geometriePunt': {'point': {'coordinates': [122893.7, 188164.09], 'type': 'Point'}}, 'positieGeometrieMethode': 'aangeduidDoorBeheerder', 'gebouweenheidStatus': 'gerealiseerd', 'functie': 'nietGekend', 'gebouw': {'objectId': '14426710', 'detail': 'https://api.basisregisters.vlaanderen.be/v1/gebouwen/14426710'}, 'adressen': [{'objectId': '329127', 'detail': 'https://api.basisregisters.vlaanderen.be/v1/adressen/329127'}]}\n"
     ]
    }
   ],
   "source": [
    "r = requests.get(dff.detail[0])\n",
    "house_gebouweenheden_nested = json.loads(r.content)\n",
    "print(house_gebouweenheden_nested)"
   ]
  },
  {
   "cell_type": "code",
   "execution_count": 345,
   "id": "applied-rider",
   "metadata": {},
   "outputs": [
    {
     "data": {
      "text/plain": [
       "dict"
      ]
     },
     "execution_count": 345,
     "metadata": {},
     "output_type": "execute_result"
    }
   ],
   "source": [
    "type(house_gebouweenheden_nested)"
   ]
  },
  {
   "cell_type": "code",
   "execution_count": 346,
   "id": "compatible-austria",
   "metadata": {},
   "outputs": [
    {
     "data": {
      "text/html": [
       "<div>\n",
       "<style scoped>\n",
       "    .dataframe tbody tr th:only-of-type {\n",
       "        vertical-align: middle;\n",
       "    }\n",
       "\n",
       "    .dataframe tbody tr th {\n",
       "        vertical-align: top;\n",
       "    }\n",
       "\n",
       "    .dataframe thead th {\n",
       "        text-align: right;\n",
       "    }\n",
       "</style>\n",
       "<table border=\"1\" class=\"dataframe\">\n",
       "  <thead>\n",
       "    <tr style=\"text-align: right;\">\n",
       "      <th></th>\n",
       "      <th>positieGeometrieMethode</th>\n",
       "      <th>gebouweenheidStatus</th>\n",
       "      <th>functie</th>\n",
       "      <th>adressen</th>\n",
       "      <th>identificator.id</th>\n",
       "      <th>identificator.naamruimte</th>\n",
       "      <th>identificator.objectId</th>\n",
       "      <th>identificator.versieId</th>\n",
       "      <th>geometriePunt.point.coordinates</th>\n",
       "      <th>geometriePunt.point.type</th>\n",
       "      <th>gebouw.objectId</th>\n",
       "      <th>gebouw.detail</th>\n",
       "    </tr>\n",
       "  </thead>\n",
       "  <tbody>\n",
       "    <tr>\n",
       "      <th>0</th>\n",
       "      <td>aangeduidDoorBeheerder</td>\n",
       "      <td>gerealiseerd</td>\n",
       "      <td>nietGekend</td>\n",
       "      <td>[{'objectId': '329127', 'detail': 'https://api...</td>\n",
       "      <td>https://data.vlaanderen.be/id/gebouweenheid/14...</td>\n",
       "      <td>https://data.vlaanderen.be/id/gebouweenheid</td>\n",
       "      <td>14426969</td>\n",
       "      <td>2016-02-01T10:24:37+01:00</td>\n",
       "      <td>[122893.7, 188164.09]</td>\n",
       "      <td>Point</td>\n",
       "      <td>14426710</td>\n",
       "      <td>https://api.basisregisters.vlaanderen.be/v1/ge...</td>\n",
       "    </tr>\n",
       "  </tbody>\n",
       "</table>\n",
       "</div>"
      ],
      "text/plain": [
       "  positieGeometrieMethode gebouweenheidStatus     functie  \\\n",
       "0  aangeduidDoorBeheerder        gerealiseerd  nietGekend   \n",
       "\n",
       "                                            adressen  \\\n",
       "0  [{'objectId': '329127', 'detail': 'https://api...   \n",
       "\n",
       "                                    identificator.id  \\\n",
       "0  https://data.vlaanderen.be/id/gebouweenheid/14...   \n",
       "\n",
       "                      identificator.naamruimte identificator.objectId  \\\n",
       "0  https://data.vlaanderen.be/id/gebouweenheid               14426969   \n",
       "\n",
       "      identificator.versieId geometriePunt.point.coordinates  \\\n",
       "0  2016-02-01T10:24:37+01:00           [122893.7, 188164.09]   \n",
       "\n",
       "  geometriePunt.point.type gebouw.objectId  \\\n",
       "0                    Point        14426710   \n",
       "\n",
       "                                       gebouw.detail  \n",
       "0  https://api.basisregisters.vlaanderen.be/v1/ge...  "
      ]
     },
     "execution_count": 346,
     "metadata": {},
     "output_type": "execute_result"
    }
   ],
   "source": [
    "house_gebouweenheden = pd.json_normalize(house_gebouweenheden_nested)\n",
    "house_gebouweenheden"
   ]
  },
  {
   "cell_type": "code",
   "execution_count": 347,
   "id": "downtown-testament",
   "metadata": {},
   "outputs": [],
   "source": [
    "url_gebouwen = house_gebouweenheden['gebouw.detail'][0]"
   ]
  },
  {
   "cell_type": "code",
   "execution_count": 348,
   "id": "spoken-living",
   "metadata": {},
   "outputs": [
    {
     "data": {
      "text/plain": [
       "{'identificator': {'id': 'https://data.vlaanderen.be/id/gebouw/14426710',\n",
       "  'naamruimte': 'https://data.vlaanderen.be/id/gebouw',\n",
       "  'objectId': '14426710',\n",
       "  'versieId': '2017-02-16T18:35:52+01:00'},\n",
       " 'geometriePolygoon': {'polygon': {'coordinates': [[[122896.6095925197,\n",
       "      188152.0293166563],\n",
       "     [122899.43045651913, 188163.07270866632],\n",
       "     [122898.90623252094, 188165.50106066465],\n",
       "     [122898.90143252164, 188165.50234066695],\n",
       "     [122897.465080522, 188165.89248466492],\n",
       "     [122897.85919252038, 188167.3107886687],\n",
       "     [122893.70412051678, 188168.4453166686],\n",
       "     [122893.54277651757, 188168.4894126691],\n",
       "     [122890.73887251318, 188157.6814126596],\n",
       "     [122889.73503251374, 188153.8119086586],\n",
       "     [122896.6095925197, 188152.0293166563]]],\n",
       "   'type': 'Polygon'}},\n",
       " 'geometrieMethode': 'ingemetenGRB',\n",
       " 'gebouwStatus': 'gerealiseerd',\n",
       " 'gebouweenheden': [{'objectId': '14426969',\n",
       "   'detail': 'https://api.basisregisters.vlaanderen.be/v1/gebouweenheden/14426969'}],\n",
       " 'percelen': [{'objectId': '42026B0519-00M007',\n",
       "   'detail': 'https://api.basisregisters.vlaanderen.be/v1/percelen/42026B0519-00M007'}]}"
      ]
     },
     "execution_count": 348,
     "metadata": {},
     "output_type": "execute_result"
    }
   ],
   "source": [
    "r = requests.get(url_gebouwen)\n",
    "house_gebouw_nested = json.loads(r.content)\n",
    "house_gebouw_nested"
   ]
  },
  {
   "cell_type": "code",
   "execution_count": 349,
   "id": "premier-romance",
   "metadata": {},
   "outputs": [
    {
     "data": {
      "text/plain": [
       "{'polygon': {'coordinates': [[[122896.6095925197, 188152.0293166563],\n",
       "    [122899.43045651913, 188163.07270866632],\n",
       "    [122898.90623252094, 188165.50106066465],\n",
       "    [122898.90143252164, 188165.50234066695],\n",
       "    [122897.465080522, 188165.89248466492],\n",
       "    [122897.85919252038, 188167.3107886687],\n",
       "    [122893.70412051678, 188168.4453166686],\n",
       "    [122893.54277651757, 188168.4894126691],\n",
       "    [122890.73887251318, 188157.6814126596],\n",
       "    [122889.73503251374, 188153.8119086586],\n",
       "    [122896.6095925197, 188152.0293166563]]],\n",
       "  'type': 'Polygon'}}"
      ]
     },
     "execution_count": 349,
     "metadata": {},
     "output_type": "execute_result"
    }
   ],
   "source": [
    "house_polygon_nested = house_gebouw_nested[\"geometriePolygoon\"]\n",
    "house_polygon_nested"
   ]
  },
  {
   "cell_type": "code",
   "execution_count": 350,
   "id": "royal-washer",
   "metadata": {},
   "outputs": [],
   "source": [
    "house_polygon = house_polygon_nested.get('polygon')"
   ]
  },
  {
   "cell_type": "code",
   "execution_count": 351,
   "id": "vital-timer",
   "metadata": {},
   "outputs": [
    {
     "data": {
      "text/plain": [
       "dict"
      ]
     },
     "execution_count": 351,
     "metadata": {},
     "output_type": "execute_result"
    }
   ],
   "source": [
    "type(house_polygon)"
   ]
  },
  {
   "cell_type": "code",
   "execution_count": 352,
   "id": "another-nicaragua",
   "metadata": {},
   "outputs": [
    {
     "data": {
      "text/plain": [
       "{'coordinates': [[[122896.6095925197, 188152.0293166563],\n",
       "   [122899.43045651913, 188163.07270866632],\n",
       "   [122898.90623252094, 188165.50106066465],\n",
       "   [122898.90143252164, 188165.50234066695],\n",
       "   [122897.465080522, 188165.89248466492],\n",
       "   [122897.85919252038, 188167.3107886687],\n",
       "   [122893.70412051678, 188168.4453166686],\n",
       "   [122893.54277651757, 188168.4894126691],\n",
       "   [122890.73887251318, 188157.6814126596],\n",
       "   [122889.73503251374, 188153.8119086586],\n",
       "   [122896.6095925197, 188152.0293166563]]],\n",
       " 'type': 'Polygon'}"
      ]
     },
     "execution_count": 352,
     "metadata": {},
     "output_type": "execute_result"
    }
   ],
   "source": [
    "house_polygon"
   ]
  },
  {
   "cell_type": "code",
   "execution_count": 353,
   "id": "canadian-resident",
   "metadata": {},
   "outputs": [
    {
     "data": {
      "text/html": [
       "<div>\n",
       "<style scoped>\n",
       "    .dataframe tbody tr th:only-of-type {\n",
       "        vertical-align: middle;\n",
       "    }\n",
       "\n",
       "    .dataframe tbody tr th {\n",
       "        vertical-align: top;\n",
       "    }\n",
       "\n",
       "    .dataframe thead th {\n",
       "        text-align: right;\n",
       "    }\n",
       "</style>\n",
       "<table border=\"1\" class=\"dataframe\">\n",
       "  <thead>\n",
       "    <tr style=\"text-align: right;\">\n",
       "      <th></th>\n",
       "      <th>geometrieMethode</th>\n",
       "      <th>gebouwStatus</th>\n",
       "      <th>gebouweenheden</th>\n",
       "      <th>percelen</th>\n",
       "      <th>identificator.id</th>\n",
       "      <th>identificator.naamruimte</th>\n",
       "      <th>identificator.objectId</th>\n",
       "      <th>identificator.versieId</th>\n",
       "      <th>geometriePolygoon.polygon.coordinates</th>\n",
       "      <th>geometriePolygoon.polygon.type</th>\n",
       "    </tr>\n",
       "  </thead>\n",
       "  <tbody>\n",
       "    <tr>\n",
       "      <th>0</th>\n",
       "      <td>ingemetenGRB</td>\n",
       "      <td>gerealiseerd</td>\n",
       "      <td>[{'objectId': '14426969', 'detail': 'https://a...</td>\n",
       "      <td>[{'objectId': '42026B0519-00M007', 'detail': '...</td>\n",
       "      <td>https://data.vlaanderen.be/id/gebouw/14426710</td>\n",
       "      <td>https://data.vlaanderen.be/id/gebouw</td>\n",
       "      <td>14426710</td>\n",
       "      <td>2017-02-16T18:35:52+01:00</td>\n",
       "      <td>[[[122896.6095925197, 188152.0293166563], [122...</td>\n",
       "      <td>Polygon</td>\n",
       "    </tr>\n",
       "  </tbody>\n",
       "</table>\n",
       "</div>"
      ],
      "text/plain": [
       "  geometrieMethode  gebouwStatus  \\\n",
       "0     ingemetenGRB  gerealiseerd   \n",
       "\n",
       "                                      gebouweenheden  \\\n",
       "0  [{'objectId': '14426969', 'detail': 'https://a...   \n",
       "\n",
       "                                            percelen  \\\n",
       "0  [{'objectId': '42026B0519-00M007', 'detail': '...   \n",
       "\n",
       "                                identificator.id  \\\n",
       "0  https://data.vlaanderen.be/id/gebouw/14426710   \n",
       "\n",
       "               identificator.naamruimte identificator.objectId  \\\n",
       "0  https://data.vlaanderen.be/id/gebouw               14426710   \n",
       "\n",
       "      identificator.versieId  \\\n",
       "0  2017-02-16T18:35:52+01:00   \n",
       "\n",
       "               geometriePolygoon.polygon.coordinates  \\\n",
       "0  [[[122896.6095925197, 188152.0293166563], [122...   \n",
       "\n",
       "  geometriePolygoon.polygon.type  \n",
       "0                        Polygon  "
      ]
     },
     "execution_count": 353,
     "metadata": {},
     "output_type": "execute_result"
    }
   ],
   "source": [
    "house_gebouw = pd.json_normalize(house_gebouw_nested)\n",
    "house_gebouw"
   ]
  },
  {
   "cell_type": "code",
   "execution_count": 354,
   "id": "published-vertical",
   "metadata": {},
   "outputs": [],
   "source": [
    "house_polygon_list = house_gebouw['geometriePolygoon.polygon.coordinates'][0]"
   ]
  },
  {
   "cell_type": "code",
   "execution_count": 355,
   "id": "conscious-sympathy",
   "metadata": {},
   "outputs": [
    {
     "data": {
      "text/plain": [
       "[[[122896.6095925197, 188152.0293166563],\n",
       "  [122899.43045651913, 188163.07270866632],\n",
       "  [122898.90623252094, 188165.50106066465],\n",
       "  [122898.90143252164, 188165.50234066695],\n",
       "  [122897.465080522, 188165.89248466492],\n",
       "  [122897.85919252038, 188167.3107886687],\n",
       "  [122893.70412051678, 188168.4453166686],\n",
       "  [122893.54277651757, 188168.4894126691],\n",
       "  [122890.73887251318, 188157.6814126596],\n",
       "  [122889.73503251374, 188153.8119086586],\n",
       "  [122896.6095925197, 188152.0293166563]]]"
      ]
     },
     "execution_count": 355,
     "metadata": {},
     "output_type": "execute_result"
    }
   ],
   "source": [
    "house_polygon_list"
   ]
  },
  {
   "cell_type": "code",
   "execution_count": 356,
   "id": "polished-taiwan",
   "metadata": {},
   "outputs": [
    {
     "data": {
      "image/png": "[encoded data removed]",
      "text/plain": [
       "<Figure size 432x288 with 1 Axes>"
      ]
     },
     "metadata": {
      "needs_background": "light"
     },
     "output_type": "display_data"
    }
   ],
   "source": [
    "house_polygon_list[0].append((house_polygon_list[0])[0]) #repeat the first point to create a 'closed loop'\n",
    "\n",
    "xs, ys = zip(*house_polygon_list[0]) #create lists of x and y values\n",
    "\n",
    "plt.figure()\n",
    "plt.plot(xs,ys) \n",
    "plt.show()"
   ]
  },
  {
   "cell_type": "code",
   "execution_count": 357,
   "id": "alleged-picnic",
   "metadata": {},
   "outputs": [],
   "source": [
    "x_min_house = min(xs)\n",
    "x_max_house = max(xs)\n",
    "y_min_house = min(ys)\n",
    "y_max_house = max(ys)"
   ]
  },
  {
   "cell_type": "code",
   "execution_count": 358,
   "id": "average-vertical",
   "metadata": {},
   "outputs": [],
   "source": [
    "df_zone_bounds = pd.DataFrame(columns = ['xmin', 'ymin', 'xmax', 'ymax', 'zone'])\n",
    "for zone in range(1,43):\n",
    "    if zone < 10:\n",
    "        if os.path.isfile('C:/Users/gulce/geoproject/k/DHMVIIDSMRAS1m_k0'+str(zone)+'.tif'):\n",
    "            file = 'C:/Users/gulce/geoproject/k/DHMVIIDSMRAS1m_k0'+str(zone)+'.tif'\n",
    "            raster = rasterio.open(file)\n",
    "            xmin = raster.bounds.left\n",
    "            ymin = raster.bounds.bottom\n",
    "            xmax = raster.bounds.right\n",
    "            ymax = raster.bounds.top\n",
    "            bound = pd.DataFrame([[xmin, ymin, xmax, ymax, zone]], columns = ['xmin', 'ymin', 'xmax', 'ymax', 'zone'])\n",
    "            df = pd.concat([df, bound])\n",
    "    else:\n",
    "        if os.path.isfile('C:/Users/gulce/geoproject/k/DHMVIIDSMRAS1m_k'+str(zone)+'.tif'):\n",
    "            file = 'C:/Users/gulce/geoproject/k/DHMVIIDSMRAS1m_k'+str(zone)+'.tif'\n",
    "            raster = rasterio.open(file)\n",
    "            xmin = raster.bounds.left\n",
    "            ymin = raster.bounds.bottom\n",
    "            xmax = raster.bounds.right\n",
    "            ymax = raster.bounds.top\n",
    "            bound = pd.DataFrame([[xmin, ymin, xmax, ymax, zone]], columns = ['xmin', 'ymin', 'xmax', 'ymax', 'zone'])\n",
    "            df = pd.concat([df, bound])"
   ]
  },
  {
   "cell_type": "code",
   "execution_count": 359,
   "id": "fancy-controversy",
   "metadata": {},
   "outputs": [],
   "source": [
    "df.reset_index(drop=True, inplace=True)"
   ]
  },
  {
   "cell_type": "code",
   "execution_count": 360,
   "id": "clinical-image",
   "metadata": {},
   "outputs": [
    {
     "data": {
      "text/html": [
       "<div>\n",
       "<style scoped>\n",
       "    .dataframe tbody tr th:only-of-type {\n",
       "        vertical-align: middle;\n",
       "    }\n",
       "\n",
       "    .dataframe tbody tr th {\n",
       "        vertical-align: top;\n",
       "    }\n",
       "\n",
       "    .dataframe thead th {\n",
       "        text-align: right;\n",
       "    }\n",
       "</style>\n",
       "<table border=\"1\" class=\"dataframe\">\n",
       "  <thead>\n",
       "    <tr style=\"text-align: right;\">\n",
       "      <th></th>\n",
       "      <th>detail</th>\n",
       "      <th>huisnummer</th>\n",
       "      <th>positieSpecificatie</th>\n",
       "      <th>positieGeometrieMethode</th>\n",
       "      <th>adresStatus</th>\n",
       "      <th>officieelToegekend</th>\n",
       "      <th>adresseerbareObjecten</th>\n",
       "      <th>score</th>\n",
       "      <th>identificator.id</th>\n",
       "      <th>identificator.naamruimte</th>\n",
       "      <th>...</th>\n",
       "      <th>straatnaam.straatnaam.geografischeNaam.taal</th>\n",
       "      <th>volledigAdres.geografischeNaam.spelling</th>\n",
       "      <th>volledigAdres.geografischeNaam.taal</th>\n",
       "      <th>adresPositie.point.coordinates</th>\n",
       "      <th>adresPositie.point.type</th>\n",
       "      <th>xmin</th>\n",
       "      <th>ymin</th>\n",
       "      <th>xmax</th>\n",
       "      <th>ymax</th>\n",
       "      <th>zone</th>\n",
       "    </tr>\n",
       "  </thead>\n",
       "  <tbody>\n",
       "    <tr>\n",
       "      <th>0</th>\n",
       "      <td>https://api.basisregisters.vlaanderen.be/v1/ad...</td>\n",
       "      <td>64</td>\n",
       "      <td>gebouweenheid</td>\n",
       "      <td>aangeduidDoorBeheerder</td>\n",
       "      <td>inGebruik</td>\n",
       "      <td>True</td>\n",
       "      <td>[{'objectType': 'gebouweenheid', 'objectId': '...</td>\n",
       "      <td>100.0</td>\n",
       "      <td>https://data.vlaanderen.be/id/adres/329127</td>\n",
       "      <td>https://data.vlaanderen.be/id/adres</td>\n",
       "      <td>...</td>\n",
       "      <td>nl</td>\n",
       "      <td>Bohemen 64, 9260 Wichelen</td>\n",
       "      <td>nl</td>\n",
       "      <td>[122893.7, 188164.09]</td>\n",
       "      <td>Point</td>\n",
       "      <td>NaN</td>\n",
       "      <td>NaN</td>\n",
       "      <td>NaN</td>\n",
       "      <td>NaN</td>\n",
       "      <td>NaN</td>\n",
       "    </tr>\n",
       "    <tr>\n",
       "      <th>1</th>\n",
       "      <td>NaN</td>\n",
       "      <td>NaN</td>\n",
       "      <td>NaN</td>\n",
       "      <td>NaN</td>\n",
       "      <td>NaN</td>\n",
       "      <td>NaN</td>\n",
       "      <td>NaN</td>\n",
       "      <td>NaN</td>\n",
       "      <td>NaN</td>\n",
       "      <td>NaN</td>\n",
       "      <td>...</td>\n",
       "      <td>NaN</td>\n",
       "      <td>NaN</td>\n",
       "      <td>NaN</td>\n",
       "      <td>NaN</td>\n",
       "      <td>NaN</td>\n",
       "      <td>145000.0</td>\n",
       "      <td>238000.0</td>\n",
       "      <td>162000.0</td>\n",
       "      <td>247000.0</td>\n",
       "      <td>1.0</td>\n",
       "    </tr>\n",
       "    <tr>\n",
       "      <th>2</th>\n",
       "      <td>NaN</td>\n",
       "      <td>NaN</td>\n",
       "      <td>NaN</td>\n",
       "      <td>NaN</td>\n",
       "      <td>NaN</td>\n",
       "      <td>NaN</td>\n",
       "      <td>NaN</td>\n",
       "      <td>NaN</td>\n",
       "      <td>NaN</td>\n",
       "      <td>NaN</td>\n",
       "      <td>...</td>\n",
       "      <td>NaN</td>\n",
       "      <td>NaN</td>\n",
       "      <td>NaN</td>\n",
       "      <td>NaN</td>\n",
       "      <td>NaN</td>\n",
       "      <td>194000.0</td>\n",
       "      <td>238000.0</td>\n",
       "      <td>206000.0</td>\n",
       "      <td>248000.0</td>\n",
       "      <td>3.0</td>\n",
       "    </tr>\n",
       "    <tr>\n",
       "      <th>3</th>\n",
       "      <td>NaN</td>\n",
       "      <td>NaN</td>\n",
       "      <td>NaN</td>\n",
       "      <td>NaN</td>\n",
       "      <td>NaN</td>\n",
       "      <td>NaN</td>\n",
       "      <td>NaN</td>\n",
       "      <td>NaN</td>\n",
       "      <td>NaN</td>\n",
       "      <td>NaN</td>\n",
       "      <td>...</td>\n",
       "      <td>NaN</td>\n",
       "      <td>NaN</td>\n",
       "      <td>NaN</td>\n",
       "      <td>NaN</td>\n",
       "      <td>NaN</td>\n",
       "      <td>130000.0</td>\n",
       "      <td>218000.0</td>\n",
       "      <td>162000.0</td>\n",
       "      <td>238000.0</td>\n",
       "      <td>7.0</td>\n",
       "    </tr>\n",
       "    <tr>\n",
       "      <th>4</th>\n",
       "      <td>NaN</td>\n",
       "      <td>NaN</td>\n",
       "      <td>NaN</td>\n",
       "      <td>NaN</td>\n",
       "      <td>NaN</td>\n",
       "      <td>NaN</td>\n",
       "      <td>NaN</td>\n",
       "      <td>NaN</td>\n",
       "      <td>NaN</td>\n",
       "      <td>NaN</td>\n",
       "      <td>...</td>\n",
       "      <td>NaN</td>\n",
       "      <td>NaN</td>\n",
       "      <td>NaN</td>\n",
       "      <td>NaN</td>\n",
       "      <td>NaN</td>\n",
       "      <td>98000.0</td>\n",
       "      <td>178000.0</td>\n",
       "      <td>130000.0</td>\n",
       "      <td>198000.0</td>\n",
       "      <td>22.0</td>\n",
       "    </tr>\n",
       "  </tbody>\n",
       "</table>\n",
       "<p>5 rows × 31 columns</p>\n",
       "</div>"
      ],
      "text/plain": [
       "                                              detail huisnummer  \\\n",
       "0  https://api.basisregisters.vlaanderen.be/v1/ad...         64   \n",
       "1                                                NaN        NaN   \n",
       "2                                                NaN        NaN   \n",
       "3                                                NaN        NaN   \n",
       "4                                                NaN        NaN   \n",
       "\n",
       "  positieSpecificatie positieGeometrieMethode adresStatus officieelToegekend  \\\n",
       "0       gebouweenheid  aangeduidDoorBeheerder   inGebruik               True   \n",
       "1                 NaN                     NaN         NaN                NaN   \n",
       "2                 NaN                     NaN         NaN                NaN   \n",
       "3                 NaN                     NaN         NaN                NaN   \n",
       "4                 NaN                     NaN         NaN                NaN   \n",
       "\n",
       "                               adresseerbareObjecten  score  \\\n",
       "0  [{'objectType': 'gebouweenheid', 'objectId': '...  100.0   \n",
       "1                                                NaN    NaN   \n",
       "2                                                NaN    NaN   \n",
       "3                                                NaN    NaN   \n",
       "4                                                NaN    NaN   \n",
       "\n",
       "                             identificator.id  \\\n",
       "0  https://data.vlaanderen.be/id/adres/329127   \n",
       "1                                         NaN   \n",
       "2                                         NaN   \n",
       "3                                         NaN   \n",
       "4                                         NaN   \n",
       "\n",
       "              identificator.naamruimte  ...  \\\n",
       "0  https://data.vlaanderen.be/id/adres  ...   \n",
       "1                                  NaN  ...   \n",
       "2                                  NaN  ...   \n",
       "3                                  NaN  ...   \n",
       "4                                  NaN  ...   \n",
       "\n",
       "  straatnaam.straatnaam.geografischeNaam.taal  \\\n",
       "0                                          nl   \n",
       "1                                         NaN   \n",
       "2                                         NaN   \n",
       "3                                         NaN   \n",
       "4                                         NaN   \n",
       "\n",
       "  volledigAdres.geografischeNaam.spelling volledigAdres.geografischeNaam.taal  \\\n",
       "0               Bohemen 64, 9260 Wichelen                                  nl   \n",
       "1                                     NaN                                 NaN   \n",
       "2                                     NaN                                 NaN   \n",
       "3                                     NaN                                 NaN   \n",
       "4                                     NaN                                 NaN   \n",
       "\n",
       "  adresPositie.point.coordinates adresPositie.point.type      xmin      ymin  \\\n",
       "0          [122893.7, 188164.09]                   Point       NaN       NaN   \n",
       "1                            NaN                     NaN  145000.0  238000.0   \n",
       "2                            NaN                     NaN  194000.0  238000.0   \n",
       "3                            NaN                     NaN  130000.0  218000.0   \n",
       "4                            NaN                     NaN   98000.0  178000.0   \n",
       "\n",
       "       xmax      ymax  zone  \n",
       "0       NaN       NaN   NaN  \n",
       "1  162000.0  247000.0   1.0  \n",
       "2  206000.0  248000.0   3.0  \n",
       "3  162000.0  238000.0   7.0  \n",
       "4  130000.0  198000.0  22.0  \n",
       "\n",
       "[5 rows x 31 columns]"
      ]
     },
     "execution_count": 360,
     "metadata": {},
     "output_type": "execute_result"
    }
   ],
   "source": [
    "df"
   ]
  },
  {
   "cell_type": "code",
   "execution_count": 361,
   "id": "accessible-great",
   "metadata": {},
   "outputs": [],
   "source": [
    "zone_bounds = df[(df['xmin']<x_min_house) & (df['xmax']>x_max_house) & (df['ymin']<y_min_house) & (df['ymax']>y_max_house)]"
   ]
  },
  {
   "cell_type": "code",
   "execution_count": 362,
   "id": "historic-facial",
   "metadata": {},
   "outputs": [
    {
     "data": {
      "text/html": [
       "<div>\n",
       "<style scoped>\n",
       "    .dataframe tbody tr th:only-of-type {\n",
       "        vertical-align: middle;\n",
       "    }\n",
       "\n",
       "    .dataframe tbody tr th {\n",
       "        vertical-align: top;\n",
       "    }\n",
       "\n",
       "    .dataframe thead th {\n",
       "        text-align: right;\n",
       "    }\n",
       "</style>\n",
       "<table border=\"1\" class=\"dataframe\">\n",
       "  <thead>\n",
       "    <tr style=\"text-align: right;\">\n",
       "      <th></th>\n",
       "      <th>detail</th>\n",
       "      <th>huisnummer</th>\n",
       "      <th>positieSpecificatie</th>\n",
       "      <th>positieGeometrieMethode</th>\n",
       "      <th>adresStatus</th>\n",
       "      <th>officieelToegekend</th>\n",
       "      <th>adresseerbareObjecten</th>\n",
       "      <th>score</th>\n",
       "      <th>identificator.id</th>\n",
       "      <th>identificator.naamruimte</th>\n",
       "      <th>...</th>\n",
       "      <th>straatnaam.straatnaam.geografischeNaam.taal</th>\n",
       "      <th>volledigAdres.geografischeNaam.spelling</th>\n",
       "      <th>volledigAdres.geografischeNaam.taal</th>\n",
       "      <th>adresPositie.point.coordinates</th>\n",
       "      <th>adresPositie.point.type</th>\n",
       "      <th>xmin</th>\n",
       "      <th>ymin</th>\n",
       "      <th>xmax</th>\n",
       "      <th>ymax</th>\n",
       "      <th>zone</th>\n",
       "    </tr>\n",
       "  </thead>\n",
       "  <tbody>\n",
       "    <tr>\n",
       "      <th>4</th>\n",
       "      <td>NaN</td>\n",
       "      <td>NaN</td>\n",
       "      <td>NaN</td>\n",
       "      <td>NaN</td>\n",
       "      <td>NaN</td>\n",
       "      <td>NaN</td>\n",
       "      <td>NaN</td>\n",
       "      <td>NaN</td>\n",
       "      <td>NaN</td>\n",
       "      <td>NaN</td>\n",
       "      <td>...</td>\n",
       "      <td>NaN</td>\n",
       "      <td>NaN</td>\n",
       "      <td>NaN</td>\n",
       "      <td>NaN</td>\n",
       "      <td>NaN</td>\n",
       "      <td>98000.0</td>\n",
       "      <td>178000.0</td>\n",
       "      <td>130000.0</td>\n",
       "      <td>198000.0</td>\n",
       "      <td>22.0</td>\n",
       "    </tr>\n",
       "  </tbody>\n",
       "</table>\n",
       "<p>1 rows × 31 columns</p>\n",
       "</div>"
      ],
      "text/plain": [
       "  detail huisnummer positieSpecificatie positieGeometrieMethode adresStatus  \\\n",
       "4    NaN        NaN                 NaN                     NaN         NaN   \n",
       "\n",
       "  officieelToegekend adresseerbareObjecten  score identificator.id  \\\n",
       "4                NaN                   NaN    NaN              NaN   \n",
       "\n",
       "  identificator.naamruimte  ... straatnaam.straatnaam.geografischeNaam.taal  \\\n",
       "4                      NaN  ...                                         NaN   \n",
       "\n",
       "  volledigAdres.geografischeNaam.spelling volledigAdres.geografischeNaam.taal  \\\n",
       "4                                     NaN                                 NaN   \n",
       "\n",
       "  adresPositie.point.coordinates adresPositie.point.type     xmin      ymin  \\\n",
       "4                            NaN                     NaN  98000.0  178000.0   \n",
       "\n",
       "       xmax      ymax  zone  \n",
       "4  130000.0  198000.0  22.0  \n",
       "\n",
       "[1 rows x 31 columns]"
      ]
     },
     "execution_count": 362,
     "metadata": {},
     "output_type": "execute_result"
    }
   ],
   "source": [
    "zone_bounds"
   ]
  },
  {
   "cell_type": "code",
   "execution_count": 363,
   "id": "golden-melbourne",
   "metadata": {},
   "outputs": [],
   "source": [
    "zone_number = int(zone_bounds.zone.iloc[0])"
   ]
  },
  {
   "cell_type": "code",
   "execution_count": 364,
   "id": "numerous-delta",
   "metadata": {},
   "outputs": [
    {
     "data": {
      "text/plain": [
       "22"
      ]
     },
     "execution_count": 364,
     "metadata": {},
     "output_type": "execute_result"
    }
   ],
   "source": [
    "zone_number"
   ]
  },
  {
   "cell_type": "code",
   "execution_count": 365,
   "id": "august-wealth",
   "metadata": {},
   "outputs": [],
   "source": [
    "if zone_number < 10:\n",
    "    if os.path.isfile('C:/Users/gulce/geoproject/k/DHMVIIDSMRAS1m_k0'+str(zone_number)+'.tif') and os.path.isfile('C:/Users/gulce/geoproject/k/DHMVIIDTMRAS1m_k0'+str(zone_number)+'.tif') :\n",
    "        dsm_file = 'C:/Users/gulce/geoproject/k/DHMVIIDSMRAS1m_k0'+str(zone_number)+'.tif'\n",
    "        with rasterio.open(dsm_file) as src_dsm:\n",
    "            out_img_dsm, out_transform_dsm = rasterio.mask.mask(src_dsm, [house_polygon], crop=True)\n",
    "            dsm = out_img_dsm[0]\n",
    "        dtm_file = 'C:/Users/gulce/geoproject/k/DHMVIIDTMRAS1m_k0'+str(zone_number)+'.tif'\n",
    "        with rasterio.open(dtm_file) as src_dtm:\n",
    "            out_img_dsm, out_transform_dsm = rasterio.mask.mask(src_dtm, [house_polygon], crop=True)\n",
    "            dtm = out_img_dtm[0]\n",
    "else:\n",
    "    if os.path.isfile('C:/Users/gulce/geoproject/k/DHMVIIDSMRAS1m_k'+str(zone_number)+'.tif') and os.path.isfile('C:/Users/gulce/geoproject/k/DHMVIIDTMRAS1m_k'+str(zone_number)+'.tif'):\n",
    "        dsm_file = 'C:/Users/gulce/geoproject/k/DHMVIIDSMRAS1m_k'+str(zone_number)+'.tif'\n",
    "        with rasterio.open(dsm_file) as src_dsm:\n",
    "            out_img_dsm, out_transform_dsm = rasterio.mask.mask(src_dsm, [house_polygon], crop=True)\n",
    "            dsm = out_img_dsm[0]\n",
    "        dtm_file = 'C:/Users/gulce/geoproject/k/DHMVIIDTMRAS1m_k'+str(zone_number)+'.tif'\n",
    "        with rasterio.open(dtm_file) as src_dtm:\n",
    "            out_img_dtm, out_transform_dtm = rasterio.mask.mask(src_dtm, [house_polygon], crop=True)\n",
    "            dtm = out_img_dtm[0]"
   ]
  },
  {
   "cell_type": "code",
   "execution_count": 366,
   "id": "iraqi-robin",
   "metadata": {},
   "outputs": [],
   "source": [
    "#Calculate Canopy Height Model of the address\n",
    "chm_masked = dsm - dtm"
   ]
  },
  {
   "cell_type": "code",
   "execution_count": 367,
   "id": "liquid-stroke",
   "metadata": {},
   "outputs": [
    {
     "data": {
      "text/plain": [
       "numpy.ndarray"
      ]
     },
     "execution_count": 367,
     "metadata": {},
     "output_type": "execute_result"
    }
   ],
   "source": [
    "type(chm_masked)"
   ]
  },
  {
   "cell_type": "code",
   "execution_count": 368,
   "id": "subject-hanging",
   "metadata": {},
   "outputs": [
    {
     "data": {
      "text/plain": [
       "array([[0.       , 0.       , 0.       , 0.       , 0.       , 0.       ,\n",
       "        0.       , 0.       , 0.       , 0.       , 0.       ],\n",
       "       [0.       , 0.       , 0.       , 0.       , 6.537281 , 6.379492 ,\n",
       "        5.5965443, 5.21     , 0.       , 0.       , 0.       ],\n",
       "       [0.       , 0.       , 0.       , 0.       , 7.2097225, 7.0096483,\n",
       "        6.795971 , 6.620968 , 6.4800005, 0.       , 0.       ],\n",
       "       [0.       , 0.       , 0.       , 0.       , 7.866521 , 7.640835 ,\n",
       "        7.5443172, 7.3297777, 7.1596804, 6.2699995, 0.       ],\n",
       "       [0.       , 0.       , 0.       , 0.       , 8.498211 , 8.299936 ,\n",
       "        8.146637 , 7.991687 , 7.787122 , 7.6499996, 0.       ],\n",
       "       [0.       , 0.       , 0.       , 9.352039 , 9.099062 , 8.937858 ,\n",
       "        8.782893 , 8.630946 , 8.487884 , 8.28     , 0.       ],\n",
       "       [0.       , 0.       , 0.       , 9.961521 , 9.819951 , 9.638346 ,\n",
       "        9.411343 , 9.257753 , 9.118341 , 8.90559  , 0.       ],\n",
       "       [0.       , 0.       , 0.       , 9.229187 , 9.387781 , 9.627967 ,\n",
       "        9.777928 , 9.889434 , 9.721544 , 9.55     , 0.       ],\n",
       "       [0.       , 0.       , 7.5786676, 8.537643 , 8.688318 , 8.88216  ,\n",
       "        9.057225 , 9.250001 , 9.41     , 1.4699993, 0.       ],\n",
       "       [0.       , 0.       , 7.6856747, 7.846444 , 7.9854603, 8.249999 ,\n",
       "        8.360001 , 8.490001 , 8.66     , 1.4899998, 0.       ],\n",
       "       [0.       , 0.       , 7.04     , 7.16     , 7.3200006, 7.54     ,\n",
       "        7.620001 , 7.789999 , 7.9299994, 0.       , 0.       ],\n",
       "       [0.       , 0.       , 6.3499994, 6.4699993, 6.6800013, 6.829999 ,\n",
       "        6.9400005, 7.1100006, 7.3099995, 0.       , 0.       ],\n",
       "       [0.       , 3.       , 3.46     , 5.83     , 6.       , 6.1399994,\n",
       "        6.299999 , 6.4799995, 1.3699999, 0.       , 0.       ],\n",
       "       [0.       , 2.87     , 2.8599997, 2.83     , 2.8100004, 3.04     ,\n",
       "        5.6400003, 5.7599993, 0.       , 0.       , 0.       ],\n",
       "       [0.       , 2.88     , 2.8399992, 2.83     , 2.7999992, 2.7699995,\n",
       "        2.7799997, 2.7399998, 0.       , 0.       , 0.       ],\n",
       "       [0.       , 0.       , 1.8399992, 2.13     , 2.4299994, 2.8500004,\n",
       "        2.7700005, 2.7300005, 0.       , 0.       , 0.       ],\n",
       "       [0.       , 0.       , 0.       , 0.       , 0.       , 0.       ,\n",
       "        2.8000002, 2.2399998, 0.       , 0.       , 0.       ]],\n",
       "      dtype=float32)"
      ]
     },
     "execution_count": 368,
     "metadata": {},
     "output_type": "execute_result"
    }
   ],
   "source": [
    "chm_masked"
   ]
  },
  {
   "cell_type": "code",
   "execution_count": 369,
   "id": "celtic-binding",
   "metadata": {},
   "outputs": [
    {
     "data": {
      "image/png": "[encoded data removed]",
      "text/plain": [
       "<Figure size 720x360 with 1 Axes>"
      ]
     },
     "metadata": {
      "needs_background": "light"
     },
     "output_type": "display_data"
    }
   ],
   "source": [
    "fig, ax = plt.subplots(figsize=(10, 5))\n",
    "\n",
    "chm_plot = ax.imshow(chm_masked)\n",
    "\n",
    "ax.set_title(\"Lidar Canopy Height Model (CHM)\")\n",
    "\n",
    "\n",
    "plt.show()\n"
   ]
  },
  {
   "cell_type": "code",
   "execution_count": 370,
   "id": "arbitrary-school",
   "metadata": {},
   "outputs": [
    {
     "data": {
      "application/vnd.plotly.v1+json": {
       "config": {
        "plotlyServerURL": "https://plot.ly"
       },
       "data": [
        {
         "type": "surface",
         "z": [
          [
           0,
           0,
           0,
           0,
           0,
           0,
           0,
           0,
           0,
           0,
           0
          ],
          [
           0,
           0,
           0,
           0,
           6.537281036376953,
           6.379491806030273,
           5.59654426574707,
           5.210000038146973,
           0,
           0,
           0
          ],
          [
           0,
           0,
           0,
           0,
           7.209722518920898,
           7.009648323059082,
           6.795970916748047,
           6.620967864990234,
           6.4800004959106445,
           0,
           0
          ],
          [
           0,
           0,
           0,
           0,
           7.866520881652832,
           7.640834808349609,
           7.544317245483398,
           7.329777717590332,
           7.159680366516113,
           6.2699995040893555,
           0
          ],
          [
           0,
           0,
           0,
           0,
           8.498210906982422,
           8.299936294555664,
           8.146636962890625,
           7.991686820983887,
           7.787121772766113,
           7.649999618530273,
           0
          ],
          [
           0,
           0,
           0,
           9.352039337158203,
           9.099061965942383,
           8.937857627868652,
           8.782893180847168,
           8.630946159362793,
           8.487883567810059,
           8.279999732971191,
           0
          ],
          [
           0,
           0,
           0,
           9.96152114868164,
           9.819951057434082,
           9.638345718383789,
           9.41134262084961,
           9.257753372192383,
           9.118341445922852,
           8.905590057373047,
           0
          ],
          [
           0,
           0,
           0,
           9.22918701171875,
           9.387781143188477,
           9.62796688079834,
           9.777928352355957,
           9.889433860778809,
           9.72154426574707,
           9.550000190734863,
           0
          ],
          [
           0,
           0,
           7.578667640686035,
           8.537643432617188,
           8.688318252563477,
           8.882160186767578,
           9.057225227355957,
           9.250000953674316,
           9.40999984741211,
           1.4699993133544922,
           0
          ],
          [
           0,
           0,
           7.685674667358398,
           7.846444129943848,
           7.98546028137207,
           8.249999046325684,
           8.360000610351562,
           8.49000072479248,
           8.65999984741211,
           1.489999771118164,
           0
          ],
          [
           0,
           0,
           7.039999961853027,
           7.159999847412109,
           7.320000648498535,
           7.539999961853027,
           7.620000839233398,
           7.789999008178711,
           7.929999351501465,
           0,
           0
          ],
          [
           0,
           0,
           6.34999942779541,
           6.469999313354492,
           6.680001258850098,
           6.829998970031738,
           6.940000534057617,
           7.1100006103515625,
           7.309999465942383,
           0,
           0
          ],
          [
           0,
           3,
           3.4600000381469727,
           5.829999923706055,
           6,
           6.1399993896484375,
           6.299999237060547,
           6.479999542236328,
           1.369999885559082,
           0,
           0
          ],
          [
           0,
           2.869999885559082,
           2.859999656677246,
           2.8299999237060547,
           2.810000419616699,
           3.0399999618530273,
           5.640000343322754,
           5.7599992752075195,
           0,
           0,
           0
          ],
          [
           0,
           2.880000114440918,
           2.839999198913574,
           2.8299999237060547,
           2.799999237060547,
           2.7699995040893555,
           2.7799997329711914,
           2.739999771118164,
           0,
           0,
           0
          ],
          [
           0,
           0,
           1.8399991989135742,
           2.130000114440918,
           2.429999351501465,
           2.8500003814697266,
           2.770000457763672,
           2.7300004959106445,
           0,
           0,
           0
          ],
          [
           0,
           0,
           0,
           0,
           0,
           0,
           2.8000001907348633,
           2.239999771118164,
           0,
           0,
           0
          ]
         ]
        }
       ],
       "layout": {
        "template": {
         "data": {
          "bar": [
           {
            "error_x": {
             "color": "#2a3f5f"
            },
            "error_y": {
             "color": "#2a3f5f"
            },
            "marker": {
             "line": {
              "color": "#E5ECF6",
              "width": 0.5
             }
            },
            "type": "bar"
           }
          ],
          "barpolar": [
           {
            "marker": {
             "line": {
              "color": "#E5ECF6",
              "width": 0.5
             }
            },
            "type": "barpolar"
           }
          ],
          "carpet": [
           {
            "aaxis": {
             "endlinecolor": "#2a3f5f",
             "gridcolor": "white",
             "linecolor": "white",
             "minorgridcolor": "white",
             "startlinecolor": "#2a3f5f"
            },
            "baxis": {
             "endlinecolor": "#2a3f5f",
             "gridcolor": "white",
             "linecolor": "white",
             "minorgridcolor": "white",
             "startlinecolor": "#2a3f5f"
            },
            "type": "carpet"
           }
          ],
          "choropleth": [
           {
            "colorbar": {
             "outlinewidth": 0,
             "ticks": ""
            },
            "type": "choropleth"
           }
          ],
          "contour": [
           {
            "colorbar": {
             "outlinewidth": 0,
             "ticks": ""
            },
            "colorscale": [
             [
              0,
              "#0d0887"
             ],
             [
              0.1111111111111111,
              "#46039f"
             ],
             [
              0.2222222222222222,
              "#7201a8"
             ],
             [
              0.3333333333333333,
              "#9c179e"
             ],
             [
              0.4444444444444444,
              "#bd3786"
             ],
             [
              0.5555555555555556,
              "#d8576b"
             ],
             [
              0.6666666666666666,
              "#ed7953"
             ],
             [
              0.7777777777777778,
              "#fb9f3a"
             ],
             [
              0.8888888888888888,
              "#fdca26"
             ],
             [
              1,
              "#f0f921"
             ]
            ],
            "type": "contour"
           }
          ],
          "contourcarpet": [
           {
            "colorbar": {
             "outlinewidth": 0,
             "ticks": ""
            },
            "type": "contourcarpet"
           }
          ],
          "heatmap": [
           {
            "colorbar": {
             "outlinewidth": 0,
             "ticks": ""
            },
            "colorscale": [
             [
              0,
              "#0d0887"
             ],
             [
              0.1111111111111111,
              "#46039f"
             ],
             [
              0.2222222222222222,
              "#7201a8"
             ],
             [
              0.3333333333333333,
              "#9c179e"
             ],
             [
              0.4444444444444444,
              "#bd3786"
             ],
             [
              0.5555555555555556,
              "#d8576b"
             ],
             [
              0.6666666666666666,
              "#ed7953"
             ],
             [
              0.7777777777777778,
              "#fb9f3a"
             ],
             [
              0.8888888888888888,
              "#fdca26"
             ],
             [
              1,
              "#f0f921"
             ]
            ],
            "type": "heatmap"
           }
          ],
          "heatmapgl": [
           {
            "colorbar": {
             "outlinewidth": 0,
             "ticks": ""
            },
            "colorscale": [
             [
              0,
              "#0d0887"
             ],
             [
              0.1111111111111111,
              "#46039f"
             ],
             [
              0.2222222222222222,
              "#7201a8"
             ],
             [
              0.3333333333333333,
              "#9c179e"
             ],
             [
              0.4444444444444444,
              "#bd3786"
             ],
             [
              0.5555555555555556,
              "#d8576b"
             ],
             [
              0.6666666666666666,
              "#ed7953"
             ],
             [
              0.7777777777777778,
              "#fb9f3a"
             ],
             [
              0.8888888888888888,
              "#fdca26"
             ],
             [
              1,
              "#f0f921"
             ]
            ],
            "type": "heatmapgl"
           }
          ],
          "histogram": [
           {
            "marker": {
             "colorbar": {
              "outlinewidth": 0,
              "ticks": ""
             }
            },
            "type": "histogram"
           }
          ],
          "histogram2d": [
           {
            "colorbar": {
             "outlinewidth": 0,
             "ticks": ""
            },
            "colorscale": [
             [
              0,
              "#0d0887"
             ],
             [
              0.1111111111111111,
              "#46039f"
             ],
             [
              0.2222222222222222,
              "#7201a8"
             ],
             [
              0.3333333333333333,
              "#9c179e"
             ],
             [
              0.4444444444444444,
              "#bd3786"
             ],
             [
              0.5555555555555556,
              "#d8576b"
             ],
             [
              0.6666666666666666,
              "#ed7953"
             ],
             [
              0.7777777777777778,
              "#fb9f3a"
             ],
             [
              0.8888888888888888,
              "#fdca26"
             ],
             [
              1,
              "#f0f921"
             ]
            ],
            "type": "histogram2d"
           }
          ],
          "histogram2dcontour": [
           {
            "colorbar": {
             "outlinewidth": 0,
             "ticks": ""
            },
            "colorscale": [
             [
              0,
              "#0d0887"
             ],
             [
              0.1111111111111111,
              "#46039f"
             ],
             [
              0.2222222222222222,
              "#7201a8"
             ],
             [
              0.3333333333333333,
              "#9c179e"
             ],
             [
              0.4444444444444444,
              "#bd3786"
             ],
             [
              0.5555555555555556,
              "#d8576b"
             ],
             [
              0.6666666666666666,
              "#ed7953"
             ],
             [
              0.7777777777777778,
              "#fb9f3a"
             ],
             [
              0.8888888888888888,
              "#fdca26"
             ],
             [
              1,
              "#f0f921"
             ]
            ],
            "type": "histogram2dcontour"
           }
          ],
          "mesh3d": [
           {
            "colorbar": {
             "outlinewidth": 0,
             "ticks": ""
            },
            "type": "mesh3d"
           }
          ],
          "parcoords": [
           {
            "line": {
             "colorbar": {
              "outlinewidth": 0,
              "ticks": ""
             }
            },
            "type": "parcoords"
           }
          ],
          "pie": [
           {
            "automargin": true,
            "type": "pie"
           }
          ],
          "scatter": [
           {
            "marker": {
             "colorbar": {
              "outlinewidth": 0,
              "ticks": ""
             }
            },
            "type": "scatter"
           }
          ],
          "scatter3d": [
           {
            "line": {
             "colorbar": {
              "outlinewidth": 0,
              "ticks": ""
             }
            },
            "marker": {
             "colorbar": {
              "outlinewidth": 0,
              "ticks": ""
             }
            },
            "type": "scatter3d"
           }
          ],
          "scattercarpet": [
           {
            "marker": {
             "colorbar": {
              "outlinewidth": 0,
              "ticks": ""
             }
            },
            "type": "scattercarpet"
           }
          ],
          "scattergeo": [
           {
            "marker": {
             "colorbar": {
              "outlinewidth": 0,
              "ticks": ""
             }
            },
            "type": "scattergeo"
           }
          ],
          "scattergl": [
           {
            "marker": {
             "colorbar": {
              "outlinewidth": 0,
              "ticks": ""
             }
            },
            "type": "scattergl"
           }
          ],
          "scattermapbox": [
           {
            "marker": {
             "colorbar": {
              "outlinewidth": 0,
              "ticks": ""
             }
            },
            "type": "scattermapbox"
           }
          ],
          "scatterpolar": [
           {
            "marker": {
             "colorbar": {
              "outlinewidth": 0,
              "ticks": ""
             }
            },
            "type": "scatterpolar"
           }
          ],
          "scatterpolargl": [
           {
            "marker": {
             "colorbar": {
              "outlinewidth": 0,
              "ticks": ""
             }
            },
            "type": "scatterpolargl"
           }
          ],
          "scatterternary": [
           {
            "marker": {
             "colorbar": {
              "outlinewidth": 0,
              "ticks": ""
             }
            },
            "type": "scatterternary"
           }
          ],
          "surface": [
           {
            "colorbar": {
             "outlinewidth": 0,
             "ticks": ""
            },
            "colorscale": [
             [
              0,
              "#0d0887"
             ],
             [
              0.1111111111111111,
              "#46039f"
             ],
             [
              0.2222222222222222,
              "#7201a8"
             ],
             [
              0.3333333333333333,
              "#9c179e"
             ],
             [
              0.4444444444444444,
              "#bd3786"
             ],
             [
              0.5555555555555556,
              "#d8576b"
             ],
             [
              0.6666666666666666,
              "#ed7953"
             ],
             [
              0.7777777777777778,
              "#fb9f3a"
             ],
             [
              0.8888888888888888,
              "#fdca26"
             ],
             [
              1,
              "#f0f921"
             ]
            ],
            "type": "surface"
           }
          ],
          "table": [
           {
            "cells": {
             "fill": {
              "color": "#EBF0F8"
             },
             "line": {
              "color": "white"
             }
            },
            "header": {
             "fill": {
              "color": "#C8D4E3"
             },
             "line": {
              "color": "white"
             }
            },
            "type": "table"
           }
          ]
         },
         "layout": {
          "annotationdefaults": {
           "arrowcolor": "#2a3f5f",
           "arrowhead": 0,
           "arrowwidth": 1
          },
          "autotypenumbers": "strict",
          "coloraxis": {
           "colorbar": {
            "outlinewidth": 0,
            "ticks": ""
           }
          },
          "colorscale": {
           "diverging": [
            [
             0,
             "#8e0152"
            ],
            [
             0.1,
             "#c51b7d"
            ],
            [
             0.2,
             "#de77ae"
            ],
            [
             0.3,
             "#f1b6da"
            ],
            [
             0.4,
             "#fde0ef"
            ],
            [
             0.5,
             "#f7f7f7"
            ],
            [
             0.6,
             "#e6f5d0"
            ],
            [
             0.7,
             "#b8e186"
            ],
            [
             0.8,
             "#7fbc41"
            ],
            [
             0.9,
             "#4d9221"
            ],
            [
             1,
             "#276419"
            ]
           ],
           "sequential": [
            [
             0,
             "#0d0887"
            ],
            [
             0.1111111111111111,
             "#46039f"
            ],
            [
             0.2222222222222222,
             "#7201a8"
            ],
            [
             0.3333333333333333,
             "#9c179e"
            ],
            [
             0.4444444444444444,
             "#bd3786"
            ],
            [
             0.5555555555555556,
             "#d8576b"
            ],
            [
             0.6666666666666666,
             "#ed7953"
            ],
            [
             0.7777777777777778,
             "#fb9f3a"
            ],
            [
             0.8888888888888888,
             "#fdca26"
            ],
            [
             1,
             "#f0f921"
            ]
           ],
           "sequentialminus": [
            [
             0,
             "#0d0887"
            ],
            [
             0.1111111111111111,
             "#46039f"
            ],
            [
             0.2222222222222222,
             "#7201a8"
            ],
            [
             0.3333333333333333,
             "#9c179e"
            ],
            [
             0.4444444444444444,
             "#bd3786"
            ],
            [
             0.5555555555555556,
             "#d8576b"
            ],
            [
             0.6666666666666666,
             "#ed7953"
            ],
            [
             0.7777777777777778,
             "#fb9f3a"
            ],
            [
             0.8888888888888888,
             "#fdca26"
            ],
            [
             1,
             "#f0f921"
            ]
           ]
          },
          "colorway": [
           "#636efa",
           "#EF553B",
           "#00cc96",
           "#ab63fa",
           "#FFA15A",
           "#19d3f3",
           "#FF6692",
           "#B6E880",
           "#FF97FF",
           "#FECB52"
          ],
          "font": {
           "color": "#2a3f5f"
          },
          "geo": {
           "bgcolor": "white",
           "lakecolor": "white",
           "landcolor": "#E5ECF6",
           "showlakes": true,
           "showland": true,
           "subunitcolor": "white"
          },
          "hoverlabel": {
           "align": "left"
          },
          "hovermode": "closest",
          "mapbox": {
           "style": "light"
          },
          "paper_bgcolor": "white",
          "plot_bgcolor": "#E5ECF6",
          "polar": {
           "angularaxis": {
            "gridcolor": "white",
            "linecolor": "white",
            "ticks": ""
           },
           "bgcolor": "#E5ECF6",
           "radialaxis": {
            "gridcolor": "white",
            "linecolor": "white",
            "ticks": ""
           }
          },
          "scene": {
           "xaxis": {
            "backgroundcolor": "#E5ECF6",
            "gridcolor": "white",
            "gridwidth": 2,
            "linecolor": "white",
            "showbackground": true,
            "ticks": "",
            "zerolinecolor": "white"
           },
           "yaxis": {
            "backgroundcolor": "#E5ECF6",
            "gridcolor": "white",
            "gridwidth": 2,
            "linecolor": "white",
            "showbackground": true,
            "ticks": "",
            "zerolinecolor": "white"
           },
           "zaxis": {
            "backgroundcolor": "#E5ECF6",
            "gridcolor": "white",
            "gridwidth": 2,
            "linecolor": "white",
            "showbackground": true,
            "ticks": "",
            "zerolinecolor": "white"
           }
          },
          "shapedefaults": {
           "line": {
            "color": "#2a3f5f"
           }
          },
          "ternary": {
           "aaxis": {
            "gridcolor": "white",
            "linecolor": "white",
            "ticks": ""
           },
           "baxis": {
            "gridcolor": "white",
            "linecolor": "white",
            "ticks": ""
           },
           "bgcolor": "#E5ECF6",
           "caxis": {
            "gridcolor": "white",
            "linecolor": "white",
            "ticks": ""
           }
          },
          "title": {
           "x": 0.05
          },
          "xaxis": {
           "automargin": true,
           "gridcolor": "white",
           "linecolor": "white",
           "ticks": "",
           "title": {
            "standoff": 15
           },
           "zerolinecolor": "white",
           "zerolinewidth": 2
          },
          "yaxis": {
           "automargin": true,
           "gridcolor": "white",
           "linecolor": "white",
           "ticks": "",
           "title": {
            "standoff": 15
           },
           "zerolinecolor": "white",
           "zerolinewidth": 2
          }
         }
        },
        "title": {
         "text": "3D Canopy Height Model"
        }
       }
      },
      "text/html": [
       "<div>                            <div id=\"4e7367e7-8a02-43f3-a53a-59df110f469c\" class=\"plotly-graph-div\" style=\"height:525px; width:100%;\"></div>            <script type=\"text/javascript\">                require([\"plotly\"], function(Plotly) {                    window.PLOTLYENV=window.PLOTLYENV || {};                                    if (document.getElementById(\"4e7367e7-8a02-43f3-a53a-59df110f469c\")) {                    Plotly.newPlot(                        \"4e7367e7-8a02-43f3-a53a-59df110f469c\",                        [{\"type\": \"surface\", \"z\": [[0.0, 0.0, 0.0, 0.0, 0.0, 0.0, 0.0, 0.0, 0.0, 0.0, 0.0], [0.0, 0.0, 0.0, 0.0, 6.537281036376953, 6.379491806030273, 5.59654426574707, 5.210000038146973, 0.0, 0.0, 0.0], [0.0, 0.0, 0.0, 0.0, 7.209722518920898, 7.009648323059082, 6.795970916748047, 6.620967864990234, 6.4800004959106445, 0.0, 0.0], [0.0, 0.0, 0.0, 0.0, 7.866520881652832, 7.640834808349609, 7.544317245483398, 7.329777717590332, 7.159680366516113, 6.2699995040893555, 0.0], [0.0, 0.0, 0.0, 0.0, 8.498210906982422, 8.299936294555664, 8.146636962890625, 7.991686820983887, 7.787121772766113, 7.649999618530273, 0.0], [0.0, 0.0, 0.0, 9.352039337158203, 9.099061965942383, 8.937857627868652, 8.782893180847168, 8.630946159362793, 8.487883567810059, 8.279999732971191, 0.0], [0.0, 0.0, 0.0, 9.96152114868164, 9.819951057434082, 9.638345718383789, 9.41134262084961, 9.257753372192383, 9.118341445922852, 8.905590057373047, 0.0], [0.0, 0.0, 0.0, 9.22918701171875, 9.387781143188477, 9.62796688079834, 9.777928352355957, 9.889433860778809, 9.72154426574707, 9.550000190734863, 0.0], [0.0, 0.0, 7.578667640686035, 8.537643432617188, 8.688318252563477, 8.882160186767578, 9.057225227355957, 9.250000953674316, 9.40999984741211, 1.4699993133544922, 0.0], [0.0, 0.0, 7.685674667358398, 7.846444129943848, 7.98546028137207, 8.249999046325684, 8.360000610351562, 8.49000072479248, 8.65999984741211, 1.489999771118164, 0.0], [0.0, 0.0, 7.039999961853027, 7.159999847412109, 7.320000648498535, 7.539999961853027, 7.620000839233398, 7.789999008178711, 7.929999351501465, 0.0, 0.0], [0.0, 0.0, 6.34999942779541, 6.469999313354492, 6.680001258850098, 6.829998970031738, 6.940000534057617, 7.1100006103515625, 7.309999465942383, 0.0, 0.0], [0.0, 3.0, 3.4600000381469727, 5.829999923706055, 6.0, 6.1399993896484375, 6.299999237060547, 6.479999542236328, 1.369999885559082, 0.0, 0.0], [0.0, 2.869999885559082, 2.859999656677246, 2.8299999237060547, 2.810000419616699, 3.0399999618530273, 5.640000343322754, 5.7599992752075195, 0.0, 0.0, 0.0], [0.0, 2.880000114440918, 2.839999198913574, 2.8299999237060547, 2.799999237060547, 2.7699995040893555, 2.7799997329711914, 2.739999771118164, 0.0, 0.0, 0.0], [0.0, 0.0, 1.8399991989135742, 2.130000114440918, 2.429999351501465, 2.8500003814697266, 2.770000457763672, 2.7300004959106445, 0.0, 0.0, 0.0], [0.0, 0.0, 0.0, 0.0, 0.0, 0.0, 2.8000001907348633, 2.239999771118164, 0.0, 0.0, 0.0]]}],                        {\"template\": {\"data\": {\"bar\": [{\"error_x\": {\"color\": \"#2a3f5f\"}, \"error_y\": {\"color\": \"#2a3f5f\"}, \"marker\": {\"line\": {\"color\": \"#E5ECF6\", \"width\": 0.5}}, \"type\": \"bar\"}], \"barpolar\": [{\"marker\": {\"line\": {\"color\": \"#E5ECF6\", \"width\": 0.5}}, \"type\": \"barpolar\"}], \"carpet\": [{\"aaxis\": {\"endlinecolor\": \"#2a3f5f\", \"gridcolor\": \"white\", \"linecolor\": \"white\", \"minorgridcolor\": \"white\", \"startlinecolor\": \"#2a3f5f\"}, \"baxis\": {\"endlinecolor\": \"#2a3f5f\", \"gridcolor\": \"white\", \"linecolor\": \"white\", \"minorgridcolor\": \"white\", \"startlinecolor\": \"#2a3f5f\"}, \"type\": \"carpet\"}], \"choropleth\": [{\"colorbar\": {\"outlinewidth\": 0, \"ticks\": \"\"}, \"type\": \"choropleth\"}], \"contour\": [{\"colorbar\": {\"outlinewidth\": 0, \"ticks\": \"\"}, \"colorscale\": [[0.0, \"#0d0887\"], [0.1111111111111111, \"#46039f\"], [0.2222222222222222, \"#7201a8\"], [0.3333333333333333, \"#9c179e\"], [0.4444444444444444, \"#bd3786\"], [0.5555555555555556, \"#d8576b\"], [0.6666666666666666, \"#ed7953\"], [0.7777777777777778, \"#fb9f3a\"], [0.8888888888888888, \"#fdca26\"], [1.0, \"#f0f921\"]], \"type\": \"contour\"}], \"contourcarpet\": [{\"colorbar\": {\"outlinewidth\": 0, \"ticks\": \"\"}, \"type\": \"contourcarpet\"}], \"heatmap\": [{\"colorbar\": {\"outlinewidth\": 0, \"ticks\": \"\"}, \"colorscale\": [[0.0, \"#0d0887\"], [0.1111111111111111, \"#46039f\"], [0.2222222222222222, \"#7201a8\"], [0.3333333333333333, \"#9c179e\"], [0.4444444444444444, \"#bd3786\"], [0.5555555555555556, \"#d8576b\"], [0.6666666666666666, \"#ed7953\"], [0.7777777777777778, \"#fb9f3a\"], [0.8888888888888888, \"#fdca26\"], [1.0, \"#f0f921\"]], \"type\": \"heatmap\"}], \"heatmapgl\": [{\"colorbar\": {\"outlinewidth\": 0, \"ticks\": \"\"}, \"colorscale\": [[0.0, \"#0d0887\"], [0.1111111111111111, \"#46039f\"], [0.2222222222222222, \"#7201a8\"], [0.3333333333333333, \"#9c179e\"], [0.4444444444444444, \"#bd3786\"], [0.5555555555555556, \"#d8576b\"], [0.6666666666666666, \"#ed7953\"], [0.7777777777777778, \"#fb9f3a\"], [0.8888888888888888, \"#fdca26\"], [1.0, \"#f0f921\"]], \"type\": \"heatmapgl\"}], \"histogram\": [{\"marker\": {\"colorbar\": {\"outlinewidth\": 0, \"ticks\": \"\"}}, \"type\": \"histogram\"}], \"histogram2d\": [{\"colorbar\": {\"outlinewidth\": 0, \"ticks\": \"\"}, \"colorscale\": [[0.0, \"#0d0887\"], [0.1111111111111111, \"#46039f\"], [0.2222222222222222, \"#7201a8\"], [0.3333333333333333, \"#9c179e\"], [0.4444444444444444, \"#bd3786\"], [0.5555555555555556, \"#d8576b\"], [0.6666666666666666, \"#ed7953\"], [0.7777777777777778, \"#fb9f3a\"], [0.8888888888888888, \"#fdca26\"], [1.0, \"#f0f921\"]], \"type\": \"histogram2d\"}], \"histogram2dcontour\": [{\"colorbar\": {\"outlinewidth\": 0, \"ticks\": \"\"}, \"colorscale\": [[0.0, \"#0d0887\"], [0.1111111111111111, \"#46039f\"], [0.2222222222222222, \"#7201a8\"], [0.3333333333333333, \"#9c179e\"], [0.4444444444444444, \"#bd3786\"], [0.5555555555555556, \"#d8576b\"], [0.6666666666666666, \"#ed7953\"], [0.7777777777777778, \"#fb9f3a\"], [0.8888888888888888, \"#fdca26\"], [1.0, \"#f0f921\"]], \"type\": \"histogram2dcontour\"}], \"mesh3d\": [{\"colorbar\": {\"outlinewidth\": 0, \"ticks\": \"\"}, \"type\": \"mesh3d\"}], \"parcoords\": [{\"line\": {\"colorbar\": {\"outlinewidth\": 0, \"ticks\": \"\"}}, \"type\": \"parcoords\"}], \"pie\": [{\"automargin\": true, \"type\": \"pie\"}], \"scatter\": [{\"marker\": {\"colorbar\": {\"outlinewidth\": 0, \"ticks\": \"\"}}, \"type\": \"scatter\"}], \"scatter3d\": [{\"line\": {\"colorbar\": {\"outlinewidth\": 0, \"ticks\": \"\"}}, \"marker\": {\"colorbar\": {\"outlinewidth\": 0, \"ticks\": \"\"}}, \"type\": \"scatter3d\"}], \"scattercarpet\": [{\"marker\": {\"colorbar\": {\"outlinewidth\": 0, \"ticks\": \"\"}}, \"type\": \"scattercarpet\"}], \"scattergeo\": [{\"marker\": {\"colorbar\": {\"outlinewidth\": 0, \"ticks\": \"\"}}, \"type\": \"scattergeo\"}], \"scattergl\": [{\"marker\": {\"colorbar\": {\"outlinewidth\": 0, \"ticks\": \"\"}}, \"type\": \"scattergl\"}], \"scattermapbox\": [{\"marker\": {\"colorbar\": {\"outlinewidth\": 0, \"ticks\": \"\"}}, \"type\": \"scattermapbox\"}], \"scatterpolar\": [{\"marker\": {\"colorbar\": {\"outlinewidth\": 0, \"ticks\": \"\"}}, \"type\": \"scatterpolar\"}], \"scatterpolargl\": [{\"marker\": {\"colorbar\": {\"outlinewidth\": 0, \"ticks\": \"\"}}, \"type\": \"scatterpolargl\"}], \"scatterternary\": [{\"marker\": {\"colorbar\": {\"outlinewidth\": 0, \"ticks\": \"\"}}, \"type\": \"scatterternary\"}], \"surface\": [{\"colorbar\": {\"outlinewidth\": 0, \"ticks\": \"\"}, \"colorscale\": [[0.0, \"#0d0887\"], [0.1111111111111111, \"#46039f\"], [0.2222222222222222, \"#7201a8\"], [0.3333333333333333, \"#9c179e\"], [0.4444444444444444, \"#bd3786\"], [0.5555555555555556, \"#d8576b\"], [0.6666666666666666, \"#ed7953\"], [0.7777777777777778, \"#fb9f3a\"], [0.8888888888888888, \"#fdca26\"], [1.0, \"#f0f921\"]], \"type\": \"surface\"}], \"table\": [{\"cells\": {\"fill\": {\"color\": \"#EBF0F8\"}, \"line\": {\"color\": \"white\"}}, \"header\": {\"fill\": {\"color\": \"#C8D4E3\"}, \"line\": {\"color\": \"white\"}}, \"type\": \"table\"}]}, \"layout\": {\"annotationdefaults\": {\"arrowcolor\": \"#2a3f5f\", \"arrowhead\": 0, \"arrowwidth\": 1}, \"autotypenumbers\": \"strict\", \"coloraxis\": {\"colorbar\": {\"outlinewidth\": 0, \"ticks\": \"\"}}, \"colorscale\": {\"diverging\": [[0, \"#8e0152\"], [0.1, \"#c51b7d\"], [0.2, \"#de77ae\"], [0.3, \"#f1b6da\"], [0.4, \"#fde0ef\"], [0.5, \"#f7f7f7\"], [0.6, \"#e6f5d0\"], [0.7, \"#b8e186\"], [0.8, \"#7fbc41\"], [0.9, \"#4d9221\"], [1, \"#276419\"]], \"sequential\": [[0.0, \"#0d0887\"], [0.1111111111111111, \"#46039f\"], [0.2222222222222222, \"#7201a8\"], [0.3333333333333333, \"#9c179e\"], [0.4444444444444444, \"#bd3786\"], [0.5555555555555556, \"#d8576b\"], [0.6666666666666666, \"#ed7953\"], [0.7777777777777778, \"#fb9f3a\"], [0.8888888888888888, \"#fdca26\"], [1.0, \"#f0f921\"]], \"sequentialminus\": [[0.0, \"#0d0887\"], [0.1111111111111111, \"#46039f\"], [0.2222222222222222, \"#7201a8\"], [0.3333333333333333, \"#9c179e\"], [0.4444444444444444, \"#bd3786\"], [0.5555555555555556, \"#d8576b\"], [0.6666666666666666, \"#ed7953\"], [0.7777777777777778, \"#fb9f3a\"], [0.8888888888888888, \"#fdca26\"], [1.0, \"#f0f921\"]]}, \"colorway\": [\"#636efa\", \"#EF553B\", \"#00cc96\", \"#ab63fa\", \"#FFA15A\", \"#19d3f3\", \"#FF6692\", \"#B6E880\", \"#FF97FF\", \"#FECB52\"], \"font\": {\"color\": \"#2a3f5f\"}, \"geo\": {\"bgcolor\": \"white\", \"lakecolor\": \"white\", \"landcolor\": \"#E5ECF6\", \"showlakes\": true, \"showland\": true, \"subunitcolor\": \"white\"}, \"hoverlabel\": {\"align\": \"left\"}, \"hovermode\": \"closest\", \"mapbox\": {\"style\": \"light\"}, \"paper_bgcolor\": \"white\", \"plot_bgcolor\": \"#E5ECF6\", \"polar\": {\"angularaxis\": {\"gridcolor\": \"white\", \"linecolor\": \"white\", \"ticks\": \"\"}, \"bgcolor\": \"#E5ECF6\", \"radialaxis\": {\"gridcolor\": \"white\", \"linecolor\": \"white\", \"ticks\": \"\"}}, \"scene\": {\"xaxis\": {\"backgroundcolor\": \"#E5ECF6\", \"gridcolor\": \"white\", \"gridwidth\": 2, \"linecolor\": \"white\", \"showbackground\": true, \"ticks\": \"\", \"zerolinecolor\": \"white\"}, \"yaxis\": {\"backgroundcolor\": \"#E5ECF6\", \"gridcolor\": \"white\", \"gridwidth\": 2, \"linecolor\": \"white\", \"showbackground\": true, \"ticks\": \"\", \"zerolinecolor\": \"white\"}, \"zaxis\": {\"backgroundcolor\": \"#E5ECF6\", \"gridcolor\": \"white\", \"gridwidth\": 2, \"linecolor\": \"white\", \"showbackground\": true, \"ticks\": \"\", \"zerolinecolor\": \"white\"}}, \"shapedefaults\": {\"line\": {\"color\": \"#2a3f5f\"}}, \"ternary\": {\"aaxis\": {\"gridcolor\": \"white\", \"linecolor\": \"white\", \"ticks\": \"\"}, \"baxis\": {\"gridcolor\": \"white\", \"linecolor\": \"white\", \"ticks\": \"\"}, \"bgcolor\": \"#E5ECF6\", \"caxis\": {\"gridcolor\": \"white\", \"linecolor\": \"white\", \"ticks\": \"\"}}, \"title\": {\"x\": 0.05}, \"xaxis\": {\"automargin\": true, \"gridcolor\": \"white\", \"linecolor\": \"white\", \"ticks\": \"\", \"title\": {\"standoff\": 15}, \"zerolinecolor\": \"white\", \"zerolinewidth\": 2}, \"yaxis\": {\"automargin\": true, \"gridcolor\": \"white\", \"linecolor\": \"white\", \"ticks\": \"\", \"title\": {\"standoff\": 15}, \"zerolinecolor\": \"white\", \"zerolinewidth\": 2}}}, \"title\": {\"text\": \"3D Canopy Height Model\"}},                        {\"responsive\": true}                    ).then(function(){\n",
       "                            \n",
       "var gd = document.getElementById('4e7367e7-8a02-43f3-a53a-59df110f469c');\n",
       "var x = new MutationObserver(function (mutations, observer) {{\n",
       "        var display = window.getComputedStyle(gd).display;\n",
       "        if (!display || display === 'none') {{\n",
       "            console.log([gd, 'removed!']);\n",
       "            Plotly.purge(gd);\n",
       "            observer.disconnect();\n",
       "        }}\n",
       "}});\n",
       "\n",
       "// Listen for the removal of the full notebook cells\n",
       "var notebookContainer = gd.closest('#notebook-container');\n",
       "if (notebookContainer) {{\n",
       "    x.observe(notebookContainer, {childList: true});\n",
       "}}\n",
       "\n",
       "// Listen for the clearing of the current output cell\n",
       "var outputEl = gd.closest('.output');\n",
       "if (outputEl) {{\n",
       "    x.observe(outputEl, {childList: true});\n",
       "}}\n",
       "\n",
       "                        })                };                });            </script>        </div>"
      ]
     },
     "metadata": {},
     "output_type": "display_data"
    }
   ],
   "source": [
    "fig = go.Figure(data=go.Surface(z=chm_masked))\n",
    "\n",
    "fig.update_layout(title='3D Canopy Height Model')\n",
    "\n",
    "fig.show()"
   ]
  },
  {
   "cell_type": "code",
   "execution_count": null,
   "id": "weighted-belly",
   "metadata": {},
   "outputs": [],
   "source": []
  }
 ],
 "metadata": {
  "kernelspec": {
   "display_name": "geo_env",
   "language": "python",
   "name": "geo_env"
  },
  "language_info": {
   "codemirror_mode": {
    "name": "ipython",
    "version": 3
   },
   "file_extension": ".py",
   "mimetype": "text/x-python",
   "name": "python",
   "nbconvert_exporter": "python",
   "pygments_lexer": "ipython3",
   "version": "3.9.1"
  }
 },
 "nbformat": 4,
 "nbformat_minor": 5
}
