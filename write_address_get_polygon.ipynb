{
 "cells": [
  {
   "cell_type": "code",
   "execution_count": 92,
   "id": "liable-teddy",
   "metadata": {},
   "outputs": [],
   "source": [
    "import os\n",
    "import numpy as np\n",
    "import pandas as pd\n",
    "import matplotlib.pyplot as plt\n",
    "import geopandas\n",
    "import rasterio\n",
    "from rasterio import plot\n",
    "from rasterio.plot import show\n",
    "from rasterio.windows import Window\n",
    "from rasterio.windows import from_bounds\n",
    "from rasterio.enums import Resampling\n",
    "import requests\n",
    "import json"
   ]
  },
  {
   "cell_type": "code",
   "execution_count": 104,
   "id": "cardiac-destination",
   "metadata": {},
   "outputs": [
    {
     "name": "stdout",
     "output_type": "stream",
     "text": [
      "Enter in the following order: postcode,streetname,housenumber 9340 Spoorstraat 45\n"
     ]
    }
   ],
   "source": [
    "postcode, streetname, house_number = input(\"Enter in the following order: postcode,streetname,housenumber \").split()"
   ]
  },
  {
   "cell_type": "code",
   "execution_count": 105,
   "id": "amino-scottish",
   "metadata": {},
   "outputs": [
    {
     "name": "stdout",
     "output_type": "stream",
     "text": [
      "Postcode:  9340\n",
      "Streetname:  Spoorstraat\n",
      "House number:  45\n"
     ]
    }
   ],
   "source": [
    "print(\"Postcode: \", postcode)\n",
    "print(\"Streetname: \", streetname)\n",
    "print(\"House number: \", house_number)"
   ]
  },
  {
   "cell_type": "code",
   "execution_count": 106,
   "id": "disabled-somerset",
   "metadata": {},
   "outputs": [
    {
     "data": {
      "text/plain": [
       "{'adresMatches': [{'identificator': {'id': 'https://data.vlaanderen.be/id/adres/2396989',\n",
       "    'naamruimte': 'https://data.vlaanderen.be/id/adres',\n",
       "    'objectId': '2396989',\n",
       "    'versieId': '2011-04-29T15:22:40+02:00'},\n",
       "   'detail': 'https://api.basisregisters.vlaanderen.be/v1/adressen/2396989',\n",
       "   'gemeente': {'objectId': '41034',\n",
       "    'detail': 'https://api.basisregisters.vlaanderen.be/v1/gemeenten/41034',\n",
       "    'gemeentenaam': {'geografischeNaam': {'spelling': 'Lede', 'taal': 'nl'}}},\n",
       "   'postinfo': {'objectId': '9340',\n",
       "    'detail': 'https://api.basisregisters.vlaanderen.be/v1/postinfo/9340'},\n",
       "   'straatnaam': {'objectId': '63343',\n",
       "    'detail': 'https://api.basisregisters.vlaanderen.be/v1/straatnamen/63343',\n",
       "    'straatnaam': {'geografischeNaam': {'spelling': 'Spoorstraat',\n",
       "      'taal': 'nl'}}},\n",
       "   'huisnummer': '45',\n",
       "   'volledigAdres': {'geografischeNaam': {'spelling': 'Spoorstraat 45, 9340 Lede',\n",
       "     'taal': 'nl'}},\n",
       "   'adresPositie': {'point': {'coordinates': [123581.5, 184188.45],\n",
       "     'type': 'Point'}},\n",
       "   'positieSpecificatie': 'gebouweenheid',\n",
       "   'positieGeometrieMethode': 'afgeleidVanObject',\n",
       "   'adresStatus': 'inGebruik',\n",
       "   'officieelToegekend': True,\n",
       "   'adresseerbareObjecten': [{'objectType': 'gebouweenheid',\n",
       "     'objectId': '9044795',\n",
       "     'detail': 'https://api.basisregisters.vlaanderen.be/v1/gebouweenheden/9044795'},\n",
       "    {'objectType': 'perceel',\n",
       "     'objectId': '41034B0156-00B002',\n",
       "     'detail': 'https://api.basisregisters.vlaanderen.be/v1/percelen/41034B0156-00B002'}],\n",
       "   'score': 100.0}],\n",
       " 'warnings': []}"
      ]
     },
     "execution_count": 106,
     "metadata": {},
     "output_type": "execute_result"
    }
   ],
   "source": [
    "r = requests.get(\n",
    "    \"https://api.basisregisters.vlaanderen.be/v1/adresmatch\", params={\"postcode\":int(postcode), \"straatnaam\":streetname, \"huisnummer\":int(house_number) }\n",
    ")\n",
    "house_info_nested = json.loads(r.content)\n",
    "house_info_nested"
   ]
  },
  {
   "cell_type": "code",
   "execution_count": 107,
   "id": "fleet-steal",
   "metadata": {},
   "outputs": [
    {
     "data": {
      "text/plain": [
       "dict"
      ]
     },
     "execution_count": 107,
     "metadata": {},
     "output_type": "execute_result"
    }
   ],
   "source": [
    "type(house_info_nested)"
   ]
  },
  {
   "cell_type": "code",
   "execution_count": 108,
   "id": "numerous-biography",
   "metadata": {},
   "outputs": [],
   "source": [
    "house_info = pd.json_normalize(house_info_nested)"
   ]
  },
  {
   "cell_type": "code",
   "execution_count": 109,
   "id": "global-lucas",
   "metadata": {},
   "outputs": [
    {
     "data": {
      "text/html": [
       "<div>\n",
       "<style scoped>\n",
       "    .dataframe tbody tr th:only-of-type {\n",
       "        vertical-align: middle;\n",
       "    }\n",
       "\n",
       "    .dataframe tbody tr th {\n",
       "        vertical-align: top;\n",
       "    }\n",
       "\n",
       "    .dataframe thead th {\n",
       "        text-align: right;\n",
       "    }\n",
       "</style>\n",
       "<table border=\"1\" class=\"dataframe\">\n",
       "  <thead>\n",
       "    <tr style=\"text-align: right;\">\n",
       "      <th></th>\n",
       "      <th>detail</th>\n",
       "      <th>huisnummer</th>\n",
       "      <th>positieSpecificatie</th>\n",
       "      <th>positieGeometrieMethode</th>\n",
       "      <th>adresStatus</th>\n",
       "      <th>officieelToegekend</th>\n",
       "      <th>adresseerbareObjecten</th>\n",
       "      <th>score</th>\n",
       "      <th>identificator.id</th>\n",
       "      <th>identificator.naamruimte</th>\n",
       "      <th>...</th>\n",
       "      <th>postinfo.objectId</th>\n",
       "      <th>postinfo.detail</th>\n",
       "      <th>straatnaam.objectId</th>\n",
       "      <th>straatnaam.detail</th>\n",
       "      <th>straatnaam.straatnaam.geografischeNaam.spelling</th>\n",
       "      <th>straatnaam.straatnaam.geografischeNaam.taal</th>\n",
       "      <th>volledigAdres.geografischeNaam.spelling</th>\n",
       "      <th>volledigAdres.geografischeNaam.taal</th>\n",
       "      <th>adresPositie.point.coordinates</th>\n",
       "      <th>adresPositie.point.type</th>\n",
       "    </tr>\n",
       "  </thead>\n",
       "  <tbody>\n",
       "    <tr>\n",
       "      <th>0</th>\n",
       "      <td>https://api.basisregisters.vlaanderen.be/v1/ad...</td>\n",
       "      <td>45</td>\n",
       "      <td>gebouweenheid</td>\n",
       "      <td>afgeleidVanObject</td>\n",
       "      <td>inGebruik</td>\n",
       "      <td>True</td>\n",
       "      <td>[{'objectType': 'gebouweenheid', 'objectId': '...</td>\n",
       "      <td>100.0</td>\n",
       "      <td>https://data.vlaanderen.be/id/adres/2396989</td>\n",
       "      <td>https://data.vlaanderen.be/id/adres</td>\n",
       "      <td>...</td>\n",
       "      <td>9340</td>\n",
       "      <td>https://api.basisregisters.vlaanderen.be/v1/po...</td>\n",
       "      <td>63343</td>\n",
       "      <td>https://api.basisregisters.vlaanderen.be/v1/st...</td>\n",
       "      <td>Spoorstraat</td>\n",
       "      <td>nl</td>\n",
       "      <td>Spoorstraat 45, 9340 Lede</td>\n",
       "      <td>nl</td>\n",
       "      <td>[123581.5, 184188.45]</td>\n",
       "      <td>Point</td>\n",
       "    </tr>\n",
       "  </tbody>\n",
       "</table>\n",
       "<p>1 rows × 26 columns</p>\n",
       "</div>"
      ],
      "text/plain": [
       "                                              detail huisnummer  \\\n",
       "0  https://api.basisregisters.vlaanderen.be/v1/ad...         45   \n",
       "\n",
       "  positieSpecificatie positieGeometrieMethode adresStatus  officieelToegekend  \\\n",
       "0       gebouweenheid       afgeleidVanObject   inGebruik                True   \n",
       "\n",
       "                               adresseerbareObjecten  score  \\\n",
       "0  [{'objectType': 'gebouweenheid', 'objectId': '...  100.0   \n",
       "\n",
       "                              identificator.id  \\\n",
       "0  https://data.vlaanderen.be/id/adres/2396989   \n",
       "\n",
       "              identificator.naamruimte  ... postinfo.objectId  \\\n",
       "0  https://data.vlaanderen.be/id/adres  ...              9340   \n",
       "\n",
       "                                     postinfo.detail straatnaam.objectId  \\\n",
       "0  https://api.basisregisters.vlaanderen.be/v1/po...               63343   \n",
       "\n",
       "                                   straatnaam.detail  \\\n",
       "0  https://api.basisregisters.vlaanderen.be/v1/st...   \n",
       "\n",
       "  straatnaam.straatnaam.geografischeNaam.spelling  \\\n",
       "0                                     Spoorstraat   \n",
       "\n",
       "  straatnaam.straatnaam.geografischeNaam.taal  \\\n",
       "0                                          nl   \n",
       "\n",
       "  volledigAdres.geografischeNaam.spelling volledigAdres.geografischeNaam.taal  \\\n",
       "0               Spoorstraat 45, 9340 Lede                                  nl   \n",
       "\n",
       "  adresPositie.point.coordinates adresPositie.point.type  \n",
       "0          [123581.5, 184188.45]                   Point  \n",
       "\n",
       "[1 rows x 26 columns]"
      ]
     },
     "execution_count": 109,
     "metadata": {},
     "output_type": "execute_result"
    }
   ],
   "source": [
    "df = pd.json_normalize(house_info.adresMatches[0][0])\n",
    "df"
   ]
  },
  {
   "cell_type": "code",
   "execution_count": 110,
   "id": "negative-reward",
   "metadata": {},
   "outputs": [
    {
     "data": {
      "text/html": [
       "<div>\n",
       "<style scoped>\n",
       "    .dataframe tbody tr th:only-of-type {\n",
       "        vertical-align: middle;\n",
       "    }\n",
       "\n",
       "    .dataframe tbody tr th {\n",
       "        vertical-align: top;\n",
       "    }\n",
       "\n",
       "    .dataframe thead th {\n",
       "        text-align: right;\n",
       "    }\n",
       "</style>\n",
       "<table border=\"1\" class=\"dataframe\">\n",
       "  <thead>\n",
       "    <tr style=\"text-align: right;\">\n",
       "      <th></th>\n",
       "      <th>objectType</th>\n",
       "      <th>objectId</th>\n",
       "      <th>detail</th>\n",
       "    </tr>\n",
       "  </thead>\n",
       "  <tbody>\n",
       "    <tr>\n",
       "      <th>0</th>\n",
       "      <td>gebouweenheid</td>\n",
       "      <td>9044795</td>\n",
       "      <td>https://api.basisregisters.vlaanderen.be/v1/ge...</td>\n",
       "    </tr>\n",
       "  </tbody>\n",
       "</table>\n",
       "</div>"
      ],
      "text/plain": [
       "      objectType objectId                                             detail\n",
       "0  gebouweenheid  9044795  https://api.basisregisters.vlaanderen.be/v1/ge..."
      ]
     },
     "execution_count": 110,
     "metadata": {},
     "output_type": "execute_result"
    }
   ],
   "source": [
    "dff = pd.json_normalize(df.adresseerbareObjecten[0][0])\n",
    "dff"
   ]
  },
  {
   "cell_type": "code",
   "execution_count": 111,
   "id": "educational-joshua",
   "metadata": {},
   "outputs": [
    {
     "data": {
      "text/plain": [
       "'https://api.basisregisters.vlaanderen.be/v1/gebouweenheden/9044795'"
      ]
     },
     "execution_count": 111,
     "metadata": {},
     "output_type": "execute_result"
    }
   ],
   "source": [
    "dff.detail[0]"
   ]
  },
  {
   "cell_type": "code",
   "execution_count": 112,
   "id": "available-deficit",
   "metadata": {},
   "outputs": [
    {
     "name": "stdout",
     "output_type": "stream",
     "text": [
      "{'identificator': {'id': 'https://data.vlaanderen.be/id/gebouweenheid/9044795', 'naamruimte': 'https://data.vlaanderen.be/id/gebouweenheid', 'objectId': '9044795', 'versieId': '2011-04-29T15:22:40+02:00'}, 'geometriePunt': {'point': {'coordinates': [123581.5, 184188.45], 'type': 'Point'}}, 'positieGeometrieMethode': 'afgeleidVanObject', 'gebouweenheidStatus': 'gerealiseerd', 'functie': 'nietGekend', 'gebouw': {'objectId': '9043815', 'detail': 'https://api.basisregisters.vlaanderen.be/v1/gebouwen/9043815'}, 'adressen': [{'objectId': '2396989', 'detail': 'https://api.basisregisters.vlaanderen.be/v1/adressen/2396989'}]}\n"
     ]
    }
   ],
   "source": [
    "r = requests.get(dff.detail[0])\n",
    "house_gebouweenheden_nested = json.loads(r.content)\n",
    "print(house_gebouweenheden_nested)"
   ]
  },
  {
   "cell_type": "code",
   "execution_count": 113,
   "id": "coupled-understanding",
   "metadata": {},
   "outputs": [
    {
     "data": {
      "text/plain": [
       "dict"
      ]
     },
     "execution_count": 113,
     "metadata": {},
     "output_type": "execute_result"
    }
   ],
   "source": [
    "type(house_gebouweenheden_nested)"
   ]
  },
  {
   "cell_type": "code",
   "execution_count": 114,
   "id": "eastern-software",
   "metadata": {},
   "outputs": [
    {
     "data": {
      "text/html": [
       "<div>\n",
       "<style scoped>\n",
       "    .dataframe tbody tr th:only-of-type {\n",
       "        vertical-align: middle;\n",
       "    }\n",
       "\n",
       "    .dataframe tbody tr th {\n",
       "        vertical-align: top;\n",
       "    }\n",
       "\n",
       "    .dataframe thead th {\n",
       "        text-align: right;\n",
       "    }\n",
       "</style>\n",
       "<table border=\"1\" class=\"dataframe\">\n",
       "  <thead>\n",
       "    <tr style=\"text-align: right;\">\n",
       "      <th></th>\n",
       "      <th>positieGeometrieMethode</th>\n",
       "      <th>gebouweenheidStatus</th>\n",
       "      <th>functie</th>\n",
       "      <th>adressen</th>\n",
       "      <th>identificator.id</th>\n",
       "      <th>identificator.naamruimte</th>\n",
       "      <th>identificator.objectId</th>\n",
       "      <th>identificator.versieId</th>\n",
       "      <th>geometriePunt.point.coordinates</th>\n",
       "      <th>geometriePunt.point.type</th>\n",
       "      <th>gebouw.objectId</th>\n",
       "      <th>gebouw.detail</th>\n",
       "    </tr>\n",
       "  </thead>\n",
       "  <tbody>\n",
       "    <tr>\n",
       "      <th>0</th>\n",
       "      <td>afgeleidVanObject</td>\n",
       "      <td>gerealiseerd</td>\n",
       "      <td>nietGekend</td>\n",
       "      <td>[{'objectId': '2396989', 'detail': 'https://ap...</td>\n",
       "      <td>https://data.vlaanderen.be/id/gebouweenheid/90...</td>\n",
       "      <td>https://data.vlaanderen.be/id/gebouweenheid</td>\n",
       "      <td>9044795</td>\n",
       "      <td>2011-04-29T15:22:40+02:00</td>\n",
       "      <td>[123581.5, 184188.45]</td>\n",
       "      <td>Point</td>\n",
       "      <td>9043815</td>\n",
       "      <td>https://api.basisregisters.vlaanderen.be/v1/ge...</td>\n",
       "    </tr>\n",
       "  </tbody>\n",
       "</table>\n",
       "</div>"
      ],
      "text/plain": [
       "  positieGeometrieMethode gebouweenheidStatus     functie  \\\n",
       "0       afgeleidVanObject        gerealiseerd  nietGekend   \n",
       "\n",
       "                                            adressen  \\\n",
       "0  [{'objectId': '2396989', 'detail': 'https://ap...   \n",
       "\n",
       "                                    identificator.id  \\\n",
       "0  https://data.vlaanderen.be/id/gebouweenheid/90...   \n",
       "\n",
       "                      identificator.naamruimte identificator.objectId  \\\n",
       "0  https://data.vlaanderen.be/id/gebouweenheid                9044795   \n",
       "\n",
       "      identificator.versieId geometriePunt.point.coordinates  \\\n",
       "0  2011-04-29T15:22:40+02:00           [123581.5, 184188.45]   \n",
       "\n",
       "  geometriePunt.point.type gebouw.objectId  \\\n",
       "0                    Point         9043815   \n",
       "\n",
       "                                       gebouw.detail  \n",
       "0  https://api.basisregisters.vlaanderen.be/v1/ge...  "
      ]
     },
     "execution_count": 114,
     "metadata": {},
     "output_type": "execute_result"
    }
   ],
   "source": [
    "house_gebouweenheden = pd.json_normalize(house_gebouweenheden_nested)\n",
    "house_gebouweenheden"
   ]
  },
  {
   "cell_type": "code",
   "execution_count": 115,
   "id": "driving-couple",
   "metadata": {},
   "outputs": [],
   "source": [
    "url_gebouwen = house_gebouweenheden['gebouw.detail'][0]"
   ]
  },
  {
   "cell_type": "code",
   "execution_count": 116,
   "id": "established-favorite",
   "metadata": {},
   "outputs": [
    {
     "data": {
      "text/plain": [
       "{'identificator': {'id': 'https://data.vlaanderen.be/id/gebouw/9043815',\n",
       "  'naamruimte': 'https://data.vlaanderen.be/id/gebouw',\n",
       "  'objectId': '9043815',\n",
       "  'versieId': '2011-04-29T13:11:28+02:00'},\n",
       " 'geometriePolygoon': {'polygon': {'coordinates': [[[123577.47845698893,\n",
       "      184179.58982590958],\n",
       "     [123579.22296898812, 184181.67456191406],\n",
       "     [123582.27551299334, 184179.19212991],\n",
       "     [123589.99429699779, 184188.29062591866],\n",
       "     [123587.06565699726, 184190.85792192072],\n",
       "     [123589.83660099655, 184194.16416192055],\n",
       "     [123583.58226499707, 184199.39782592654],\n",
       "     [123571.26636098325, 184184.78240191564],\n",
       "     [123577.47845698893, 184179.58982590958]]],\n",
       "   'type': 'Polygon'}},\n",
       " 'geometrieMethode': 'ingemetenGRB',\n",
       " 'gebouwStatus': 'gerealiseerd',\n",
       " 'gebouweenheden': [{'objectId': '9044795',\n",
       "   'detail': 'https://api.basisregisters.vlaanderen.be/v1/gebouweenheden/9044795'}],\n",
       " 'percelen': [{'objectId': '41034B0156-00B002',\n",
       "   'detail': 'https://api.basisregisters.vlaanderen.be/v1/percelen/41034B0156-00B002'}]}"
      ]
     },
     "execution_count": 116,
     "metadata": {},
     "output_type": "execute_result"
    }
   ],
   "source": [
    "r = requests.get(url_gebouwen)\n",
    "house_gebouw_nested = json.loads(r.content)\n",
    "house_gebouw_nested"
   ]
  },
  {
   "cell_type": "code",
   "execution_count": 117,
   "id": "downtown-scott",
   "metadata": {},
   "outputs": [
    {
     "data": {
      "text/html": [
       "<div>\n",
       "<style scoped>\n",
       "    .dataframe tbody tr th:only-of-type {\n",
       "        vertical-align: middle;\n",
       "    }\n",
       "\n",
       "    .dataframe tbody tr th {\n",
       "        vertical-align: top;\n",
       "    }\n",
       "\n",
       "    .dataframe thead th {\n",
       "        text-align: right;\n",
       "    }\n",
       "</style>\n",
       "<table border=\"1\" class=\"dataframe\">\n",
       "  <thead>\n",
       "    <tr style=\"text-align: right;\">\n",
       "      <th></th>\n",
       "      <th>geometrieMethode</th>\n",
       "      <th>gebouwStatus</th>\n",
       "      <th>gebouweenheden</th>\n",
       "      <th>percelen</th>\n",
       "      <th>identificator.id</th>\n",
       "      <th>identificator.naamruimte</th>\n",
       "      <th>identificator.objectId</th>\n",
       "      <th>identificator.versieId</th>\n",
       "      <th>geometriePolygoon.polygon.coordinates</th>\n",
       "      <th>geometriePolygoon.polygon.type</th>\n",
       "    </tr>\n",
       "  </thead>\n",
       "  <tbody>\n",
       "    <tr>\n",
       "      <th>0</th>\n",
       "      <td>ingemetenGRB</td>\n",
       "      <td>gerealiseerd</td>\n",
       "      <td>[{'objectId': '9044795', 'detail': 'https://ap...</td>\n",
       "      <td>[{'objectId': '41034B0156-00B002', 'detail': '...</td>\n",
       "      <td>https://data.vlaanderen.be/id/gebouw/9043815</td>\n",
       "      <td>https://data.vlaanderen.be/id/gebouw</td>\n",
       "      <td>9043815</td>\n",
       "      <td>2011-04-29T13:11:28+02:00</td>\n",
       "      <td>[[[123577.47845698893, 184179.58982590958], [1...</td>\n",
       "      <td>Polygon</td>\n",
       "    </tr>\n",
       "  </tbody>\n",
       "</table>\n",
       "</div>"
      ],
      "text/plain": [
       "  geometrieMethode  gebouwStatus  \\\n",
       "0     ingemetenGRB  gerealiseerd   \n",
       "\n",
       "                                      gebouweenheden  \\\n",
       "0  [{'objectId': '9044795', 'detail': 'https://ap...   \n",
       "\n",
       "                                            percelen  \\\n",
       "0  [{'objectId': '41034B0156-00B002', 'detail': '...   \n",
       "\n",
       "                               identificator.id  \\\n",
       "0  https://data.vlaanderen.be/id/gebouw/9043815   \n",
       "\n",
       "               identificator.naamruimte identificator.objectId  \\\n",
       "0  https://data.vlaanderen.be/id/gebouw                9043815   \n",
       "\n",
       "      identificator.versieId  \\\n",
       "0  2011-04-29T13:11:28+02:00   \n",
       "\n",
       "               geometriePolygoon.polygon.coordinates  \\\n",
       "0  [[[123577.47845698893, 184179.58982590958], [1...   \n",
       "\n",
       "  geometriePolygoon.polygon.type  \n",
       "0                        Polygon  "
      ]
     },
     "execution_count": 117,
     "metadata": {},
     "output_type": "execute_result"
    }
   ],
   "source": [
    "house_gebouw = pd.json_normalize(house_gebouw_nested)\n",
    "house_gebouw"
   ]
  },
  {
   "cell_type": "code",
   "execution_count": 118,
   "id": "partial-commander",
   "metadata": {},
   "outputs": [],
   "source": [
    "house_polygon = house_gebouw['geometriePolygoon.polygon.coordinates'][0]"
   ]
  },
  {
   "cell_type": "code",
   "execution_count": 119,
   "id": "subtle-divide",
   "metadata": {},
   "outputs": [
    {
     "data": {
      "text/plain": [
       "[[[123577.47845698893, 184179.58982590958],\n",
       "  [123579.22296898812, 184181.67456191406],\n",
       "  [123582.27551299334, 184179.19212991],\n",
       "  [123589.99429699779, 184188.29062591866],\n",
       "  [123587.06565699726, 184190.85792192072],\n",
       "  [123589.83660099655, 184194.16416192055],\n",
       "  [123583.58226499707, 184199.39782592654],\n",
       "  [123571.26636098325, 184184.78240191564],\n",
       "  [123577.47845698893, 184179.58982590958]]]"
      ]
     },
     "execution_count": 119,
     "metadata": {},
     "output_type": "execute_result"
    }
   ],
   "source": [
    "house_polygon"
   ]
  },
  {
   "cell_type": "code",
   "execution_count": null,
   "id": "statewide-filename",
   "metadata": {},
   "outputs": [],
   "source": []
  }
 ],
 "metadata": {
  "kernelspec": {
   "display_name": "geo_env",
   "language": "python",
   "name": "geo_env"
  },
  "language_info": {
   "codemirror_mode": {
    "name": "ipython",
    "version": 3
   },
   "file_extension": ".py",
   "mimetype": "text/x-python",
   "name": "python",
   "nbconvert_exporter": "python",
   "pygments_lexer": "ipython3",
   "version": "3.9.1"
  }
 },
 "nbformat": 4,
 "nbformat_minor": 5
}
