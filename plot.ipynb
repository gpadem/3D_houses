{
 "cells": [
  {
   "cell_type": "code",
   "execution_count": null,
   "id": "female-timothy",
   "metadata": {},
   "outputs": [],
   "source": [
    "import os\n",
    "import numpy as np\n",
    "import pandas as pd\n",
    "import matplotlib.pyplot as plt\n",
    "import geopandas\n",
    "import rasterio\n",
    "from rasterio import plot\n",
    "from rasterio.plot import show\n",
    "from rasterio.windows import Window\n",
    "from rasterio.windows import from_bounds\n",
    "from rasterio.enums import Resampling\n",
    "import requests\n",
    "import json"
   ]
  },
  {
   "cell_type": "code",
   "execution_count": null,
   "id": "rocky-deviation",
   "metadata": {},
   "outputs": [],
   "source": [
    "data_dir_dtm = \"C:/Users/gulce/geoproject/DTM-k22\"\n",
    "image_dtm = os.path.join(data_dir_dtm, \"DHMVIIDTMRAS1m_k22.tif\")\n",
    "with rasterio.open(image_dtm) as src:\n",
    "    w = src.read(1, masked=True, window=Window(200, 200, 500, 500))"
   ]
  }
 ],
 "metadata": {
  "kernelspec": {
   "display_name": "geo_env",
   "language": "python",
   "name": "geo_env"
  },
  "language_info": {
   "codemirror_mode": {
    "name": "ipython",
    "version": 3
   },
   "file_extension": ".py",
   "mimetype": "text/x-python",
   "name": "python",
   "nbconvert_exporter": "python",
   "pygments_lexer": "ipython3",
   "version": "3.9.1"
  }
 },
 "nbformat": 4,
 "nbformat_minor": 5
}
